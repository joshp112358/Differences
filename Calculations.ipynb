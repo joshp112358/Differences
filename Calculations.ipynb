{
 "cells": [
  {
   "cell_type": "code",
   "execution_count": 1,
   "metadata": {},
   "outputs": [],
   "source": [
    "# packages\n",
    "import numpy as np\n",
    "import pandas as pd\n",
    "import matplotlib.pyplot as plt\n",
    "import seaborn as sns\n",
    "import scipy.stats as stats\n",
    "from sklearn.linear_model import LinearRegression\n",
    "import statsmodels.api as sm\n",
    "from sklearn.preprocessing import StandardScaler\n",
    "import random\n",
    "import pylab \n",
    "plt.rcParams['figure.figsize'] = [10, 5]\n",
    "from lifelines.statistics import logrank_test"
   ]
  },
  {
   "cell_type": "code",
   "execution_count": 2,
   "metadata": {},
   "outputs": [
    {
     "data": {
      "text/html": [
       "<div>\n",
       "<style scoped>\n",
       "    .dataframe tbody tr th:only-of-type {\n",
       "        vertical-align: middle;\n",
       "    }\n",
       "\n",
       "    .dataframe tbody tr th {\n",
       "        vertical-align: top;\n",
       "    }\n",
       "\n",
       "    .dataframe thead th {\n",
       "        text-align: right;\n",
       "    }\n",
       "</style>\n",
       "<table border=\"1\" class=\"dataframe\">\n",
       "  <thead>\n",
       "    <tr style=\"text-align: right;\">\n",
       "      <th></th>\n",
       "      <th>School</th>\n",
       "      <th>Role</th>\n",
       "      <th>Citations</th>\n",
       "      <th>Earliest_Pub</th>\n",
       "      <th>Field_1</th>\n",
       "      <th>Field_2</th>\n",
       "      <th>Major field</th>\n",
       "      <th>Age</th>\n",
       "      <th>citperyear</th>\n",
       "      <th>citperyear13</th>\n",
       "    </tr>\n",
       "  </thead>\n",
       "  <tbody>\n",
       "    <tr>\n",
       "      <th>0</th>\n",
       "      <td>Arizona State University</td>\n",
       "      <td>Professor</td>\n",
       "      <td>223</td>\n",
       "      <td>1986</td>\n",
       "      <td>Systems theory; control</td>\n",
       "      <td>NaN</td>\n",
       "      <td>Applied Math</td>\n",
       "      <td>34</td>\n",
       "      <td>6.558824</td>\n",
       "      <td>2.277101</td>\n",
       "    </tr>\n",
       "    <tr>\n",
       "      <th>1</th>\n",
       "      <td>Arizona State University</td>\n",
       "      <td>Professor</td>\n",
       "      <td>148</td>\n",
       "      <td>1985</td>\n",
       "      <td>Statistics</td>\n",
       "      <td>NaN</td>\n",
       "      <td>Statistics</td>\n",
       "      <td>35</td>\n",
       "      <td>4.228571</td>\n",
       "      <td>1.455369</td>\n",
       "    </tr>\n",
       "    <tr>\n",
       "      <th>2</th>\n",
       "      <td>Arizona State University</td>\n",
       "      <td>Professor</td>\n",
       "      <td>172</td>\n",
       "      <td>1983</td>\n",
       "      <td>Statistical mechanics, structure of matter</td>\n",
       "      <td>NaN</td>\n",
       "      <td>Mathematical Physics</td>\n",
       "      <td>37</td>\n",
       "      <td>4.648649</td>\n",
       "      <td>1.573498</td>\n",
       "    </tr>\n",
       "    <tr>\n",
       "      <th>3</th>\n",
       "      <td>Arizona State University</td>\n",
       "      <td>Professor</td>\n",
       "      <td>703</td>\n",
       "      <td>1982</td>\n",
       "      <td>Special functions</td>\n",
       "      <td>NaN</td>\n",
       "      <td>Analysis</td>\n",
       "      <td>38</td>\n",
       "      <td>18.500000</td>\n",
       "      <td>6.212074</td>\n",
       "    </tr>\n",
       "    <tr>\n",
       "      <th>4</th>\n",
       "      <td>Arizona State University</td>\n",
       "      <td>Professor</td>\n",
       "      <td>346</td>\n",
       "      <td>1979</td>\n",
       "      <td>Several complex variables and analytic spaces</td>\n",
       "      <td>NaN</td>\n",
       "      <td>Complex Analysis</td>\n",
       "      <td>41</td>\n",
       "      <td>8.439024</td>\n",
       "      <td>2.769855</td>\n",
       "    </tr>\n",
       "  </tbody>\n",
       "</table>\n",
       "</div>"
      ],
      "text/plain": [
       "                     School       Role  Citations  Earliest_Pub  \\\n",
       "0  Arizona State University  Professor        223          1986   \n",
       "1  Arizona State University  Professor        148          1985   \n",
       "2  Arizona State University  Professor        172          1983   \n",
       "3  Arizona State University  Professor        703          1982   \n",
       "4  Arizona State University  Professor        346          1979   \n",
       "\n",
       "                                         Field_1 Field_2  \\\n",
       "0                        Systems theory; control     NaN   \n",
       "1                                     Statistics     NaN   \n",
       "2     Statistical mechanics, structure of matter     NaN   \n",
       "3                              Special functions     NaN   \n",
       "4  Several complex variables and analytic spaces     NaN   \n",
       "\n",
       "            Major field  Age  citperyear  citperyear13  \n",
       "0          Applied Math   34    6.558824      2.277101  \n",
       "1            Statistics   35    4.228571      1.455369  \n",
       "2  Mathematical Physics   37    4.648649      1.573498  \n",
       "3              Analysis   38   18.500000      6.212074  \n",
       "4      Complex Analysis   41    8.439024      2.769855  "
      ]
     },
     "execution_count": 2,
     "metadata": {},
     "output_type": "execute_result"
    }
   ],
   "source": [
    "df = pd.read_csv(\"./classified.csv\")\n",
    "df[\"Age\"]=2020-df[\"Earliest_Pub\"]\n",
    "df[\"citperyear\"] = df[\"Citations\"]/df[\"Age\"]\n",
    "df[\"citperyear13\"] = df[\"Citations\"]/df[\"Age\"]**1.3\n",
    "\n",
    "#to debug\n",
    "df = df[df[\"Age\"]>=0]\n",
    "df.head()"
   ]
  },
  {
   "cell_type": "markdown",
   "metadata": {},
   "source": [
    "## Distribution of Citations and Citations/Year1.3"
   ]
  },
  {
   "cell_type": "code",
   "execution_count": 3,
   "metadata": {},
   "outputs": [
    {
     "data": {
      "text/plain": [
       "Text(0, 0.5, 'Count')"
      ]
     },
     "execution_count": 3,
     "metadata": {},
     "output_type": "execute_result"
    },
    {
     "data": {
      "image/png": "[encoded data removed]",
      "text/plain": [
       "<Figure size 720x360 with 1 Axes>"
      ]
     },
     "metadata": {
      "needs_background": "light"
     },
     "output_type": "display_data"
    }
   ],
   "source": [
    "plt.hist(df.Citations)\n",
    "plt.title(\"Distribution of Citations\")\n",
    "plt.xlabel(\"Citations\")\n",
    "plt.ylabel(\"Count\")"
   ]
  },
  {
   "cell_type": "code",
   "execution_count": 4,
   "metadata": {},
   "outputs": [
    {
     "data": {
      "image/png": "[encoded data removed]",
      "text/plain": [
       "<Figure size 720x360 with 1 Axes>"
      ]
     },
     "metadata": {
      "needs_background": "light"
     },
     "output_type": "display_data"
    }
   ],
   "source": [
    "fig = plt.figure()\n",
    "ax = plt.subplot(111)\n",
    "stats.probplot(df.Citations**0.5, dist=stats.expon, sparams=1.0, plot=ax)\n",
    "plt.show()"
   ]
  },
  {
   "cell_type": "code",
   "execution_count": 5,
   "metadata": {},
   "outputs": [
    {
     "data": {
      "text/plain": [
       "Text(0, 0.5, 'Count')"
      ]
     },
     "execution_count": 5,
     "metadata": {},
     "output_type": "execute_result"
    },
    {
     "data": {
      "image/png": "[encoded data removed]",
      "text/plain": [
       "<Figure size 720x360 with 1 Axes>"
      ]
     },
     "metadata": {
      "needs_background": "light"
     },
     "output_type": "display_data"
    }
   ],
   "source": [
    "plt.hist(df.citperyear13)\n",
    "plt.title(\"Distribution of Citations/Year^1.3\")\n",
    "plt.xlabel(\"Citations\")\n",
    "plt.ylabel(\"Count\")"
   ]
  },
  {
   "cell_type": "code",
   "execution_count": 6,
   "metadata": {
    "scrolled": true
   },
   "outputs": [
    {
     "data": {
      "image/png": "[encoded data removed]",
      "text/plain": [
       "<Figure size 720x360 with 1 Axes>"
      ]
     },
     "metadata": {
      "needs_background": "light"
     },
     "output_type": "display_data"
    }
   ],
   "source": [
    "fig = plt.figure()\n",
    "ax = plt.subplot(111)\n",
    "stats.probplot(df.citperyear13**0.5, dist=stats.expon, sparams=1.0, plot=ax)\n",
    "plt.show()"
   ]
  },
  {
   "cell_type": "code",
   "execution_count": 7,
   "metadata": {},
   "outputs": [
    {
     "data": {
      "image/png": "[encoded data removed]",
      "text/plain": [
       "<Figure size 720x360 with 1 Axes>"
      ]
     },
     "metadata": {
      "needs_background": "light"
     },
     "output_type": "display_data"
    }
   ],
   "source": [
    "fig = plt.figure()\n",
    "ax = plt.subplot(111)\n",
    "stats.probplot(df.citperyear13, dist=stats.expon, sparams=1.0, plot=ax)\n",
    "plt.show()"
   ]
  },
  {
   "cell_type": "markdown",
   "metadata": {},
   "source": [
    "**NOTE** the above is a *better* fit at the low range, and obviously has too fat a tail. So unclear if the 0.5 is needed."
   ]
  },
  {
   "cell_type": "markdown",
   "metadata": {},
   "source": [
    "## Citations and Age"
   ]
  },
  {
   "cell_type": "code",
   "execution_count": 8,
   "metadata": {},
   "outputs": [
    {
     "name": "stdout",
     "output_type": "stream",
     "text": [
      "slope: 0.03383062665247128\n",
      "intercept: 8.396234644794568\n",
      "r 0.029228386522290237\n",
      "pvalue 0.12157561478012142\n",
      "[-0.008985684829031844, 0.07664693813397441]\n"
     ]
    }
   ],
   "source": [
    "slope, intercept, r_value, p_value, std_err = stats.linregress(df[\"Age\"],df[\"citperyear13\"])\n",
    "\n",
    "confidence_interval = 1.96*std_err\n",
    "print(\"slope:\", slope)\n",
    "print(\"intercept:\", intercept)\n",
    "print(\"r\", r_value)\n",
    "print(\"pvalue\", p_value)\n",
    "print([slope-confidence_interval, slope+confidence_interval])"
   ]
  },
  {
   "cell_type": "code",
   "execution_count": null,
   "metadata": {},
   "outputs": [],
   "source": []
  },
  {
   "cell_type": "code",
   "execution_count": 9,
   "metadata": {},
   "outputs": [],
   "source": [
    "x = np.linspace(0,70,1000)\n",
    "y = slope*x + intercept"
   ]
  },
  {
   "cell_type": "code",
   "execution_count": 10,
   "metadata": {},
   "outputs": [
    {
     "data": {
      "text/plain": [
       "Text(0, 0.5, 'Citations/Year^1.3')"
      ]
     },
     "execution_count": 10,
     "metadata": {},
     "output_type": "execute_result"
    },
    {
     "data": {
      "image/png": "[encoded data removed]",
      "text/plain": [
       "<Figure size 720x360 with 1 Axes>"
      ]
     },
     "metadata": {
      "needs_background": "light"
     },
     "output_type": "display_data"
    }
   ],
   "source": [
    "plt.scatter(df[\"Age\"],df[\"citperyear13\"])\n",
    "plt.plot(x,y,color='red')\n",
    "plt.title(\"Citations/Year^1.3 vs Year\")\n",
    "plt.xlabel(\"Year\")\n",
    "plt.ylabel(\"Citations/Year^1.3\")"
   ]
  },
  {
   "cell_type": "markdown",
   "metadata": {},
   "source": [
    "## Hasse Linear Models is in RMarkdown"
   ]
  },
  {
   "cell_type": "markdown",
   "metadata": {},
   "source": [
    "## Field Means and Medians"
   ]
  },
  {
   "cell_type": "code",
   "execution_count": 11,
   "metadata": {},
   "outputs": [
    {
     "data": {
      "text/plain": [
       "                 Major field         \n",
       "mean  Citations  PDE                     1472.069892\n",
       "                 Computer Science        1260.444444\n",
       "                 Probability             1165.919708\n",
       "                 Harmonic analysis       1120.015000\n",
       "                 Combinatorics           1023.241379\n",
       "                 Analysis                 977.177778\n",
       "                 Algebra                  934.422727\n",
       "                 Geometry                 890.684887\n",
       "                 Algebraic Geometry       846.621302\n",
       "                 Number theory            742.660377\n",
       "                 Group theory             686.382716\n",
       "                 Applied Math             646.602007\n",
       "                 Mathematical Physics     643.010417\n",
       "                 Logic                    634.000000\n",
       "                 Complex Analysis         612.860870\n",
       "                 Dynamics                 560.441176\n",
       "                 Lie Groups               512.023256\n",
       "                 Statistics               220.734940\n",
       "                 History                   74.000000\n",
       "                 Other                      5.000000\n",
       "dtype: float64"
      ]
     },
     "execution_count": 11,
     "metadata": {},
     "output_type": "execute_result"
    }
   ],
   "source": [
    "field = pd.pivot_table(df,index=[\"Major field\"],values=[\"Citations\"],aggfunc=[np.mean])\n",
    "# change to median\n",
    "field.unstack().sort_values(ascending=False)"
   ]
  },
  {
   "cell_type": "code",
   "execution_count": 12,
   "metadata": {},
   "outputs": [
    {
     "data": {
      "text/plain": [
       "                Major field         \n",
       "std  Citations  Computer Science        2223.058982\n",
       "                PDE                     2182.451039\n",
       "                Analysis                1951.947306\n",
       "                Combinatorics           1673.528793\n",
       "                Geometry                1486.717175\n",
       "                Probability             1401.065551\n",
       "                Harmonic analysis       1336.622119\n",
       "                Algebra                 1310.588372\n",
       "                Algebraic Geometry      1308.796179\n",
       "                Group theory            1151.643962\n",
       "                Applied Math             976.984347\n",
       "                Number theory            920.306566\n",
       "                Complex Analysis         725.153328\n",
       "                Mathematical Physics     716.407169\n",
       "                Logic                    690.139787\n",
       "                Lie Groups               590.594877\n",
       "                Dynamics                 555.169287\n",
       "                Statistics               331.145465\n",
       "                History                  104.651804\n",
       "                Other                      6.618157\n",
       "dtype: float64"
      ]
     },
     "execution_count": 12,
     "metadata": {},
     "output_type": "execute_result"
    }
   ],
   "source": [
    "field = pd.pivot_table(df,index=[\"Major field\"],values=[\"Citations\"],aggfunc=[np.std])\n",
    "# change to median\n",
    "field.unstack().sort_values(ascending=False)"
   ]
  },
  {
   "cell_type": "code",
   "execution_count": 13,
   "metadata": {},
   "outputs": [
    {
     "data": {
      "text/plain": [
       "                    Major field         \n",
       "mean  citperyear13  PDE                     14.576598\n",
       "                    Computer Science        14.080446\n",
       "                    Probability             12.062677\n",
       "                    Harmonic analysis       10.514860\n",
       "                    Combinatorics           10.084229\n",
       "                    Algebraic Geometry       9.509696\n",
       "                    Algebra                  9.116993\n",
       "                    Geometry                 8.868060\n",
       "                    Number theory            7.382772\n",
       "                    Dynamics                 7.326294\n",
       "                    Mathematical Physics     7.248634\n",
       "                    Analysis                 7.148419\n",
       "                    Applied Math             6.870968\n",
       "                    Group theory             6.737234\n",
       "                    Logic                    6.317548\n",
       "                    Complex Analysis         6.170996\n",
       "                    Lie Groups               4.780825\n",
       "                    Statistics               3.104116\n",
       "                    History                  0.676970\n",
       "                    Other                    0.074356\n",
       "dtype: float64"
      ]
     },
     "execution_count": 13,
     "metadata": {},
     "output_type": "execute_result"
    }
   ],
   "source": [
    "field = pd.pivot_table(df,index=[\"Major field\"],values=[\"citperyear13\"],aggfunc=[np.mean])\n",
    "\n",
    "field.unstack().sort_values(ascending=False)"
   ]
  },
  {
   "cell_type": "code",
   "execution_count": 14,
   "metadata": {},
   "outputs": [
    {
     "data": {
      "text/plain": [
       "                   Major field         \n",
       "std  citperyear13  Computer Science        20.857520\n",
       "                   PDE                     19.785503\n",
       "                   Probability             12.333283\n",
       "                   Combinatorics           12.215903\n",
       "                   Analysis                11.391800\n",
       "                   Harmonic analysis       10.596417\n",
       "                   Algebra                 10.345516\n",
       "                   Geometry                10.281738\n",
       "                   Algebraic Geometry       9.874176\n",
       "                   Applied Math             9.415263\n",
       "                   Mathematical Physics     8.159933\n",
       "                   Group theory             7.618429\n",
       "                   Number theory            7.229791\n",
       "                   Complex Analysis         6.343993\n",
       "                   Dynamics                 6.200505\n",
       "                   Logic                    5.485170\n",
       "                   Statistics               4.593226\n",
       "                   Lie Groups               4.358559\n",
       "                   History                  0.957380\n",
       "                   Other                    0.090318\n",
       "dtype: float64"
      ]
     },
     "execution_count": 14,
     "metadata": {},
     "output_type": "execute_result"
    }
   ],
   "source": [
    "field = pd.pivot_table(df,index=[\"Major field\"],values=[\"citperyear13\"],aggfunc=[np.std])\n",
    "\n",
    "field.unstack().sort_values(ascending=False)"
   ]
  },
  {
   "cell_type": "code",
   "execution_count": 15,
   "metadata": {},
   "outputs": [
    {
     "data": {
      "text/plain": [
       "                   Major field         \n",
       "len  citperyear13  PDE                     372.0\n",
       "                   Geometry                311.0\n",
       "                   Applied Math            299.0\n",
       "                   Computer Science        225.0\n",
       "                   Algebra                 220.0\n",
       "                   Harmonic analysis       200.0\n",
       "                   Algebraic Geometry      169.0\n",
       "                   Number theory           159.0\n",
       "                   Probability             137.0\n",
       "                   Combinatorics           116.0\n",
       "                   Complex Analysis        115.0\n",
       "                   Mathematical Physics     96.0\n",
       "                   Statistics               83.0\n",
       "                   Group theory             81.0\n",
       "                   Dynamics                 68.0\n",
       "                   Logic                    55.0\n",
       "                   Analysis                 45.0\n",
       "                   Lie Groups               43.0\n",
       "                   Other                    11.0\n",
       "                   History                   2.0\n",
       "dtype: float64"
      ]
     },
     "execution_count": 15,
     "metadata": {},
     "output_type": "execute_result"
    }
   ],
   "source": [
    "count = pd.pivot_table(df,index=[\"Major field\"],values=[\"citperyear13\"],aggfunc=[len])\n",
    "count.unstack().sort_values(ascending=False)[:30]"
   ]
  },
  {
   "cell_type": "code",
   "execution_count": 16,
   "metadata": {},
   "outputs": [],
   "source": [
    "PDE = df[df[\"Major field\"]==\"PDE\"][\"citperyear13\"].values\n",
    "CS = df[df[\"Major field\"]==\"Computer Science\"][\"citperyear13\"].values\n",
    "Probability = df[df[\"Major field\"]==\"Probability\"][\"citperyear13\"].values\n",
    "Harmonic_Analysis = df[df[\"Major field\"]==\"Harmonic analysis\"][\"citperyear13\"].values\n",
    "Comb = df[df[\"Major field\"]==\"Combinatorics\"][\"citperyear13\"].values\n",
    "Algebra = df[df[\"Major field\"]==\"Algebra\"][\"citperyear13\"].values\n",
    "Alg_Geometry = df[df[\"Major field\"]==\"Algebraic Geometry\"][\"citperyear13\"].values\n",
    "Geometry = df[df[\"Major field\"]==\"Geometry\"][\"citperyear13\"].values\n",
    "Number_Theory = df[df[\"Major field\"]==\"Number theory\"][\"citperyear13\"].values\n",
    "Dynamics = df[df[\"Major field\"]==\"Dynamics\"][\"citperyear13\"].values\n",
    "M_Physics = df[df[\"Major field\"]==\"Mathematical Physics\"][\"citperyear13\"].values\n",
    "Analysis = df[df[\"Major field\"]==\"Analysis\"][\"citperyear13\"].values\n",
    "Applied_Math = df[df[\"Major field\"]==\"Applied Math\"][\"citperyear13\"].values\n",
    "Groups = df[df[\"Major field\"]==\"Group theory\"][\"citperyear13\"].values\n",
    "Logic = df[df[\"Major field\"]==\"Logic\"][\"citperyear13\"].values\n",
    "Complex_Analysis = df[df[\"Major field\"]==\"Complex Analysis\"][\"citperyear13\"].values\n",
    "Lie_Groups = df[df[\"Major field\"]==\"Lie Groups\"][\"citperyear13\"].values\n",
    "Statistics = df[df[\"Major field\"]==\"Statistics\"][\"citperyear13\"].values\n",
    "History = df[df[\"Major field\"]==\"History\"][\"citperyear13\"].values\n",
    "Other = df[df[\"Major field\"]==\"Other\"][\"citperyear13\"].values\n",
    "\n",
    "L = [(\"PDE\",PDE),(\"Computer Science\",CS),(\"Probability\",Probability), (\"Harmonic Analysis\",Harmonic_Analysis), \n",
    "     (\"Combinatorics\",Comb), (\"Algebra\",Algebra)\n",
    "     ,(\"Algebraic Geometry\",Alg_Geometry), (\"Geometry\",Geometry), (\"Number Theory\",Number_Theory),\n",
    "    (\"Dynamics\",Dynamics), (\"Mathematical Physics\",M_Physics), (\"Analysis\",Analysis), (\"Applied Mathematics\",Applied_Math), \n",
    "     (\"Group Theory\",Groups)\n",
    "     , (\"Logic\",Logic), (\"Complex Analysis\",Complex_Analysis), (\"Lie Groups\",Lie_Groups), (\"Statistics\",Statistics),\n",
    "    (\"History\",History), (\"Other\",Other)]"
   ]
  },
  {
   "cell_type": "code",
   "execution_count": 28,
   "metadata": {},
   "outputs": [],
   "source": [
    "def run_permutation_test(pooled,sizeZ,sizeY):\n",
    "    np.random.shuffle(pooled)\n",
    "    starZ = pooled[:sizeZ]\n",
    "    starY = pooled[-sizeY:]\n",
    "    return starY.mean() - starZ.mean()\n",
    "def check(list1): \n",
    "    count = 0\n",
    "    for x in list1: \n",
    "        if x<= delta: \n",
    "            count +=1\n",
    "    return count/len(list1)"
   ]
  },
  {
   "cell_type": "code",
   "execution_count": 29,
   "metadata": {},
   "outputs": [
    {
     "name": "stdout",
     "output_type": "stream",
     "text": [
      "PDE >= Computer Science --- p-value: 0.397\n",
      "PDE >= Probability --- p-value: 0.0768\n",
      "Computer Science >= Probability --- p-value: 0.156\n",
      "Probability >= Harmonic Analysis --- p-value: 0.113\n",
      "Probability >= Combinatorics --- p-value: 0.1049\n",
      "Harmonic Analysis >= Combinatorics --- p-value: 0.3824\n",
      "Harmonic Analysis >= Algebra --- p-value: 0.0961\n",
      "Harmonic Analysis >= Algebraic Geometry --- p-value: 0.1807\n",
      "Combinatorics >= Algebra --- p-value: 0.2181\n",
      "Combinatorics >= Algebraic Geometry --- p-value: 0.3265\n",
      "Combinatorics >= Geometry --- p-value: 0.1544\n",
      "Combinatorics >= Analysis --- p-value: 0.0719\n",
      "Algebra >= Algebraic Geometry --- p-value: 0.6461\n",
      "Algebra >= Geometry --- p-value: 0.3989\n",
      "Algebra >= Dynamics --- p-value: 0.0813\n",
      "Algebra >= Mathematical Physics --- p-value: 0.0546\n",
      "Algebra >= Analysis --- p-value: 0.1232\n",
      "Algebraic Geometry >= Geometry --- p-value: 0.2533\n",
      "Algebraic Geometry >= Analysis --- p-value: 0.0782\n",
      "Geometry >= Number Theory --- p-value: 0.0534\n",
      "Geometry >= Dynamics --- p-value: 0.1076\n",
      "Geometry >= Mathematical Physics --- p-value: 0.0704\n",
      "Geometry >= Analysis --- p-value: 0.1497\n",
      "Number Theory >= Dynamics --- p-value: 0.4906\n",
      "Number Theory >= Mathematical Physics --- p-value: 0.4514\n",
      "Number Theory >= Analysis --- p-value: 0.4417\n",
      "Number Theory >= Applied Mathematics --- p-value: 0.2717\n",
      "Number Theory >= Group Theory --- p-value: 0.2637\n",
      "Number Theory >= Logic --- p-value: 0.1557\n",
      "Number Theory >= Complex Analysis --- p-value: 0.0717\n",
      "Dynamics >= Mathematical Physics --- p-value: 0.4614\n",
      "Dynamics >= Analysis --- p-value: 0.4609\n",
      "Dynamics >= Applied Mathematics --- p-value: 0.3377\n",
      "Dynamics >= Group Theory --- p-value: 0.2999\n",
      "Dynamics >= Logic --- p-value: 0.1738\n",
      "Dynamics >= Complex Analysis --- p-value: 0.1272\n",
      "Mathematical Physics >= Analysis --- p-value: 0.4916\n",
      "Mathematical Physics >= Applied Mathematics --- p-value: 0.3506\n",
      "Mathematical Physics >= Group Theory --- p-value: 0.337\n",
      "Mathematical Physics >= Logic --- p-value: 0.23\n",
      "Mathematical Physics >= Complex Analysis --- p-value: 0.1423\n",
      "Mathematical Physics >= History --- p-value: 0.0525\n",
      "Analysis >= Applied Mathematics --- p-value: 0.4035\n",
      "Analysis >= Group Theory --- p-value: 0.3972\n",
      "Analysis >= Logic --- p-value: 0.3154\n",
      "Analysis >= Complex Analysis --- p-value: 0.2375\n",
      "Analysis >= Lie Groups --- p-value: 0.1041\n",
      "Analysis >= History --- p-value: 0.0881\n",
      "Applied Mathematics >= Group Theory --- p-value: 0.4655\n",
      "Applied Mathematics >= Logic --- p-value: 0.3609\n",
      "Applied Mathematics >= Complex Analysis --- p-value: 0.2362\n",
      "Applied Mathematics >= Lie Groups --- p-value: 0.0616\n",
      "Applied Mathematics >= History --- p-value: 0.0534\n",
      "Group Theory >= Logic --- p-value: 0.3728\n",
      "Group Theory >= Complex Analysis --- p-value: 0.2834\n",
      "Group Theory >= Lie Groups --- p-value: 0.0513\n",
      "Logic >= Complex Analysis --- p-value: 0.4276\n",
      "Logic >= Lie Groups --- p-value: 0.0613\n",
      "Complex Analysis >= Lie Groups --- p-value: 0.0871\n",
      "Lie Groups >= History --- p-value: 0.0531\n",
      "Statistics >= History --- p-value: 0.2517\n",
      "History >= Other --- p-value: 0.1533\n"
     ]
    }
   ],
   "source": [
    "#H0 Z = Y\n",
    "#H1 Z > Y\n",
    "done = []\n",
    "for z in L:\n",
    "    done.append(z)\n",
    "    for y in L:\n",
    "        if y not in done:\n",
    "            np.random.seed(0)\n",
    "            pooled = np.hstack([z[1],y[1]])\n",
    "            delta = y[1].mean() - z[1].mean()\n",
    "            numSamples = 10000\n",
    "            l=[]\n",
    "            for i in range(numSamples):\n",
    "                x = run_permutation_test(pooled,z[1].size,y[1].size)\n",
    "                l.append(x)\n",
    "            if check(l) > 0.05:\n",
    "                print(z[0], \">=\", y[0], \"--- p-value:\", check(l))"
   ]
  },
  {
   "cell_type": "markdown",
   "metadata": {},
   "source": [
    "\n"
   ]
  },
  {
   "cell_type": "markdown",
   "metadata": {},
   "source": [
    "# Interfield Z-scores"
   ]
  },
  {
   "cell_type": "code",
   "execution_count": 30,
   "metadata": {},
   "outputs": [
    {
     "data": {
      "text/html": [
       "<div>\n",
       "<style scoped>\n",
       "    .dataframe tbody tr th:only-of-type {\n",
       "        vertical-align: middle;\n",
       "    }\n",
       "\n",
       "    .dataframe tbody tr th {\n",
       "        vertical-align: top;\n",
       "    }\n",
       "\n",
       "    .dataframe thead th {\n",
       "        text-align: right;\n",
       "    }\n",
       "</style>\n",
       "<table border=\"1\" class=\"dataframe\">\n",
       "  <thead>\n",
       "    <tr style=\"text-align: right;\">\n",
       "      <th></th>\n",
       "      <th>School</th>\n",
       "      <th>Role</th>\n",
       "      <th>Citations</th>\n",
       "      <th>Earliest_Pub</th>\n",
       "      <th>Field_1</th>\n",
       "      <th>Field_2</th>\n",
       "      <th>Major field</th>\n",
       "      <th>Age</th>\n",
       "      <th>citperyear</th>\n",
       "      <th>citperyear13</th>\n",
       "      <th>zscore</th>\n",
       "    </tr>\n",
       "  </thead>\n",
       "  <tbody>\n",
       "    <tr>\n",
       "      <th>33</th>\n",
       "      <td>Auburn University</td>\n",
       "      <td>Professor</td>\n",
       "      <td>105</td>\n",
       "      <td>1976</td>\n",
       "      <td>Linear and multilinear algebra; matrix theory</td>\n",
       "      <td>NaN</td>\n",
       "      <td>Algebra</td>\n",
       "      <td>44</td>\n",
       "      <td>2.386364</td>\n",
       "      <td>0.766833</td>\n",
       "      <td>-0.808969</td>\n",
       "    </tr>\n",
       "    <tr>\n",
       "      <th>49</th>\n",
       "      <td>Auburn University</td>\n",
       "      <td>Professor</td>\n",
       "      <td>1734</td>\n",
       "      <td>1981</td>\n",
       "      <td>Associative rings and algebras</td>\n",
       "      <td>NaN</td>\n",
       "      <td>Algebra</td>\n",
       "      <td>39</td>\n",
       "      <td>44.461538</td>\n",
       "      <td>14.813753</td>\n",
       "      <td>0.551906</td>\n",
       "    </tr>\n",
       "    <tr>\n",
       "      <th>54</th>\n",
       "      <td>Binghamton University</td>\n",
       "      <td>Professor</td>\n",
       "      <td>280</td>\n",
       "      <td>1977</td>\n",
       "      <td>Nonassociative rings and algebras</td>\n",
       "      <td>NaN</td>\n",
       "      <td>Algebra</td>\n",
       "      <td>43</td>\n",
       "      <td>6.511628</td>\n",
       "      <td>2.106925</td>\n",
       "      <td>-0.679140</td>\n",
       "    </tr>\n",
       "    <tr>\n",
       "      <th>100</th>\n",
       "      <td>Brandeis University</td>\n",
       "      <td>Professor</td>\n",
       "      <td>629</td>\n",
       "      <td>1979</td>\n",
       "      <td>Associative rings and algebras</td>\n",
       "      <td>NaN</td>\n",
       "      <td>Algebra</td>\n",
       "      <td>41</td>\n",
       "      <td>15.341463</td>\n",
       "      <td>5.035373</td>\n",
       "      <td>-0.395430</td>\n",
       "    </tr>\n",
       "    <tr>\n",
       "      <th>112</th>\n",
       "      <td>Brown University</td>\n",
       "      <td>Professor</td>\n",
       "      <td>190</td>\n",
       "      <td>1991</td>\n",
       "      <td>Algebraic topology</td>\n",
       "      <td>NaN</td>\n",
       "      <td>Algebra</td>\n",
       "      <td>29</td>\n",
       "      <td>6.551724</td>\n",
       "      <td>2.385812</td>\n",
       "      <td>-0.652121</td>\n",
       "    </tr>\n",
       "  </tbody>\n",
       "</table>\n",
       "</div>"
      ],
      "text/plain": [
       "                    School       Role  Citations  Earliest_Pub  \\\n",
       "33       Auburn University  Professor        105          1976   \n",
       "49       Auburn University  Professor       1734          1981   \n",
       "54   Binghamton University  Professor        280          1977   \n",
       "100    Brandeis University  Professor        629          1979   \n",
       "112       Brown University  Professor        190          1991   \n",
       "\n",
       "                                           Field_1 Field_2 Major field  Age  \\\n",
       "33   Linear and multilinear algebra; matrix theory     NaN     Algebra   44   \n",
       "49                  Associative rings and algebras     NaN     Algebra   39   \n",
       "54               Nonassociative rings and algebras     NaN     Algebra   43   \n",
       "100                 Associative rings and algebras     NaN     Algebra   41   \n",
       "112                             Algebraic topology     NaN     Algebra   29   \n",
       "\n",
       "     citperyear  citperyear13    zscore  \n",
       "33     2.386364      0.766833 -0.808969  \n",
       "49    44.461538     14.813753  0.551906  \n",
       "54     6.511628      2.106925 -0.679140  \n",
       "100   15.341463      5.035373 -0.395430  \n",
       "112    6.551724      2.385812 -0.652121  "
      ]
     },
     "execution_count": 30,
     "metadata": {},
     "output_type": "execute_result"
    }
   ],
   "source": [
    "dflist = []\n",
    "for i, j in df.groupby('Major field'):\n",
    "    #display(j)\n",
    "    ss = StandardScaler()\n",
    "    newcol = ss.fit_transform(j[['citperyear13']])\n",
    "    newercol = pd.DataFrame(newcol, columns = ['zscore'], index=j.index)\n",
    "    #display(newercol)\n",
    "    #display(newercol.info())\n",
    "    newdf = pd.concat([j, newercol], axis=1)\n",
    "    dflist.append(newdf)\n",
    "standardized = pd.concat(dflist)\n",
    "standardized.head()"
   ]
  },
  {
   "cell_type": "code",
   "execution_count": 31,
   "metadata": {},
   "outputs": [
    {
     "name": "stdout",
     "output_type": "stream",
     "text": [
      "Algebra 1.0000000000000002\n",
      "Algebraic Geometry 0.9999999999999999\n",
      "Analysis 1.0\n",
      "Applied Math 0.9999999999999996\n",
      "Combinatorics 0.9999999999999998\n",
      "Complex Analysis 1.0000000000000002\n",
      "Computer Science 0.9999999999999996\n",
      "Dynamics 1.0\n",
      "Geometry 1.0\n",
      "Group theory 0.9999999999999998\n",
      "Harmonic analysis 0.9999999999999998\n",
      "History 1.0\n",
      "Lie Groups 0.9999999999999998\n",
      "Logic 1.0\n",
      "Mathematical Physics 1.0000000000000004\n",
      "Number theory 0.9999999999999997\n",
      "Other 0.9999999999999999\n",
      "PDE 0.9999999999999997\n",
      "Probability 1.0\n",
      "Statistics 1.0\n"
     ]
    }
   ],
   "source": [
    "# sanity check. All sd are same\n",
    "for x in standardized[\"Major field\"].unique():\n",
    "    fjj = standardized[standardized[\"Major field\"] == x][\"zscore\"]\n",
    "    print(x, np.std(fjj))"
   ]
  },
  {
   "cell_type": "code",
   "execution_count": 50,
   "metadata": {},
   "outputs": [
    {
     "data": {
      "text/plain": [
       "33      0.654431\n",
       "49      0.304600\n",
       "54      0.461231\n",
       "100     0.156365\n",
       "112     0.425262\n",
       "          ...   \n",
       "2721    0.255475\n",
       "2731    1.523453\n",
       "2732    0.135280\n",
       "2733    0.206222\n",
       "2761    0.271291\n",
       "Name: zscore, Length: 2807, dtype: float64"
      ]
     },
     "execution_count": 50,
     "metadata": {},
     "output_type": "execute_result"
    }
   ],
   "source": [
    "standardized[\"zscore2\"] = standardized.zscore**2\n",
    "standardized.zscore2"
   ]
  },
  {
   "cell_type": "markdown",
   "metadata": {},
   "source": [
    "# Rankings of universities top 38"
   ]
  },
  {
   "cell_type": "code",
   "execution_count": 56,
   "metadata": {},
   "outputs": [],
   "source": [
    "byschool = standardized.groupby('School').zscore.mean().sort_values( ascending=False)\n"
   ]
  },
  {
   "cell_type": "code",
   "execution_count": 57,
   "metadata": {},
   "outputs": [
    {
     "data": {
      "text/plain": [
       "School\n",
       "Princeton University                           1.772333\n",
       "Harvard University                             1.465666\n",
       "Stanford University                            1.019265\n",
       "University of Chicago                          0.955099\n",
       "Columbia University in the City of New York    0.902455\n",
       "Massachusetts Institute of Technology          0.864781\n",
       "University of California, Los Angeles          0.835296\n",
       "University of Miami                            0.782862\n",
       "Yale University                                0.759163\n",
       "Brown University                               0.617112\n",
       "University of California, Berkeley             0.592989\n",
       "New York University                            0.591825\n",
       "University of Oregon                           0.535733\n",
       "California Institute of Technology             0.425761\n",
       "Duke University                                0.399966\n",
       "Stony Brook University                         0.385291\n",
       "Rutgers University-New Brunswick               0.323667\n",
       "University of Virginia                         0.320344\n",
       "Texas A&M University                           0.306616\n",
       "Northwestern University                        0.284214\n",
       "University of Michigan                         0.269438\n",
       "Rice University                                0.266794\n",
       "The University of Texas at Austin              0.260132\n",
       "Carnegie Mellon University                     0.234670\n",
       "University of Illinois at Chicago              0.228812\n",
       "University of California, Irvine               0.216124\n",
       "University of Pittsburgh                       0.175216\n",
       "Georgia Institute of Technology                0.174301\n",
       "University of Minnesota                        0.173807\n",
       "Vanderbilt University                          0.153684\n",
       "Indiana University Bloomington                 0.134593\n",
       "SUNY at Albany                                 0.127854\n",
       "University of California, San Diego            0.115895\n",
       "University of North Texas                      0.039275\n",
       "University of Washington                       0.028879\n",
       "University of Connecticut                      0.019902\n",
       "Arizona State University                       0.001275\n",
       "Pennsylvania State University                  0.001075\n",
       "University of Southern California             -0.015086\n",
       "Purdue University                             -0.026049\n",
       "University of Illinois at Urbana-Champaign    -0.029567\n",
       "Cornell University                            -0.041871\n",
       "University of Maryland - College Park         -0.042200\n",
       "University of Utah                            -0.044988\n",
       "North Carolina State University               -0.047922\n",
       "Johns Hopkins University                      -0.056118\n",
       "University of California, Riverside           -0.063295\n",
       "University of California, Santa Cruz          -0.073462\n",
       "Washington University in St. Louis            -0.079621\n",
       "Wayne State University                        -0.079795\n",
       "Name: zscore, dtype: float64"
      ]
     },
     "execution_count": 57,
     "metadata": {},
     "output_type": "execute_result"
    }
   ],
   "source": [
    "byschool[:50]\n"
   ]
  },
  {
   "cell_type": "code",
   "execution_count": null,
   "metadata": {},
   "outputs": [],
   "source": []
  },
  {
   "cell_type": "code",
   "execution_count": null,
   "metadata": {},
   "outputs": [],
   "source": []
  },
  {
   "cell_type": "markdown",
   "metadata": {},
   "source": [
    "It is interesting that so few places are above average..."
   ]
  },
  {
   "cell_type": "code",
   "execution_count": 58,
   "metadata": {},
   "outputs": [
    {
     "data": {
      "text/plain": [
       "School\n",
       "University of Pennsylvania                                       -0.090948\n",
       "Brandeis University                                              -0.103217\n",
       "Colorado State University                                        -0.107424\n",
       "University of Notre Dame                                         -0.112700\n",
       "University of California, Santa Barbara                          -0.124383\n",
       "University of North Carolina at Chapel Hill                      -0.126511\n",
       "University of Houston                                            -0.129775\n",
       "University of Iowa                                               -0.142739\n",
       "The Ohio State University                                        -0.158593\n",
       "University of South Florida                                      -0.162873\n",
       "Michigan State University                                        -0.176252\n",
       "University of California, Davis                                  -0.179939\n",
       "Virginia Polytechnic Institute and State University              -0.182176\n",
       "University of Missouri                                           -0.184334\n",
       "University of Wisconsin - Madison                                -0.190450\n",
       "University of Massachusetts Amherst                              -0.197421\n",
       "University of South Carolina                                     -0.198227\n",
       "Emory University                                                 -0.212041\n",
       "University of Central Florida                                    -0.214746\n",
       "University of Kentucky                                           -0.216342\n",
       "University of Florida                                            -0.232629\n",
       "University of Delaware                                           -0.237529\n",
       "Louisiana State University and Agricultural&Mechanical College   -0.243291\n",
       "Syracuse University                                              -0.244252\n",
       "Georgia State University                                         -0.257336\n",
       "University of Colorado Denver                                    -0.264654\n",
       "Boston University                                                -0.271276\n",
       "Tulane University of Louisiana                                   -0.287806\n",
       "Clemson University                                               -0.299765\n",
       "University of Kansas                                             -0.337995\n",
       "University of Southern Mississippi                               -0.341831\n",
       "Boston College                                                   -0.347758\n",
       "Mississippi State University                                     -0.354803\n",
       "University of Rochester                                          -0.356356\n",
       "CUNY Graduate School and University Center                       -0.366480\n",
       "The University of Tennessee                                      -0.366940\n",
       "George Washington University                                     -0.374627\n",
       "Georgetown University                                            -0.377510\n",
       "Florida State Universty                                          -0.382602\n",
       "Iowa State University                                            -0.390537\n",
       "University at Buffalo                                            -0.400504\n",
       "Northeastern University                                          -0.405867\n",
       "Tufts University                                                 -0.411915\n",
       "University of Nebraska-Lincoln                                   -0.414399\n",
       "University of Georgia                                            -0.414819\n",
       "University of New Hampshire                                      -0.416771\n",
       "Virgina Commonwealth                                             -0.418676\n",
       "University of Cincinatti                                         -0.418800\n",
       "Dartmouth College                                                -0.424749\n",
       "Rennselaer Polytechnic Institute                                 -0.438484\n",
       "Name: zscore, dtype: float64"
      ]
     },
     "execution_count": 58,
     "metadata": {},
     "output_type": "execute_result"
    }
   ],
   "source": [
    "byschool[50:100]"
   ]
  },
  {
   "cell_type": "code",
   "execution_count": 59,
   "metadata": {},
   "outputs": [
    {
     "data": {
      "text/plain": [
       "School\n",
       "University of Nevada, Reno             -0.449023\n",
       "West Virginia University               -0.449922\n",
       "Auburn University                      -0.455573\n",
       "The University of Texas at Arlington   -0.457660\n",
       "Texas Tech University                  -0.461208\n",
       "University of Arizona                  -0.469724\n",
       "Binghamton University                  -0.473284\n",
       "University of New Mexico               -0.489398\n",
       "The University of Alabama              -0.489536\n",
       "The University of Texas at Dallas      -0.501795\n",
       "George Mason University                -0.503771\n",
       "Florida Institute University           -0.505568\n",
       "University of Oklahoma                 -0.509256\n",
       "University of Colorado Boulder         -0.511068\n",
       "University of Hawaii at Manoa          -0.513600\n",
       "Case Western Reserve University        -0.514692\n",
       "University of Alabama at Birmingham    -0.515641\n",
       "Oklahoma State University              -0.519153\n",
       "Kansas State University                -0.522584\n",
       "Temple University                      -0.523601\n",
       "Oregon State University                -0.526993\n",
       "Drexel University                      -0.527435\n",
       "University of Louisville               -0.536211\n",
       "University of Nevada, Las Vegas        -0.546090\n",
       "University of Wisconsin - Milwaukee    -0.569146\n",
       "Washington State University            -0.593704\n",
       "New Jersey Institute of Technology     -0.605097\n",
       "The University of Texas at El Paso     -0.639804\n",
       "University of Mississippi              -0.662063\n",
       "University of Arkansas                 -0.667047\n",
       "Montana State University               -0.677819\n",
       "Name: zscore, dtype: float64"
      ]
     },
     "execution_count": 59,
     "metadata": {},
     "output_type": "execute_result"
    }
   ],
   "source": [
    "byschool[100:]"
   ]
  },
  {
   "cell_type": "code",
   "execution_count": null,
   "metadata": {},
   "outputs": [],
   "source": []
  },
  {
   "cell_type": "code",
   "execution_count": null,
   "metadata": {},
   "outputs": [],
   "source": []
  }
 ],
 "metadata": {
  "kernelspec": {
   "display_name": "Python 3",
   "language": "python",
   "name": "python3"
  },
  "language_info": {
   "codemirror_mode": {
    "name": "ipython",
    "version": 3
   },
   "file_extension": ".py",
   "mimetype": "text/x-python",
   "name": "python",
   "nbconvert_exporter": "python",
   "pygments_lexer": "ipython3",
   "version": "3.8.3"
  }
 },
 "nbformat": 4,
 "nbformat_minor": 2
}

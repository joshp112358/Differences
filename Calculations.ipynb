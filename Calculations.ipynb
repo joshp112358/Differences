{
 "cells": [
  {
   "cell_type": "code",
   "execution_count": 2,
   "metadata": {},
   "outputs": [],
   "source": [
    "# packages\n",
    "import numpy as np\n",
    "import pandas as pd\n",
    "import matplotlib.pyplot as plt\n",
    "import seaborn as sns\n",
    "import scipy.stats as stats\n",
    "from sklearn.linear_model import LinearRegression\n",
    "import statsmodels.api as sm\n",
    "from sklearn.preprocessing import StandardScaler\n",
    "import random\n",
    "import pylab \n",
    "plt.rcParams['figure.figsize'] = [10, 5]\n",
    "from lifelines.statistics import logrank_test"
   ]
  },
  {
   "cell_type": "code",
   "execution_count": 3,
   "metadata": {},
   "outputs": [
    {
     "data": {
      "text/html": [
       "<div>\n",
       "<style scoped>\n",
       "    .dataframe tbody tr th:only-of-type {\n",
       "        vertical-align: middle;\n",
       "    }\n",
       "\n",
       "    .dataframe tbody tr th {\n",
       "        vertical-align: top;\n",
       "    }\n",
       "\n",
       "    .dataframe thead th {\n",
       "        text-align: right;\n",
       "    }\n",
       "</style>\n",
       "<table border=\"1\" class=\"dataframe\">\n",
       "  <thead>\n",
       "    <tr style=\"text-align: right;\">\n",
       "      <th></th>\n",
       "      <th>School</th>\n",
       "      <th>Gender</th>\n",
       "      <th>Role</th>\n",
       "      <th>Citations</th>\n",
       "      <th>Earliest_Pub</th>\n",
       "      <th>Field_1</th>\n",
       "      <th>Field_2</th>\n",
       "      <th>Major field</th>\n",
       "      <th>Age</th>\n",
       "      <th>citperyear</th>\n",
       "      <th>citperyear13</th>\n",
       "    </tr>\n",
       "  </thead>\n",
       "  <tbody>\n",
       "    <tr>\n",
       "      <th>0</th>\n",
       "      <td>Arizona State University</td>\n",
       "      <td>Male</td>\n",
       "      <td>Professor</td>\n",
       "      <td>223</td>\n",
       "      <td>1986</td>\n",
       "      <td>Systems theory; control</td>\n",
       "      <td>NaN</td>\n",
       "      <td>Applied Math</td>\n",
       "      <td>34</td>\n",
       "      <td>6.558824</td>\n",
       "      <td>2.277101</td>\n",
       "    </tr>\n",
       "    <tr>\n",
       "      <th>1</th>\n",
       "      <td>Arizona State University</td>\n",
       "      <td>Male</td>\n",
       "      <td>Professor</td>\n",
       "      <td>148</td>\n",
       "      <td>1985</td>\n",
       "      <td>Statistics</td>\n",
       "      <td>NaN</td>\n",
       "      <td>Statistics</td>\n",
       "      <td>35</td>\n",
       "      <td>4.228571</td>\n",
       "      <td>1.455369</td>\n",
       "    </tr>\n",
       "    <tr>\n",
       "      <th>2</th>\n",
       "      <td>Arizona State University</td>\n",
       "      <td>Male</td>\n",
       "      <td>Professor</td>\n",
       "      <td>172</td>\n",
       "      <td>1983</td>\n",
       "      <td>Statistical mechanics, structure of matter</td>\n",
       "      <td>NaN</td>\n",
       "      <td>Mathematical Physics</td>\n",
       "      <td>37</td>\n",
       "      <td>4.648649</td>\n",
       "      <td>1.573498</td>\n",
       "    </tr>\n",
       "    <tr>\n",
       "      <th>3</th>\n",
       "      <td>Arizona State University</td>\n",
       "      <td>Male</td>\n",
       "      <td>Professor</td>\n",
       "      <td>703</td>\n",
       "      <td>1982</td>\n",
       "      <td>Special functions</td>\n",
       "      <td>NaN</td>\n",
       "      <td>Analysis</td>\n",
       "      <td>38</td>\n",
       "      <td>18.500000</td>\n",
       "      <td>6.212074</td>\n",
       "    </tr>\n",
       "    <tr>\n",
       "      <th>4</th>\n",
       "      <td>Arizona State University</td>\n",
       "      <td>Male</td>\n",
       "      <td>Professor</td>\n",
       "      <td>346</td>\n",
       "      <td>1979</td>\n",
       "      <td>Several complex variables and analytic spaces</td>\n",
       "      <td>NaN</td>\n",
       "      <td>Complex Analysis</td>\n",
       "      <td>41</td>\n",
       "      <td>8.439024</td>\n",
       "      <td>2.769855</td>\n",
       "    </tr>\n",
       "  </tbody>\n",
       "</table>\n",
       "</div>"
      ],
      "text/plain": [
       "                     School Gender       Role  Citations  Earliest_Pub  \\\n",
       "0  Arizona State University   Male  Professor        223          1986   \n",
       "1  Arizona State University   Male  Professor        148          1985   \n",
       "2  Arizona State University   Male  Professor        172          1983   \n",
       "3  Arizona State University   Male  Professor        703          1982   \n",
       "4  Arizona State University   Male  Professor        346          1979   \n",
       "\n",
       "                                         Field_1 Field_2  \\\n",
       "0                        Systems theory; control     NaN   \n",
       "1                                     Statistics     NaN   \n",
       "2     Statistical mechanics, structure of matter     NaN   \n",
       "3                              Special functions     NaN   \n",
       "4  Several complex variables and analytic spaces     NaN   \n",
       "\n",
       "            Major field  Age  citperyear  citperyear13  \n",
       "0          Applied Math   34    6.558824      2.277101  \n",
       "1            Statistics   35    4.228571      1.455369  \n",
       "2  Mathematical Physics   37    4.648649      1.573498  \n",
       "3              Analysis   38   18.500000      6.212074  \n",
       "4      Complex Analysis   41    8.439024      2.769855  "
      ]
     },
     "execution_count": 3,
     "metadata": {},
     "output_type": "execute_result"
    }
   ],
   "source": [
    "df = pd.read_csv(\"./classified.csv\")\n",
    "df[\"Age\"]=2020-df[\"Earliest_Pub\"]\n",
    "df[\"citperyear\"] = df[\"Citations\"]/df[\"Age\"]\n",
    "df[\"citperyear13\"] = df[\"Citations\"]/df[\"Age\"]**1.3\n",
    "\n",
    "#to debug\n",
    "df = df[df[\"Age\"]>=0]\n",
    "df.head()"
   ]
  },
  {
   "cell_type": "markdown",
   "metadata": {},
   "source": [
    "## Distribution of Citations and Citations/Year1.3"
   ]
  },
  {
   "cell_type": "code",
   "execution_count": 4,
   "metadata": {},
   "outputs": [
    {
     "data": {
      "text/plain": [
       "Text(0, 0.5, 'Count')"
      ]
     },
     "execution_count": 4,
     "metadata": {},
     "output_type": "execute_result"
    },
    {
     "data": {
      "image/png": "[encoded data removed]",
      "text/plain": [
       "<Figure size 720x360 with 1 Axes>"
      ]
     },
     "metadata": {
      "needs_background": "light"
     },
     "output_type": "display_data"
    }
   ],
   "source": [
    "plt.hist(df.Citations)\n",
    "plt.title(\"Distribution of Citations\")\n",
    "plt.xlabel(\"Citations\")\n",
    "plt.ylabel(\"Count\")"
   ]
  },
  {
   "cell_type": "code",
   "execution_count": 5,
   "metadata": {},
   "outputs": [
    {
     "data": {
      "image/png": "[encoded data removed]",
      "text/plain": [
       "<Figure size 720x360 with 1 Axes>"
      ]
     },
     "metadata": {
      "needs_background": "light"
     },
     "output_type": "display_data"
    }
   ],
   "source": [
    "fig = plt.figure()\n",
    "ax = plt.subplot(111)\n",
    "stats.probplot(df.Citations**0.5, dist=stats.expon, sparams=1.0, plot=ax)\n",
    "plt.show()"
   ]
  },
  {
   "cell_type": "code",
   "execution_count": 6,
   "metadata": {},
   "outputs": [
    {
     "data": {
      "text/plain": [
       "Text(0, 0.5, 'Count')"
      ]
     },
     "execution_count": 6,
     "metadata": {},
     "output_type": "execute_result"
    },
    {
     "data": {
      "image/png": "[encoded data removed]",
      "text/plain": [
       "<Figure size 720x360 with 1 Axes>"
      ]
     },
     "metadata": {
      "needs_background": "light"
     },
     "output_type": "display_data"
    }
   ],
   "source": [
    "plt.hist(df.citperyear13)\n",
    "plt.title(\"Distribution of Citations/Year^1.3\")\n",
    "plt.xlabel(\"Citations\")\n",
    "plt.ylabel(\"Count\")"
   ]
  },
  {
   "cell_type": "code",
   "execution_count": 7,
   "metadata": {
    "scrolled": true
   },
   "outputs": [
    {
     "data": {
      "image/png": "[encoded data removed]",
      "text/plain": [
       "<Figure size 720x360 with 1 Axes>"
      ]
     },
     "metadata": {
      "needs_background": "light"
     },
     "output_type": "display_data"
    }
   ],
   "source": [
    "fig = plt.figure()\n",
    "ax = plt.subplot(111)\n",
    "stats.probplot(df.citperyear13**0.5, dist=stats.expon, sparams=1.0, plot=ax)\n",
    "plt.show()"
   ]
  },
  {
   "cell_type": "code",
   "execution_count": 8,
   "metadata": {},
   "outputs": [
    {
     "data": {
      "image/png": "[encoded data removed]",
      "text/plain": [
       "<Figure size 720x360 with 1 Axes>"
      ]
     },
     "metadata": {
      "needs_background": "light"
     },
     "output_type": "display_data"
    }
   ],
   "source": [
    "fig = plt.figure()\n",
    "ax = plt.subplot(111)\n",
    "stats.probplot(df.citperyear13, dist=stats.expon, sparams=1.0, plot=ax)\n",
    "plt.show()"
   ]
  },
  {
   "cell_type": "markdown",
   "metadata": {},
   "source": [
    "**NOTE** the above is a *better* fit at the low range, and obviously has too fat a tail. So unclear if the 0.5 is needed."
   ]
  },
  {
   "cell_type": "markdown",
   "metadata": {},
   "source": [
    "## Citations and Age"
   ]
  },
  {
   "cell_type": "code",
   "execution_count": 9,
   "metadata": {},
   "outputs": [
    {
     "name": "stdout",
     "output_type": "stream",
     "text": [
      "slope: 0.03383062665247128\n",
      "intercept: 8.396234644794568\n",
      "r 0.029228386522290237\n",
      "pvalue 0.12157561478012142\n",
      "[-0.008985684829031844, 0.07664693813397441]\n"
     ]
    }
   ],
   "source": [
    "slope, intercept, r_value, p_value, std_err = stats.linregress(df[\"Age\"],df[\"citperyear13\"])\n",
    "\n",
    "confidence_interval = 1.96*std_err\n",
    "print(\"slope:\", slope)\n",
    "print(\"intercept:\", intercept)\n",
    "print(\"r\", r_value)\n",
    "print(\"pvalue\", p_value)\n",
    "print([slope-confidence_interval, slope+confidence_interval])"
   ]
  },
  {
   "cell_type": "code",
   "execution_count": null,
   "metadata": {},
   "outputs": [],
   "source": []
  },
  {
   "cell_type": "code",
   "execution_count": 10,
   "metadata": {},
   "outputs": [],
   "source": [
    "x = np.linspace(0,70,1000)\n",
    "y = slope*x + intercept"
   ]
  },
  {
   "cell_type": "code",
   "execution_count": 11,
   "metadata": {},
   "outputs": [
    {
     "data": {
      "text/plain": [
       "Text(0, 0.5, 'Citations/Year^1.3')"
      ]
     },
     "execution_count": 11,
     "metadata": {},
     "output_type": "execute_result"
    },
    {
     "data": {
      "image/png": "[encoded data removed]",
      "text/plain": [
       "<Figure size 720x360 with 1 Axes>"
      ]
     },
     "metadata": {
      "needs_background": "light"
     },
     "output_type": "display_data"
    }
   ],
   "source": [
    "plt.scatter(df[\"Age\"],df[\"citperyear13\"])\n",
    "plt.plot(x,y,color='red')\n",
    "plt.title(\"Citations/Year^1.3 vs Year\")\n",
    "plt.xlabel(\"Year\")\n",
    "plt.ylabel(\"Citations/Year^1.3\")"
   ]
  },
  {
   "cell_type": "markdown",
   "metadata": {},
   "source": [
    "## Hasse Linear Models is in RMarkdown"
   ]
  },
  {
   "cell_type": "markdown",
   "metadata": {},
   "source": [
    "## Field Means and Medians"
   ]
  },
  {
   "cell_type": "code",
   "execution_count": 12,
   "metadata": {},
   "outputs": [
    {
     "data": {
      "text/plain": [
       "                 Major field         \n",
       "mean  Citations  PDE                     1472.069892\n",
       "                 Computer Science        1260.444444\n",
       "                 Probability             1165.919708\n",
       "                 Harmonic analysis       1120.015000\n",
       "                 Combinatorics           1023.241379\n",
       "                 Analysis                 977.177778\n",
       "                 Algebra                  934.422727\n",
       "                 Geometry                 890.684887\n",
       "                 Algebraic Geometry       846.621302\n",
       "                 Number theory            742.660377\n",
       "                 Group theory             686.382716\n",
       "                 Applied Math             646.602007\n",
       "                 Mathematical Physics     643.010417\n",
       "                 Logic                    634.000000\n",
       "                 Complex Analysis         612.860870\n",
       "                 Dynamics                 560.441176\n",
       "                 Lie Groups               512.023256\n",
       "                 Statistics               220.734940\n",
       "                 History                   74.000000\n",
       "                 Other                      5.000000\n",
       "dtype: float64"
      ]
     },
     "execution_count": 12,
     "metadata": {},
     "output_type": "execute_result"
    }
   ],
   "source": [
    "field = pd.pivot_table(df,index=[\"Major field\"],values=[\"Citations\"],aggfunc=[np.mean])\n",
    "# change to median\n",
    "field.unstack().sort_values(ascending=False)"
   ]
  },
  {
   "cell_type": "code",
   "execution_count": 13,
   "metadata": {},
   "outputs": [
    {
     "data": {
      "text/plain": [
       "                    Major field         \n",
       "mean  citperyear13  PDE                     14.576598\n",
       "                    Computer Science        14.080446\n",
       "                    Probability             12.062677\n",
       "                    Harmonic analysis       10.514860\n",
       "                    Combinatorics           10.084229\n",
       "                    Algebraic Geometry       9.509696\n",
       "                    Algebra                  9.116993\n",
       "                    Geometry                 8.868060\n",
       "                    Number theory            7.382772\n",
       "                    Dynamics                 7.326294\n",
       "                    Mathematical Physics     7.248634\n",
       "                    Analysis                 7.148419\n",
       "                    Applied Math             6.870968\n",
       "                    Group theory             6.737234\n",
       "                    Logic                    6.317548\n",
       "                    Complex Analysis         6.170996\n",
       "                    Lie Groups               4.780825\n",
       "                    Statistics               3.104116\n",
       "                    History                  0.676970\n",
       "                    Other                    0.074356\n",
       "dtype: float64"
      ]
     },
     "execution_count": 13,
     "metadata": {},
     "output_type": "execute_result"
    }
   ],
   "source": [
    "field = pd.pivot_table(df,index=[\"Major field\"],values=[\"citperyear13\"],aggfunc=[np.mean])\n",
    "\n",
    "field.unstack().sort_values(ascending=False)"
   ]
  },
  {
   "cell_type": "code",
   "execution_count": 14,
   "metadata": {},
   "outputs": [
    {
     "data": {
      "text/plain": [
       "                   Major field         \n",
       "len  citperyear13  PDE                     372.0\n",
       "                   Geometry                311.0\n",
       "                   Applied Math            299.0\n",
       "                   Computer Science        225.0\n",
       "                   Algebra                 220.0\n",
       "                   Harmonic analysis       200.0\n",
       "                   Algebraic Geometry      169.0\n",
       "                   Number theory           159.0\n",
       "                   Probability             137.0\n",
       "                   Combinatorics           116.0\n",
       "                   Complex Analysis        115.0\n",
       "                   Mathematical Physics     96.0\n",
       "                   Statistics               83.0\n",
       "                   Group theory             81.0\n",
       "                   Dynamics                 68.0\n",
       "                   Logic                    55.0\n",
       "                   Analysis                 45.0\n",
       "                   Lie Groups               43.0\n",
       "                   Other                    11.0\n",
       "                   History                   2.0\n",
       "dtype: float64"
      ]
     },
     "execution_count": 14,
     "metadata": {},
     "output_type": "execute_result"
    }
   ],
   "source": [
    "count = pd.pivot_table(df,index=[\"Major field\"],values=[\"citperyear13\"],aggfunc=[len])\n",
    "count.unstack().sort_values(ascending=False)[:30]"
   ]
  },
  {
   "cell_type": "code",
   "execution_count": 15,
   "metadata": {},
   "outputs": [],
   "source": [
    "PDE = df[df[\"Major field\"]==\"PDE\"][\"citperyear13\"].values\n",
    "CS = df[df[\"Major field\"]==\"Computer Science\"][\"citperyear13\"].values\n",
    "Probability = df[df[\"Major field\"]==\"Probability\"][\"citperyear13\"].values\n",
    "Harmonic_Analysis = df[df[\"Major field\"]==\"Harmonic analysis\"][\"citperyear13\"].values\n",
    "Comb = df[df[\"Major field\"]==\"Combinatorics\"][\"citperyear13\"].values\n",
    "Algebra = df[df[\"Major field\"]==\"Algebra\"][\"citperyear13\"].values\n",
    "Alg_Geometry = df[df[\"Major field\"]==\"Algebraic Geometry\"][\"citperyear13\"].values\n",
    "Geometry = df[df[\"Major field\"]==\"Geometry\"][\"citperyear13\"].values\n",
    "Number_Theory = df[df[\"Major field\"]==\"Number theory\"][\"citperyear13\"].values\n",
    "Dynamics = df[df[\"Major field\"]==\"Dynamics\"][\"citperyear13\"].values\n",
    "M_Physics = df[df[\"Major field\"]==\"Mathematical Physics\"][\"citperyear13\"].values\n",
    "Analysis = df[df[\"Major field\"]==\"Analysis\"][\"citperyear13\"].values\n",
    "Applied_Math = df[df[\"Major field\"]==\"Applied Math\"][\"citperyear13\"].values\n",
    "Groups = df[df[\"Major field\"]==\"Group theory\"][\"citperyear13\"].values\n",
    "Logic = df[df[\"Major field\"]==\"Logic\"][\"citperyear13\"].values\n",
    "Complex_Analysis = df[df[\"Major field\"]==\"Complex Analysis\"][\"citperyear13\"].values\n",
    "Lie_Groups = df[df[\"Major field\"]==\"Lie Groups\"][\"citperyear13\"].values\n",
    "Statistics = df[df[\"Major field\"]==\"Statistics\"][\"citperyear13\"].values\n",
    "History = df[df[\"Major field\"]==\"History\"][\"citperyear13\"].values\n",
    "Other = df[df[\"Major field\"]==\"Other\"][\"citperyear13\"].values\n",
    "\n",
    "L = [(\"PDE\",PDE),(\"CS\",CS),(\"Prob\",Probability), (\"HA\",Harmonic_Analysis), (\"C\",Comb), (\"Alg\",Algebra)\n",
    "     ,(\"AG\",Alg_Geometry), (\"GEOM\",Geometry), (\"NT\",Number_Theory),\n",
    "    (\"Dyn\",Dynamics), (\"MP\",M_Physics), (\"An\",Analysis), (\"Applied\",Applied_Math), (\"GT\",Groups)\n",
    "     , (\"Log\",Logic), (\"CA\",Complex_Analysis), (\"LG\",Lie_Groups), (\"Stat\",Statistics),\n",
    "    (\"Hist\",History), (\"Oth\",Other)]"
   ]
  },
  {
   "cell_type": "code",
   "execution_count": 16,
   "metadata": {},
   "outputs": [],
   "source": [
    "def run_permutation_test(pooled,sizeZ,sizeY):\n",
    "    np.random.shuffle(pooled)\n",
    "    starZ = pooled[:sizeZ]\n",
    "    starY = pooled[-sizeY:]\n",
    "    return starY.mean() - starZ.mean()\n",
    "def check(list1): \n",
    "    count = 0\n",
    "    for x in list1: \n",
    "        if x<= delta: \n",
    "            count +=1\n",
    "    return count/len(list1)"
   ]
  },
  {
   "cell_type": "code",
   "execution_count": 17,
   "metadata": {},
   "outputs": [
    {
     "name": "stdout",
     "output_type": "stream",
     "text": [
      "Fail to Reject Null: PDE >= CS p-value: 0.397\n",
      "Fail to Reject Null: PDE >= Prob p-value: 0.0768\n",
      "Fail to Reject Null: CS >= Prob p-value: 0.156\n",
      "Fail to Reject Null: Prob >= HA p-value: 0.113\n",
      "Fail to Reject Null: Prob >= C p-value: 0.1049\n",
      "Fail to Reject Null: HA >= C p-value: 0.3824\n",
      "Fail to Reject Null: HA >= Alg p-value: 0.0961\n",
      "Fail to Reject Null: HA >= AG p-value: 0.1807\n",
      "Fail to Reject Null: C >= Alg p-value: 0.2181\n",
      "Fail to Reject Null: C >= AG p-value: 0.3265\n",
      "Fail to Reject Null: C >= GEOM p-value: 0.1544\n",
      "Fail to Reject Null: C >= An p-value: 0.0719\n",
      "Fail to Reject Null: Alg >= AG p-value: 0.6461\n",
      "Fail to Reject Null: Alg >= GEOM p-value: 0.3989\n",
      "Fail to Reject Null: Alg >= Dyn p-value: 0.0813\n",
      "Fail to Reject Null: Alg >= MP p-value: 0.0546\n",
      "Fail to Reject Null: Alg >= An p-value: 0.1232\n",
      "Fail to Reject Null: AG >= GEOM p-value: 0.2533\n",
      "Fail to Reject Null: AG >= An p-value: 0.0782\n",
      "Fail to Reject Null: GEOM >= NT p-value: 0.0534\n",
      "Fail to Reject Null: GEOM >= Dyn p-value: 0.1076\n",
      "Fail to Reject Null: GEOM >= MP p-value: 0.0704\n",
      "Fail to Reject Null: GEOM >= An p-value: 0.1497\n",
      "Fail to Reject Null: NT >= Dyn p-value: 0.4906\n",
      "Fail to Reject Null: NT >= MP p-value: 0.4514\n",
      "Fail to Reject Null: NT >= An p-value: 0.4417\n",
      "Fail to Reject Null: NT >= Applied p-value: 0.2717\n",
      "Fail to Reject Null: NT >= GT p-value: 0.2637\n",
      "Fail to Reject Null: NT >= Log p-value: 0.1557\n",
      "Fail to Reject Null: NT >= CA p-value: 0.0717\n",
      "Fail to Reject Null: Dyn >= MP p-value: 0.4614\n",
      "Fail to Reject Null: Dyn >= An p-value: 0.4609\n",
      "Fail to Reject Null: Dyn >= Applied p-value: 0.3377\n",
      "Fail to Reject Null: Dyn >= GT p-value: 0.2999\n",
      "Fail to Reject Null: Dyn >= Log p-value: 0.1738\n",
      "Fail to Reject Null: Dyn >= CA p-value: 0.1272\n",
      "Fail to Reject Null: MP >= An p-value: 0.4916\n",
      "Fail to Reject Null: MP >= Applied p-value: 0.3506\n",
      "Fail to Reject Null: MP >= GT p-value: 0.337\n",
      "Fail to Reject Null: MP >= Log p-value: 0.23\n",
      "Fail to Reject Null: MP >= CA p-value: 0.1423\n",
      "Fail to Reject Null: MP >= Hist p-value: 0.0525\n",
      "Fail to Reject Null: An >= Applied p-value: 0.4035\n",
      "Fail to Reject Null: An >= GT p-value: 0.3972\n",
      "Fail to Reject Null: An >= Log p-value: 0.3154\n",
      "Fail to Reject Null: An >= CA p-value: 0.2375\n",
      "Fail to Reject Null: An >= LG p-value: 0.1041\n",
      "Fail to Reject Null: An >= Hist p-value: 0.0881\n",
      "Fail to Reject Null: Applied >= GT p-value: 0.4655\n",
      "Fail to Reject Null: Applied >= Log p-value: 0.3609\n",
      "Fail to Reject Null: Applied >= CA p-value: 0.2362\n",
      "Fail to Reject Null: Applied >= LG p-value: 0.0616\n",
      "Fail to Reject Null: Applied >= Hist p-value: 0.0534\n",
      "Fail to Reject Null: GT >= Log p-value: 0.3728\n",
      "Fail to Reject Null: GT >= CA p-value: 0.2834\n",
      "Fail to Reject Null: GT >= LG p-value: 0.0513\n",
      "Fail to Reject Null: Log >= CA p-value: 0.4276\n",
      "Fail to Reject Null: Log >= LG p-value: 0.0613\n",
      "Fail to Reject Null: CA >= LG p-value: 0.0871\n",
      "Fail to Reject Null: LG >= Hist p-value: 0.0531\n",
      "Fail to Reject Null: Stat >= Hist p-value: 0.2517\n",
      "Fail to Reject Null: Hist >= Oth p-value: 0.1533\n"
     ]
    }
   ],
   "source": [
    "#H0 Z = Y\n",
    "#H1 Z > Y\n",
    "done = []\n",
    "for z in L:\n",
    "    done.append(z)\n",
    "    for y in L:\n",
    "        if y not in done:\n",
    "            np.random.seed(0)\n",
    "            pooled = np.hstack([z[1],y[1]])\n",
    "            delta = y[1].mean() - z[1].mean()\n",
    "            numSamples = 10000\n",
    "            l=[]\n",
    "            for i in range(numSamples):\n",
    "                x = run_permutation_test(pooled,z[1].size,y[1].size)\n",
    "                l.append(x)\n",
    "            if check(l) > 0.05:\n",
    "                print(\"Fail to Reject Null:\", z[0], \">=\", y[0], \"p-value:\", check(l))"
   ]
  },
  {
   "cell_type": "markdown",
   "metadata": {},
   "source": [
    "## Variability Hypothesis"
   ]
  },
  {
   "cell_type": "code",
   "execution_count": 18,
   "metadata": {},
   "outputs": [
    {
     "name": "stdout",
     "output_type": "stream",
     "text": [
      "931.9597434983968\n",
      "1500.2868283479086\n"
     ]
    }
   ],
   "source": [
    "print(np.mean(df.Citations))\n",
    "print(np.std(df.Citations))"
   ]
  },
  {
   "cell_type": "code",
   "execution_count": 19,
   "metadata": {},
   "outputs": [
    {
     "name": "stdout",
     "output_type": "stream",
     "text": [
      "Female Mean 475.7096774193548\n",
      "Female Variance 511979.92861602537\n",
      "Male Mean 988.6027232679215\n",
      "Male Variance 2437689.032399479\n"
     ]
    }
   ],
   "source": [
    "Females = df[df.Gender == \"Female\"]\n",
    "Males = df[df.Gender == \"Male\"]\n",
    "print(\"Female Mean\", np.mean(Females.Citations))\n",
    "print(\"Female Variance\", np.var(Females.Citations))\n",
    "print(\"Male Mean\", np.mean(Males.Citations))\n",
    "print(\"Male Variance\", np.var(Males.Citations))"
   ]
  },
  {
   "cell_type": "code",
   "execution_count": 20,
   "metadata": {},
   "outputs": [
    {
     "name": "stdout",
     "output_type": "stream",
     "text": [
      "Female Mean 6.185259695940214\n",
      "Female Variance 61.87624234454585\n",
      "Male Mean 9.924544583298573\n",
      "Male Variance 177.20499362227673\n"
     ]
    }
   ],
   "source": [
    "print(\"Female Mean\", np.mean(Females.citperyear13))\n",
    "print(\"Female Variance\", np.var(Females.citperyear13))\n",
    "print(\"Male Mean\", np.mean(Males.citperyear13))\n",
    "print(\"Male Variance\", np.var(Males.citperyear13))"
   ]
  },
  {
   "cell_type": "code",
   "execution_count": 21,
   "metadata": {},
   "outputs": [
    {
     "data": {
      "text/plain": [
       "Text(0, 0.5, 'Count')"
      ]
     },
     "execution_count": 21,
     "metadata": {},
     "output_type": "execute_result"
    },
    {
     "data": {
      "image/png": "[encoded data removed]",
      "text/plain": [
       "<Figure size 720x360 with 1 Axes>"
      ]
     },
     "metadata": {
      "needs_background": "light"
     },
     "output_type": "display_data"
    }
   ],
   "source": [
    "plt.hist(np.log(Females[Females.citperyear13>0].citperyear13),bins=[-6,-5,-4,-3,-2,-1,0,1,2,3,4,5,6])\n",
    "plt.title(\"Histogram of Females\")\n",
    "plt.xlabel(\"Cit/Year^1.3\")\n",
    "plt.ylabel(\"Count\")"
   ]
  },
  {
   "cell_type": "code",
   "execution_count": 22,
   "metadata": {},
   "outputs": [
    {
     "data": {
      "text/plain": [
       "Text(0, 0.5, 'Count')"
      ]
     },
     "execution_count": 22,
     "metadata": {},
     "output_type": "execute_result"
    },
    {
     "data": {
      "image/png": "[encoded data removed]",
      "text/plain": [
       "<Figure size 720x360 with 1 Axes>"
      ]
     },
     "metadata": {
      "needs_background": "light"
     },
     "output_type": "display_data"
    }
   ],
   "source": [
    "plt.hist(np.log(Males[Males.citperyear13>0].citperyear13),bins=[-6,-5,-4,-3,-2,-1,0,1,2,3,4,5,6])\n",
    "plt.title(\"Histogram of Males\")\n",
    "plt.xlabel(\"Cit/Year^1.3\")\n",
    "plt.ylabel(\"Count\")"
   ]
  },
  {
   "cell_type": "markdown",
   "metadata": {},
   "source": [
    "# permutation test"
   ]
  },
  {
   "cell_type": "code",
   "execution_count": 23,
   "metadata": {},
   "outputs": [],
   "source": [
    "FieldNames = [\"PDE\",\"Computer Science\",\"Probability\",\"Harmonic analysis\",\"Combinatorics\",\"Algebra\"\n",
    "              ,\"Algebraic Geometry\",\"Geometry\",\"Number theory\",\"Dynamics\",\"Mathematical Physics\"\n",
    "              ,\"Analysis\",\"Applied Math\",\"Group theory\",\"Logic\",\"Complex Analysis\",\"Lie Groups\"\n",
    "              ,\"Statistics\",\"History\",\"Other\"]"
   ]
  },
  {
   "cell_type": "code",
   "execution_count": 24,
   "metadata": {},
   "outputs": [
    {
     "name": "stdout",
     "output_type": "stream",
     "text": [
      "PDE  - Reject Null: p-value: 0.0066\n",
      "Computer Science  - Reject Null: p-value: 0.0346\n",
      "Probability  - Reject Null: p-value: 0.0035\n",
      "Harmonic analysis  - Fail to Reject Null: p-value: 0.2648\n",
      "Combinatorics  - Fail to Reject Null: p-value: 0.2133\n",
      "Algebra  - Reject Null: p-value: 0.0287\n",
      "Algebraic Geometry  - Reject Null: p-value: 0.0459\n",
      "Geometry  - Reject Null: p-value: 0.0096\n",
      "Number theory  - Reject Null: p-value: 0.0092\n",
      "Dynamics  - Fail to Reject Null: p-value: 0.145\n",
      "Mathematical Physics  - Fail to Reject Null: p-value: 0.8623\n",
      "Analysis  - Reject Null: p-value: 0.0074\n",
      "Applied Math  - Fail to Reject Null: p-value: 0.1121\n",
      "Group theory  - Fail to Reject Null: p-value: 0.1791\n",
      "Logic  - Fail to Reject Null: p-value: 0.0755\n",
      "Complex Analysis  - Reject Null: p-value: 0.0093\n",
      "Lie Groups  - Fail to Reject Null: p-value: 0.128\n",
      "Statistics  - Fail to Reject Null: p-value: 0.0589\n",
      "History  - Fail to Reject Null: p-value: 1.0\n",
      "Other  - Fail to Reject Null: p-value: 0.1849\n"
     ]
    }
   ],
   "source": [
    "#H0 Z = Y\n",
    "#H1 Z > Y\n",
    "for x in FieldNames:\n",
    "    M = df[(df[\"Major field\"]==x)&(df[\"Gender\"]==\"Male\")][\"citperyear13\"].values\n",
    "    F = df[(df[\"Major field\"]==x)&(df[\"Gender\"]==\"Female\")][\"citperyear13\"].values\n",
    "    np.random.seed(0)\n",
    "    pooled = np.hstack([M,F])\n",
    "    delta = F.mean() - M.mean()\n",
    "    numSamples = 10000\n",
    "    l=[]\n",
    "    for i in range(numSamples):\n",
    "        y = run_permutation_test(pooled,M.size,F.size)\n",
    "        l.append(y)\n",
    "    if check(l) > 0.05:\n",
    "        print(x,\" - Fail to Reject Null:\", \"p-value:\", check(l))\n",
    "    else:\n",
    "        print(x, \" - Reject Null:\",  \"p-value:\", check(l))"
   ]
  },
  {
   "cell_type": "markdown",
   "metadata": {},
   "source": [
    "**NOTE** Observe that all failures to reject null occur in fields with very few women."
   ]
  },
  {
   "cell_type": "code",
   "execution_count": 25,
   "metadata": {},
   "outputs": [
    {
     "data": {
      "text/plain": [
       "                    Major field         \n",
       "mean  citperyear13  PDE                     15.303093\n",
       "                    Computer Science        14.778782\n",
       "                    Probability             12.834559\n",
       "                    Harmonic analysis       10.669366\n",
       "                    Combinatorics           10.430640\n",
       "                    Algebraic Geometry       9.819881\n",
       "                    Algebra                  9.560960\n",
       "                    Geometry                 9.255244\n",
       "                    Analysis                 7.935402\n",
       "                    Number theory            7.679638\n",
       "                    Dynamics                 7.636188\n",
       "                    Applied Math             7.161173\n",
       "                    Group theory             6.968285\n",
       "                    Mathematical Physics     6.958035\n",
       "                    Logic                    6.573246\n",
       "                    Complex Analysis         6.459399\n",
       "                    Lie Groups               5.083902\n",
       "                    Statistics               3.389265\n",
       "                    Other                    0.088086\n",
       "                    History                  0.000000\n",
       "dtype: float64"
      ]
     },
     "execution_count": 25,
     "metadata": {},
     "output_type": "execute_result"
    }
   ],
   "source": [
    "field = pd.pivot_table(Males,index=[\"Major field\"],values=[\"citperyear13\"],aggfunc=[np.mean])\n",
    "\n",
    "field.unstack().sort_values(ascending=False)"
   ]
  },
  {
   "cell_type": "code",
   "execution_count": 26,
   "metadata": {},
   "outputs": [
    {
     "data": {
      "text/plain": [
       "                   Major field         \n",
       "len  citperyear13  PDE                     327.0\n",
       "                   Geometry                279.0\n",
       "                   Applied Math            250.0\n",
       "                   Computer Science        200.0\n",
       "                   Algebra                 192.0\n",
       "                   Harmonic analysis       183.0\n",
       "                   Algebraic Geometry      156.0\n",
       "                   Number theory           147.0\n",
       "                   Probability             124.0\n",
       "                   Complex Analysis        107.0\n",
       "                   Combinatorics           101.0\n",
       "                   Mathematical Physics     88.0\n",
       "                   Group theory             74.0\n",
       "                   Statistics               72.0\n",
       "                   Dynamics                 59.0\n",
       "                   Logic                    51.0\n",
       "                   Analysis                 40.0\n",
       "                   Lie Groups               37.0\n",
       "                   Other                     9.0\n",
       "                   History                   1.0\n",
       "dtype: float64"
      ]
     },
     "execution_count": 26,
     "metadata": {},
     "output_type": "execute_result"
    }
   ],
   "source": [
    "field = pd.pivot_table(Males,index=[\"Major field\"],values=[\"citperyear13\"],aggfunc=[len])\n",
    "\n",
    "field.unstack().sort_values(ascending=False)"
   ]
  },
  {
   "cell_type": "code",
   "execution_count": 27,
   "metadata": {},
   "outputs": [
    {
     "data": {
      "text/plain": [
       "                    Major field         \n",
       "mean  citperyear13  Mathematical Physics    10.445227\n",
       "                    PDE                      9.297398\n",
       "                    Harmonic analysis        8.851647\n",
       "                    Computer Science         8.493759\n",
       "                    Combinatorics            7.751730\n",
       "                    Algebra                  6.072650\n",
       "                    Algebraic Geometry       5.787476\n",
       "                    Geometry                 5.492292\n",
       "                    Applied Math             5.390328\n",
       "                    Dynamics                 5.294767\n",
       "                    Probability              4.700109\n",
       "                    Group theory             4.294694\n",
       "                    Number theory            3.746161\n",
       "                    Logic                    3.057404\n",
       "                    Lie Groups               2.911850\n",
       "                    Complex Analysis         2.313612\n",
       "                    History                  1.353940\n",
       "                    Statistics               1.237687\n",
       "                    Analysis                 0.852551\n",
       "                    Other                    0.012571\n",
       "dtype: float64"
      ]
     },
     "execution_count": 27,
     "metadata": {},
     "output_type": "execute_result"
    }
   ],
   "source": [
    "field = pd.pivot_table(Females,index=[\"Major field\"],values=[\"citperyear13\"],aggfunc=[np.mean])\n",
    "\n",
    "field.unstack().sort_values(ascending=False)"
   ]
  },
  {
   "cell_type": "code",
   "execution_count": 28,
   "metadata": {},
   "outputs": [
    {
     "data": {
      "text/plain": [
       "                   Major field         \n",
       "len  citperyear13  Applied Math            49.0\n",
       "                   PDE                     45.0\n",
       "                   Geometry                32.0\n",
       "                   Algebra                 28.0\n",
       "                   Computer Science        25.0\n",
       "                   Harmonic analysis       17.0\n",
       "                   Combinatorics           15.0\n",
       "                   Probability             13.0\n",
       "                   Algebraic Geometry      13.0\n",
       "                   Number theory           12.0\n",
       "                   Statistics              11.0\n",
       "                   Dynamics                 9.0\n",
       "                   Complex Analysis         8.0\n",
       "                   Mathematical Physics     8.0\n",
       "                   Group theory             7.0\n",
       "                   Lie Groups               6.0\n",
       "                   Analysis                 5.0\n",
       "                   Logic                    4.0\n",
       "                   Other                    2.0\n",
       "                   History                  1.0\n",
       "dtype: float64"
      ]
     },
     "execution_count": 28,
     "metadata": {},
     "output_type": "execute_result"
    }
   ],
   "source": [
    "field = pd.pivot_table(Females,index=[\"Major field\"],values=[\"citperyear13\"],aggfunc=[len])\n",
    "\n",
    "field.unstack().sort_values(ascending=False)"
   ]
  },
  {
   "cell_type": "markdown",
   "metadata": {},
   "source": [
    " It would be nonsense to compare variance using a permutation test. The fact is that if you subsample from a larger population, the subsample will be larger\n"
   ]
  },
  {
   "cell_type": "markdown",
   "metadata": {},
   "source": [
    "# Interfield Z-scores"
   ]
  },
  {
   "cell_type": "code",
   "execution_count": 29,
   "metadata": {},
   "outputs": [
    {
     "data": {
      "text/html": [
       "<div>\n",
       "<style scoped>\n",
       "    .dataframe tbody tr th:only-of-type {\n",
       "        vertical-align: middle;\n",
       "    }\n",
       "\n",
       "    .dataframe tbody tr th {\n",
       "        vertical-align: top;\n",
       "    }\n",
       "\n",
       "    .dataframe thead th {\n",
       "        text-align: right;\n",
       "    }\n",
       "</style>\n",
       "<table border=\"1\" class=\"dataframe\">\n",
       "  <thead>\n",
       "    <tr style=\"text-align: right;\">\n",
       "      <th></th>\n",
       "      <th>School</th>\n",
       "      <th>Gender</th>\n",
       "      <th>Role</th>\n",
       "      <th>Citations</th>\n",
       "      <th>Earliest_Pub</th>\n",
       "      <th>Field_1</th>\n",
       "      <th>Field_2</th>\n",
       "      <th>Major field</th>\n",
       "      <th>Age</th>\n",
       "      <th>citperyear</th>\n",
       "      <th>citperyear13</th>\n",
       "      <th>zscore</th>\n",
       "    </tr>\n",
       "  </thead>\n",
       "  <tbody>\n",
       "    <tr>\n",
       "      <th>33</th>\n",
       "      <td>Auburn University</td>\n",
       "      <td>Male</td>\n",
       "      <td>Professor</td>\n",
       "      <td>105</td>\n",
       "      <td>1976</td>\n",
       "      <td>Linear and multilinear algebra; matrix theory</td>\n",
       "      <td>NaN</td>\n",
       "      <td>Algebra</td>\n",
       "      <td>44</td>\n",
       "      <td>2.386364</td>\n",
       "      <td>0.766833</td>\n",
       "      <td>-0.808969</td>\n",
       "    </tr>\n",
       "    <tr>\n",
       "      <th>49</th>\n",
       "      <td>Auburn University</td>\n",
       "      <td>Male</td>\n",
       "      <td>Professor</td>\n",
       "      <td>1734</td>\n",
       "      <td>1981</td>\n",
       "      <td>Associative rings and algebras</td>\n",
       "      <td>NaN</td>\n",
       "      <td>Algebra</td>\n",
       "      <td>39</td>\n",
       "      <td>44.461538</td>\n",
       "      <td>14.813753</td>\n",
       "      <td>0.551906</td>\n",
       "    </tr>\n",
       "    <tr>\n",
       "      <th>54</th>\n",
       "      <td>Binghamton University</td>\n",
       "      <td>Male</td>\n",
       "      <td>Professor</td>\n",
       "      <td>280</td>\n",
       "      <td>1977</td>\n",
       "      <td>Nonassociative rings and algebras</td>\n",
       "      <td>NaN</td>\n",
       "      <td>Algebra</td>\n",
       "      <td>43</td>\n",
       "      <td>6.511628</td>\n",
       "      <td>2.106925</td>\n",
       "      <td>-0.679140</td>\n",
       "    </tr>\n",
       "    <tr>\n",
       "      <th>100</th>\n",
       "      <td>Brandeis University</td>\n",
       "      <td>Male</td>\n",
       "      <td>Professor</td>\n",
       "      <td>629</td>\n",
       "      <td>1979</td>\n",
       "      <td>Associative rings and algebras</td>\n",
       "      <td>NaN</td>\n",
       "      <td>Algebra</td>\n",
       "      <td>41</td>\n",
       "      <td>15.341463</td>\n",
       "      <td>5.035373</td>\n",
       "      <td>-0.395430</td>\n",
       "    </tr>\n",
       "    <tr>\n",
       "      <th>112</th>\n",
       "      <td>Brown University</td>\n",
       "      <td>Male</td>\n",
       "      <td>Professor</td>\n",
       "      <td>190</td>\n",
       "      <td>1991</td>\n",
       "      <td>Algebraic topology</td>\n",
       "      <td>NaN</td>\n",
       "      <td>Algebra</td>\n",
       "      <td>29</td>\n",
       "      <td>6.551724</td>\n",
       "      <td>2.385812</td>\n",
       "      <td>-0.652121</td>\n",
       "    </tr>\n",
       "  </tbody>\n",
       "</table>\n",
       "</div>"
      ],
      "text/plain": [
       "                    School Gender       Role  Citations  Earliest_Pub  \\\n",
       "33       Auburn University   Male  Professor        105          1976   \n",
       "49       Auburn University   Male  Professor       1734          1981   \n",
       "54   Binghamton University   Male  Professor        280          1977   \n",
       "100    Brandeis University   Male  Professor        629          1979   \n",
       "112       Brown University   Male  Professor        190          1991   \n",
       "\n",
       "                                           Field_1 Field_2 Major field  Age  \\\n",
       "33   Linear and multilinear algebra; matrix theory     NaN     Algebra   44   \n",
       "49                  Associative rings and algebras     NaN     Algebra   39   \n",
       "54               Nonassociative rings and algebras     NaN     Algebra   43   \n",
       "100                 Associative rings and algebras     NaN     Algebra   41   \n",
       "112                             Algebraic topology     NaN     Algebra   29   \n",
       "\n",
       "     citperyear  citperyear13    zscore  \n",
       "33     2.386364      0.766833 -0.808969  \n",
       "49    44.461538     14.813753  0.551906  \n",
       "54     6.511628      2.106925 -0.679140  \n",
       "100   15.341463      5.035373 -0.395430  \n",
       "112    6.551724      2.385812 -0.652121  "
      ]
     },
     "execution_count": 29,
     "metadata": {},
     "output_type": "execute_result"
    }
   ],
   "source": [
    "dflist = []\n",
    "for i, j in df.groupby('Major field'):\n",
    "    #display(j)\n",
    "    ss = StandardScaler()\n",
    "    newcol = ss.fit_transform(j[['citperyear13']])\n",
    "    newercol = pd.DataFrame(newcol, columns = ['zscore'], index=j.index)\n",
    "    #display(newercol)\n",
    "    #display(newercol.info())\n",
    "    newdf = pd.concat([j, newercol], axis=1)\n",
    "    dflist.append(newdf)\n",
    "standardized = pd.concat(dflist)\n",
    "standardized.head()"
   ]
  },
  {
   "cell_type": "code",
   "execution_count": 30,
   "metadata": {},
   "outputs": [
    {
     "name": "stdout",
     "output_type": "stream",
     "text": [
      "Algebra 1.0000000000000002\n",
      "Algebraic Geometry 0.9999999999999999\n",
      "Analysis 1.0\n",
      "Applied Math 0.9999999999999996\n",
      "Combinatorics 0.9999999999999998\n",
      "Complex Analysis 1.0000000000000002\n",
      "Computer Science 0.9999999999999996\n",
      "Dynamics 1.0\n",
      "Geometry 1.0\n",
      "Group theory 0.9999999999999998\n",
      "Harmonic analysis 0.9999999999999998\n",
      "History 1.0\n",
      "Lie Groups 0.9999999999999998\n",
      "Logic 1.0\n",
      "Mathematical Physics 1.0000000000000004\n",
      "Number theory 0.9999999999999997\n",
      "Other 0.9999999999999999\n",
      "PDE 0.9999999999999997\n",
      "Probability 1.0\n",
      "Statistics 1.0\n"
     ]
    }
   ],
   "source": [
    "# sanity check. All sd are same\n",
    "for x in standardized[\"Major field\"].unique():\n",
    "    fjj = standardized[standardized[\"Major field\"] == x][\"zscore\"]\n",
    "    print(x, np.std(fjj))"
   ]
  },
  {
   "cell_type": "code",
   "execution_count": 31,
   "metadata": {},
   "outputs": [],
   "source": [
    "malezs = standardized[standardized.Gender == 'Male'].groupby('Major field').zscore.mean()"
   ]
  },
  {
   "cell_type": "code",
   "execution_count": 32,
   "metadata": {},
   "outputs": [
    {
     "data": {
      "text/plain": [
       "Major field\n",
       "Algebra                 0.043012\n",
       "Algebraic Geometry      0.031507\n",
       "Analysis                0.069864\n",
       "Applied Math            0.030875\n",
       "Combinatorics           0.028480\n",
       "Complex Analysis        0.045660\n",
       "Computer Science        0.033556\n",
       "Dynamics                0.050350\n",
       "Geometry                0.037718\n",
       "Group theory            0.030517\n",
       "Harmonic analysis       0.014618\n",
       "History                -1.000000\n",
       "Lie Groups              0.070359\n",
       "Logic                   0.047046\n",
       "Mathematical Physics   -0.035800\n",
       "Number theory           0.041191\n",
       "Other                   0.159438\n",
       "PDE                     0.036768\n",
       "Probability             0.062815\n",
       "Statistics              0.062458\n",
       "Name: zscore, dtype: float64"
      ]
     },
     "execution_count": 32,
     "metadata": {},
     "output_type": "execute_result"
    }
   ],
   "source": [
    "malezs"
   ]
  },
  {
   "cell_type": "code",
   "execution_count": 33,
   "metadata": {},
   "outputs": [],
   "source": [
    "femalezs = standardized[standardized.Gender == 'Female'].groupby('Major field').zscore.mean()"
   ]
  },
  {
   "cell_type": "code",
   "execution_count": 34,
   "metadata": {},
   "outputs": [
    {
     "data": {
      "text/plain": [
       "Major field\n",
       "Algebra                -0.294938\n",
       "Algebraic Geometry     -0.378085\n",
       "Analysis               -0.558912\n",
       "Applied Math           -0.157523\n",
       "Combinatorics          -0.191768\n",
       "Complex Analysis       -0.610698\n",
       "Computer Science       -0.268447\n",
       "Dynamics               -0.330075\n",
       "Geometry               -0.328856\n",
       "Group theory           -0.322607\n",
       "Harmonic analysis      -0.157354\n",
       "History                 1.000000\n",
       "Lie Groups             -0.433881\n",
       "Logic                  -0.599834\n",
       "Mathematical Physics    0.393799\n",
       "Number theory          -0.504593\n",
       "Other                  -0.717472\n",
       "PDE                    -0.267181\n",
       "Probability            -0.599158\n",
       "Statistics             -0.408814\n",
       "Name: zscore, dtype: float64"
      ]
     },
     "execution_count": 34,
     "metadata": {},
     "output_type": "execute_result"
    }
   ],
   "source": [
    "femalezs"
   ]
  },
  {
   "cell_type": "code",
   "execution_count": 35,
   "metadata": {},
   "outputs": [],
   "source": [
    "cohenzs = malezs - femalezs"
   ]
  },
  {
   "cell_type": "code",
   "execution_count": 36,
   "metadata": {},
   "outputs": [
    {
     "data": {
      "text/plain": [
       "Major field\n",
       "Algebra                 0.337950\n",
       "Algebraic Geometry      0.409593\n",
       "Analysis                0.628776\n",
       "Applied Math            0.188398\n",
       "Combinatorics           0.220248\n",
       "Complex Analysis        0.656358\n",
       "Computer Science        0.302003\n",
       "Dynamics                0.380425\n",
       "Geometry                0.366574\n",
       "Group theory            0.353124\n",
       "Harmonic analysis       0.171971\n",
       "History                -2.000000\n",
       "Lie Groups              0.504240\n",
       "Logic                   0.646880\n",
       "Mathematical Physics   -0.429599\n",
       "Number theory           0.545784\n",
       "Other                   0.876910\n",
       "PDE                     0.303949\n",
       "Probability             0.661973\n",
       "Statistics              0.471272\n",
       "Name: zscore, dtype: float64"
      ]
     },
     "execution_count": 36,
     "metadata": {},
     "output_type": "execute_result"
    }
   ],
   "source": [
    "cohenzs"
   ]
  },
  {
   "cell_type": "markdown",
   "metadata": {},
   "source": [
    "**Cohen Z scores** Mathematical physics is an interesting outlier."
   ]
  },
  {
   "cell_type": "code",
   "execution_count": 37,
   "metadata": {},
   "outputs": [
    {
     "data": {
      "text/plain": [
       "Text(0.5, 1.0, 'Boxplot of Z-scores vs Gender')"
      ]
     },
     "execution_count": 37,
     "metadata": {},
     "output_type": "execute_result"
    },
    {
     "data": {
      "image/png": "[encoded data removed]",
      "text/plain": [
       "<Figure size 720x360 with 1 Axes>"
      ]
     },
     "metadata": {
      "needs_background": "light"
     },
     "output_type": "display_data"
    }
   ],
   "source": [
    "sns.boxplot(x=\"Gender\", y=\"zscore\", data = standardized)\n",
    "plt.title(\"Boxplot of Z-scores vs Gender\")"
   ]
  },
  {
   "cell_type": "code",
   "execution_count": 38,
   "metadata": {},
   "outputs": [
    {
     "data": {
      "text/plain": [
       "Text(0, 0.5, 'Counts')"
      ]
     },
     "execution_count": 38,
     "metadata": {},
     "output_type": "execute_result"
    },
    {
     "data": {
      "image/png": "[encoded data removed]",
      "text/plain": [
       "<Figure size 720x360 with 1 Axes>"
      ]
     },
     "metadata": {
      "needs_background": "light"
     },
     "output_type": "display_data"
    }
   ],
   "source": [
    "np.random.seed(0)\n",
    "plt.hist(standardized[standardized[\"Gender\"]==\"Male\"].zscore)\n",
    "plt.hist(standardized[standardized[\"Gender\"]==\"Female\"].zscore, color = \"red\")\n",
    "plt.title(\"Histogram of Interfield Z-scores for Women (Red) and Men (Blue)\")\n",
    "plt.xlabel(\"Value\")\n",
    "plt.ylabel(\"Counts\")"
   ]
  },
  {
   "cell_type": "code",
   "execution_count": 39,
   "metadata": {},
   "outputs": [
    {
     "data": {
      "text/plain": [
       "(array([ 89., 143.,  45.,  18.,   6.,   3.,   3.,   0.,   1.,   2.]),\n",
       " array([-1.12090172, -0.61820019, -0.11549866,  0.38720287,  0.8899044 ,\n",
       "         1.39260593,  1.89530746,  2.39800899,  2.90071052,  3.40341205,\n",
       "         3.90611358]),\n",
       " <a list of 10 Patch objects>)"
      ]
     },
     "execution_count": 39,
     "metadata": {},
     "output_type": "execute_result"
    },
    {
     "data": {
      "image/png": "[encoded data removed]",
      "text/plain": [
       "<Figure size 720x360 with 1 Axes>"
      ]
     },
     "metadata": {
      "needs_background": "light"
     },
     "output_type": "display_data"
    }
   ],
   "source": [
    "www = standardized[standardized[\"Gender\"]==\"Female\"]\n",
    "plt.hist(www.zscore)"
   ]
  },
  {
   "cell_type": "code",
   "execution_count": 40,
   "metadata": {},
   "outputs": [
    {
     "data": {
      "text/plain": [
       "(array([1.747e+03, 5.540e+02, 1.290e+02, 4.500e+01, 1.200e+01, 5.000e+00,\n",
       "        3.000e+00, 1.000e+00, 0.000e+00, 1.000e+00]),\n",
       " array([-1.16035535,  0.14388169,  1.44811873,  2.75235577,  4.05659281,\n",
       "         5.36082985,  6.66506689,  7.96930393,  9.27354097, 10.57777801,\n",
       "        11.88201505]),\n",
       " <a list of 10 Patch objects>)"
      ]
     },
     "execution_count": 40,
     "metadata": {},
     "output_type": "execute_result"
    },
    {
     "data": {
      "image/png": "[encoded data removed]",
      "text/plain": [
       "<Figure size 720x360 with 1 Axes>"
      ]
     },
     "metadata": {
      "needs_background": "light"
     },
     "output_type": "display_data"
    }
   ],
   "source": [
    "mmm = standardized[standardized[\"Gender\"]==\"Male\"]\n",
    "plt.hist(mmm.zscore)"
   ]
  },
  {
   "cell_type": "code",
   "execution_count": 41,
   "metadata": {},
   "outputs": [
    {
     "data": {
      "text/html": [
       "<div>\n",
       "<style scoped>\n",
       "    .dataframe tbody tr th:only-of-type {\n",
       "        vertical-align: middle;\n",
       "    }\n",
       "\n",
       "    .dataframe tbody tr th {\n",
       "        vertical-align: top;\n",
       "    }\n",
       "\n",
       "    .dataframe thead th {\n",
       "        text-align: right;\n",
       "    }\n",
       "</style>\n",
       "<table border=\"1\" class=\"dataframe\">\n",
       "  <thead>\n",
       "    <tr style=\"text-align: right;\">\n",
       "      <th></th>\n",
       "      <th>School</th>\n",
       "      <th>Gender</th>\n",
       "      <th>Role</th>\n",
       "      <th>Citations</th>\n",
       "      <th>Earliest_Pub</th>\n",
       "      <th>Field_1</th>\n",
       "      <th>Field_2</th>\n",
       "      <th>Major field</th>\n",
       "      <th>Age</th>\n",
       "      <th>citperyear</th>\n",
       "      <th>citperyear13</th>\n",
       "      <th>zscore</th>\n",
       "    </tr>\n",
       "  </thead>\n",
       "  <tbody>\n",
       "    <tr>\n",
       "      <th>258</th>\n",
       "      <td>Cornell University</td>\n",
       "      <td>Female</td>\n",
       "      <td>Professor</td>\n",
       "      <td>898</td>\n",
       "      <td>1989</td>\n",
       "      <td>Commutative rings and algebras</td>\n",
       "      <td>NaN</td>\n",
       "      <td>Algebra</td>\n",
       "      <td>31</td>\n",
       "      <td>28.967742</td>\n",
       "      <td>10.339657</td>\n",
       "      <td>0.118452</td>\n",
       "    </tr>\n",
       "    <tr>\n",
       "      <th>530</th>\n",
       "      <td>Indiana University Bloomington</td>\n",
       "      <td>Female</td>\n",
       "      <td>Professor</td>\n",
       "      <td>56</td>\n",
       "      <td>1992</td>\n",
       "      <td>K-theory</td>\n",
       "      <td>NaN</td>\n",
       "      <td>Algebra</td>\n",
       "      <td>28</td>\n",
       "      <td>2.000000</td>\n",
       "      <td>0.736008</td>\n",
       "      <td>-0.811955</td>\n",
       "    </tr>\n",
       "    <tr>\n",
       "      <th>690</th>\n",
       "      <td>Michigan State University</td>\n",
       "      <td>Female</td>\n",
       "      <td>Professor</td>\n",
       "      <td>118</td>\n",
       "      <td>1975</td>\n",
       "      <td>Associative rings and algebras</td>\n",
       "      <td>NaN</td>\n",
       "      <td>Algebra</td>\n",
       "      <td>45</td>\n",
       "      <td>2.622222</td>\n",
       "      <td>0.836962</td>\n",
       "      <td>-0.802175</td>\n",
       "    </tr>\n",
       "    <tr>\n",
       "      <th>804</th>\n",
       "      <td>North Carolina State University</td>\n",
       "      <td>Female</td>\n",
       "      <td>Professor</td>\n",
       "      <td>125</td>\n",
       "      <td>1994</td>\n",
       "      <td>Commutative rings and algebras</td>\n",
       "      <td>NaN</td>\n",
       "      <td>Algebra</td>\n",
       "      <td>26</td>\n",
       "      <td>4.807692</td>\n",
       "      <td>1.809025</td>\n",
       "      <td>-0.708001</td>\n",
       "    </tr>\n",
       "    <tr>\n",
       "      <th>810</th>\n",
       "      <td>North Carolina State University</td>\n",
       "      <td>Female</td>\n",
       "      <td>Professor</td>\n",
       "      <td>21</td>\n",
       "      <td>1976</td>\n",
       "      <td>Associative rings and algebras</td>\n",
       "      <td>NaN</td>\n",
       "      <td>Algebra</td>\n",
       "      <td>44</td>\n",
       "      <td>0.477273</td>\n",
       "      <td>0.153367</td>\n",
       "      <td>-0.868402</td>\n",
       "    </tr>\n",
       "    <tr>\n",
       "      <th>...</th>\n",
       "      <td>...</td>\n",
       "      <td>...</td>\n",
       "      <td>...</td>\n",
       "      <td>...</td>\n",
       "      <td>...</td>\n",
       "      <td>...</td>\n",
       "      <td>...</td>\n",
       "      <td>...</td>\n",
       "      <td>...</td>\n",
       "      <td>...</td>\n",
       "      <td>...</td>\n",
       "      <td>...</td>\n",
       "    </tr>\n",
       "    <tr>\n",
       "      <th>1364</th>\n",
       "      <td>The University of Texas at Dallas</td>\n",
       "      <td>Female</td>\n",
       "      <td>Professor</td>\n",
       "      <td>51</td>\n",
       "      <td>1998</td>\n",
       "      <td>Statistics</td>\n",
       "      <td>NaN</td>\n",
       "      <td>Statistics</td>\n",
       "      <td>22</td>\n",
       "      <td>2.318182</td>\n",
       "      <td>0.917108</td>\n",
       "      <td>-0.479032</td>\n",
       "    </tr>\n",
       "    <tr>\n",
       "      <th>1647</th>\n",
       "      <td>University of California, San Diego</td>\n",
       "      <td>Female</td>\n",
       "      <td>Professor</td>\n",
       "      <td>29</td>\n",
       "      <td>1996</td>\n",
       "      <td>Statistics</td>\n",
       "      <td>NaN</td>\n",
       "      <td>Statistics</td>\n",
       "      <td>24</td>\n",
       "      <td>1.208333</td>\n",
       "      <td>0.465718</td>\n",
       "      <td>-0.577903</td>\n",
       "    </tr>\n",
       "    <tr>\n",
       "      <th>1723</th>\n",
       "      <td>University of Central Florida</td>\n",
       "      <td>Female</td>\n",
       "      <td>Professor</td>\n",
       "      <td>273</td>\n",
       "      <td>1982</td>\n",
       "      <td>Statistics</td>\n",
       "      <td>NaN</td>\n",
       "      <td>Statistics</td>\n",
       "      <td>38</td>\n",
       "      <td>7.184211</td>\n",
       "      <td>2.412370</td>\n",
       "      <td>-0.151517</td>\n",
       "    </tr>\n",
       "    <tr>\n",
       "      <th>2067</th>\n",
       "      <td>University of Maryland - College Park</td>\n",
       "      <td>Female</td>\n",
       "      <td>Professor</td>\n",
       "      <td>106</td>\n",
       "      <td>1990</td>\n",
       "      <td>Statistics</td>\n",
       "      <td>NaN</td>\n",
       "      <td>Statistics</td>\n",
       "      <td>30</td>\n",
       "      <td>3.533333</td>\n",
       "      <td>1.273645</td>\n",
       "      <td>-0.400938</td>\n",
       "    </tr>\n",
       "    <tr>\n",
       "      <th>2112</th>\n",
       "      <td>University of Massachusetts Amherst</td>\n",
       "      <td>Female</td>\n",
       "      <td>Professor</td>\n",
       "      <td>18</td>\n",
       "      <td>2003</td>\n",
       "      <td>Statistics</td>\n",
       "      <td>NaN</td>\n",
       "      <td>Statistics</td>\n",
       "      <td>17</td>\n",
       "      <td>1.058824</td>\n",
       "      <td>0.452573</td>\n",
       "      <td>-0.580782</td>\n",
       "    </tr>\n",
       "  </tbody>\n",
       "</table>\n",
       "<p>310 rows × 12 columns</p>\n",
       "</div>"
      ],
      "text/plain": [
       "                                     School  Gender       Role  Citations  \\\n",
       "258                      Cornell University  Female  Professor        898   \n",
       "530          Indiana University Bloomington  Female  Professor         56   \n",
       "690               Michigan State University  Female  Professor        118   \n",
       "804         North Carolina State University  Female  Professor        125   \n",
       "810         North Carolina State University  Female  Professor         21   \n",
       "...                                     ...     ...        ...        ...   \n",
       "1364      The University of Texas at Dallas  Female  Professor         51   \n",
       "1647    University of California, San Diego  Female  Professor         29   \n",
       "1723          University of Central Florida  Female  Professor        273   \n",
       "2067  University of Maryland - College Park  Female  Professor        106   \n",
       "2112    University of Massachusetts Amherst  Female  Professor         18   \n",
       "\n",
       "      Earliest_Pub                         Field_1 Field_2 Major field  Age  \\\n",
       "258           1989  Commutative rings and algebras     NaN     Algebra   31   \n",
       "530           1992                        K-theory     NaN     Algebra   28   \n",
       "690           1975  Associative rings and algebras     NaN     Algebra   45   \n",
       "804           1994  Commutative rings and algebras     NaN     Algebra   26   \n",
       "810           1976  Associative rings and algebras     NaN     Algebra   44   \n",
       "...            ...                             ...     ...         ...  ...   \n",
       "1364          1998                      Statistics     NaN  Statistics   22   \n",
       "1647          1996                      Statistics     NaN  Statistics   24   \n",
       "1723          1982                      Statistics     NaN  Statistics   38   \n",
       "2067          1990                      Statistics     NaN  Statistics   30   \n",
       "2112          2003                      Statistics     NaN  Statistics   17   \n",
       "\n",
       "      citperyear  citperyear13    zscore  \n",
       "258    28.967742     10.339657  0.118452  \n",
       "530     2.000000      0.736008 -0.811955  \n",
       "690     2.622222      0.836962 -0.802175  \n",
       "804     4.807692      1.809025 -0.708001  \n",
       "810     0.477273      0.153367 -0.868402  \n",
       "...          ...           ...       ...  \n",
       "1364    2.318182      0.917108 -0.479032  \n",
       "1647    1.208333      0.465718 -0.577903  \n",
       "1723    7.184211      2.412370 -0.151517  \n",
       "2067    3.533333      1.273645 -0.400938  \n",
       "2112    1.058824      0.452573 -0.580782  \n",
       "\n",
       "[310 rows x 12 columns]"
      ]
     },
     "execution_count": 41,
     "metadata": {},
     "output_type": "execute_result"
    }
   ],
   "source": [
    "www"
   ]
  },
  {
   "cell_type": "code",
   "execution_count": 42,
   "metadata": {},
   "outputs": [
    {
     "data": {
      "text/html": [
       "<div>\n",
       "<style scoped>\n",
       "    .dataframe tbody tr th:only-of-type {\n",
       "        vertical-align: middle;\n",
       "    }\n",
       "\n",
       "    .dataframe tbody tr th {\n",
       "        vertical-align: top;\n",
       "    }\n",
       "\n",
       "    .dataframe thead th {\n",
       "        text-align: right;\n",
       "    }\n",
       "</style>\n",
       "<table border=\"1\" class=\"dataframe\">\n",
       "  <thead>\n",
       "    <tr style=\"text-align: right;\">\n",
       "      <th></th>\n",
       "      <th>Citations</th>\n",
       "      <th>Earliest_Pub</th>\n",
       "      <th>Age</th>\n",
       "      <th>citperyear</th>\n",
       "      <th>citperyear13</th>\n",
       "      <th>zscore</th>\n",
       "    </tr>\n",
       "  </thead>\n",
       "  <tbody>\n",
       "    <tr>\n",
       "      <th>count</th>\n",
       "      <td>310.000000</td>\n",
       "      <td>310.000000</td>\n",
       "      <td>310.000000</td>\n",
       "      <td>310.000000</td>\n",
       "      <td>310.000000</td>\n",
       "      <td>310.000000</td>\n",
       "    </tr>\n",
       "    <tr>\n",
       "      <th>mean</th>\n",
       "      <td>475.709677</td>\n",
       "      <td>1992.116129</td>\n",
       "      <td>27.883871</td>\n",
       "      <td>16.554618</td>\n",
       "      <td>6.185260</td>\n",
       "      <td>-0.287867</td>\n",
       "    </tr>\n",
       "    <tr>\n",
       "      <th>std</th>\n",
       "      <td>716.684604</td>\n",
       "      <td>9.120165</td>\n",
       "      <td>9.120165</td>\n",
       "      <td>21.400093</td>\n",
       "      <td>7.878863</td>\n",
       "      <td>0.658736</td>\n",
       "    </tr>\n",
       "    <tr>\n",
       "      <th>min</th>\n",
       "      <td>0.000000</td>\n",
       "      <td>1967.000000</td>\n",
       "      <td>10.000000</td>\n",
       "      <td>0.000000</td>\n",
       "      <td>0.000000</td>\n",
       "      <td>-1.120902</td>\n",
       "    </tr>\n",
       "    <tr>\n",
       "      <th>25%</th>\n",
       "      <td>109.000000</td>\n",
       "      <td>1986.000000</td>\n",
       "      <td>21.000000</td>\n",
       "      <td>4.230252</td>\n",
       "      <td>1.540643</td>\n",
       "      <td>-0.643406</td>\n",
       "    </tr>\n",
       "    <tr>\n",
       "      <th>50%</th>\n",
       "      <td>240.000000</td>\n",
       "      <td>1993.000000</td>\n",
       "      <td>27.000000</td>\n",
       "      <td>9.871053</td>\n",
       "      <td>3.798123</td>\n",
       "      <td>-0.491653</td>\n",
       "    </tr>\n",
       "    <tr>\n",
       "      <th>75%</th>\n",
       "      <td>615.500000</td>\n",
       "      <td>1999.000000</td>\n",
       "      <td>34.000000</td>\n",
       "      <td>20.492857</td>\n",
       "      <td>7.649517</td>\n",
       "      <td>-0.114883</td>\n",
       "    </tr>\n",
       "    <tr>\n",
       "      <th>max</th>\n",
       "      <td>6860.000000</td>\n",
       "      <td>2010.000000</td>\n",
       "      <td>53.000000</td>\n",
       "      <td>170.031250</td>\n",
       "      <td>60.115125</td>\n",
       "      <td>3.906114</td>\n",
       "    </tr>\n",
       "  </tbody>\n",
       "</table>\n",
       "</div>"
      ],
      "text/plain": [
       "         Citations  Earliest_Pub         Age  citperyear  citperyear13  \\\n",
       "count   310.000000    310.000000  310.000000  310.000000    310.000000   \n",
       "mean    475.709677   1992.116129   27.883871   16.554618      6.185260   \n",
       "std     716.684604      9.120165    9.120165   21.400093      7.878863   \n",
       "min       0.000000   1967.000000   10.000000    0.000000      0.000000   \n",
       "25%     109.000000   1986.000000   21.000000    4.230252      1.540643   \n",
       "50%     240.000000   1993.000000   27.000000    9.871053      3.798123   \n",
       "75%     615.500000   1999.000000   34.000000   20.492857      7.649517   \n",
       "max    6860.000000   2010.000000   53.000000  170.031250     60.115125   \n",
       "\n",
       "           zscore  \n",
       "count  310.000000  \n",
       "mean    -0.287867  \n",
       "std      0.658736  \n",
       "min     -1.120902  \n",
       "25%     -0.643406  \n",
       "50%     -0.491653  \n",
       "75%     -0.114883  \n",
       "max      3.906114  "
      ]
     },
     "metadata": {},
     "output_type": "display_data"
    },
    {
     "data": {
      "text/html": [
       "<div>\n",
       "<style scoped>\n",
       "    .dataframe tbody tr th:only-of-type {\n",
       "        vertical-align: middle;\n",
       "    }\n",
       "\n",
       "    .dataframe tbody tr th {\n",
       "        vertical-align: top;\n",
       "    }\n",
       "\n",
       "    .dataframe thead th {\n",
       "        text-align: right;\n",
       "    }\n",
       "</style>\n",
       "<table border=\"1\" class=\"dataframe\">\n",
       "  <thead>\n",
       "    <tr style=\"text-align: right;\">\n",
       "      <th></th>\n",
       "      <th>Citations</th>\n",
       "      <th>Earliest_Pub</th>\n",
       "      <th>Age</th>\n",
       "      <th>citperyear</th>\n",
       "      <th>citperyear13</th>\n",
       "      <th>zscore</th>\n",
       "    </tr>\n",
       "  </thead>\n",
       "  <tbody>\n",
       "    <tr>\n",
       "      <th>count</th>\n",
       "      <td>2497.000000</td>\n",
       "      <td>2497.000000</td>\n",
       "      <td>2497.000000</td>\n",
       "      <td>2497.000000</td>\n",
       "      <td>2497.000000</td>\n",
       "      <td>2497.000000</td>\n",
       "    </tr>\n",
       "    <tr>\n",
       "      <th>mean</th>\n",
       "      <td>988.602723</td>\n",
       "      <td>1986.400080</td>\n",
       "      <td>33.599920</td>\n",
       "      <td>28.171185</td>\n",
       "      <td>9.924545</td>\n",
       "      <td>0.035738</td>\n",
       "    </tr>\n",
       "    <tr>\n",
       "      <th>std</th>\n",
       "      <td>1561.622768</td>\n",
       "      <td>11.194044</td>\n",
       "      <td>11.194044</td>\n",
       "      <td>38.461738</td>\n",
       "      <td>13.314503</td>\n",
       "      <td>1.029228</td>\n",
       "    </tr>\n",
       "    <tr>\n",
       "      <th>min</th>\n",
       "      <td>0.000000</td>\n",
       "      <td>1950.000000</td>\n",
       "      <td>7.000000</td>\n",
       "      <td>0.000000</td>\n",
       "      <td>0.000000</td>\n",
       "      <td>-1.160355</td>\n",
       "    </tr>\n",
       "    <tr>\n",
       "      <th>25%</th>\n",
       "      <td>215.000000</td>\n",
       "      <td>1979.000000</td>\n",
       "      <td>25.000000</td>\n",
       "      <td>7.176471</td>\n",
       "      <td>2.589171</td>\n",
       "      <td>-0.592701</td>\n",
       "    </tr>\n",
       "    <tr>\n",
       "      <th>50%</th>\n",
       "      <td>501.000000</td>\n",
       "      <td>1987.000000</td>\n",
       "      <td>33.000000</td>\n",
       "      <td>16.538462</td>\n",
       "      <td>5.999998</td>\n",
       "      <td>-0.301375</td>\n",
       "    </tr>\n",
       "    <tr>\n",
       "      <th>75%</th>\n",
       "      <td>1126.000000</td>\n",
       "      <td>1995.000000</td>\n",
       "      <td>41.000000</td>\n",
       "      <td>34.800000</td>\n",
       "      <td>12.646909</td>\n",
       "      <td>0.302705</td>\n",
       "    </tr>\n",
       "    <tr>\n",
       "      <th>max</th>\n",
       "      <td>19975.000000</td>\n",
       "      <td>2013.000000</td>\n",
       "      <td>70.000000</td>\n",
       "      <td>646.958333</td>\n",
       "      <td>249.352048</td>\n",
       "      <td>11.882015</td>\n",
       "    </tr>\n",
       "  </tbody>\n",
       "</table>\n",
       "</div>"
      ],
      "text/plain": [
       "          Citations  Earliest_Pub          Age   citperyear  citperyear13  \\\n",
       "count   2497.000000   2497.000000  2497.000000  2497.000000   2497.000000   \n",
       "mean     988.602723   1986.400080    33.599920    28.171185      9.924545   \n",
       "std     1561.622768     11.194044    11.194044    38.461738     13.314503   \n",
       "min        0.000000   1950.000000     7.000000     0.000000      0.000000   \n",
       "25%      215.000000   1979.000000    25.000000     7.176471      2.589171   \n",
       "50%      501.000000   1987.000000    33.000000    16.538462      5.999998   \n",
       "75%     1126.000000   1995.000000    41.000000    34.800000     12.646909   \n",
       "max    19975.000000   2013.000000    70.000000   646.958333    249.352048   \n",
       "\n",
       "            zscore  \n",
       "count  2497.000000  \n",
       "mean      0.035738  \n",
       "std       1.029228  \n",
       "min      -1.160355  \n",
       "25%      -0.592701  \n",
       "50%      -0.301375  \n",
       "75%       0.302705  \n",
       "max      11.882015  "
      ]
     },
     "metadata": {},
     "output_type": "display_data"
    }
   ],
   "source": [
    "for i, j in standardized.groupby('Gender'):\n",
    "    display(j.describe())"
   ]
  },
  {
   "cell_type": "code",
   "execution_count": 43,
   "metadata": {},
   "outputs": [
    {
     "data": {
      "text/plain": [
       "Text(0, 0.5, 'Counts')"
      ]
     },
     "execution_count": 43,
     "metadata": {},
     "output_type": "execute_result"
    },
    {
     "data": {
      "image/png": "[encoded data removed]",
      "text/plain": [
       "<Figure size 720x360 with 1 Axes>"
      ]
     },
     "metadata": {
      "needs_background": "light"
     },
     "output_type": "display_data"
    }
   ],
   "source": [
    "standardized.zscore.hist(bins=50)\n",
    "plt.title(\"Histogram of Z-scores\")\n",
    "plt.xlabel(\"Value\")\n",
    "plt.ylabel(\"Counts\")"
   ]
  },
  {
   "cell_type": "markdown",
   "metadata": {},
   "source": [
    "# Permutation Test Gender"
   ]
  },
  {
   "cell_type": "code",
   "execution_count": 44,
   "metadata": {},
   "outputs": [
    {
     "name": "stdout",
     "output_type": "stream",
     "text": [
      "-0.2878665164677147\n",
      "0.035738334042848104\n",
      "-0.3236048505105628\n"
     ]
    }
   ],
   "source": [
    "z = standardized[standardized.Gender=='Male'].zscore\n",
    "y = standardized[standardized.Gender=='Female'].zscore\n",
    "\n",
    "print(y.mean())\n",
    "print(z.mean())\n",
    "print(y.mean() - z.mean())"
   ]
  },
  {
   "cell_type": "code",
   "execution_count": 45,
   "metadata": {},
   "outputs": [
    {
     "name": "stdout",
     "output_type": "stream",
     "text": [
      "0.0\n"
     ]
    }
   ],
   "source": [
    "\n",
    "\n",
    "delta = y.mean() - z.mean()\n",
    "numSamples = 10000\n",
    "l=[]\n",
    "pooled = np.hstack([y,z])\n",
    "\n",
    "for i in range(numSamples):\n",
    "    x = run_permutation_test(pooled,z.size,y.size)\n",
    "    l.append(x)\n",
    "print(check(l))"
   ]
  },
  {
   "cell_type": "code",
   "execution_count": 46,
   "metadata": {},
   "outputs": [],
   "source": [
    "no_pde = standardized[standardized[\"Major field\"]!=\"PDE\"]\n",
    "no_cs = no_pde[no_pde[\"Major field\"]!= \"Computer Science\"]"
   ]
  },
  {
   "cell_type": "code",
   "execution_count": 47,
   "metadata": {},
   "outputs": [
    {
     "name": "stdout",
     "output_type": "stream",
     "text": [
      "-0.2878665164677147\n",
      "0.035738334042848104\n",
      "-0.3236048505105628\n"
     ]
    }
   ],
   "source": [
    "z = standardized[standardized.Gender=='Male'].zscore\n",
    "y = standardized[standardized.Gender=='Female'].zscore\n",
    "\n",
    "print(y.mean())\n",
    "print(z.mean())\n",
    "print(y.mean() - z.mean())"
   ]
  },
  {
   "cell_type": "code",
   "execution_count": null,
   "metadata": {},
   "outputs": [],
   "source": []
  },
  {
   "cell_type": "code",
   "execution_count": null,
   "metadata": {},
   "outputs": [],
   "source": []
  },
  {
   "cell_type": "markdown",
   "metadata": {},
   "source": [
    "# Rankings of universities top 38"
   ]
  },
  {
   "cell_type": "code",
   "execution_count": 49,
   "metadata": {},
   "outputs": [],
   "source": [
    "byschool = standardized.groupby('School').zscore.mean().sort_values( ascending=False)"
   ]
  },
  {
   "cell_type": "code",
   "execution_count": 51,
   "metadata": {},
   "outputs": [
    {
     "data": {
      "text/plain": [
       "School\n",
       "Princeton University                           1.772333\n",
       "Harvard University                             1.465666\n",
       "Stanford University                            1.019265\n",
       "University of Chicago                          0.955099\n",
       "Columbia University in the City of New York    0.902455\n",
       "Massachusetts Institute of Technology          0.864781\n",
       "University of California, Los Angeles          0.835296\n",
       "University of Miami                            0.782862\n",
       "Yale University                                0.759163\n",
       "Brown University                               0.617112\n",
       "University of California, Berkeley             0.592989\n",
       "New York University                            0.591825\n",
       "University of Oregon                           0.535733\n",
       "California Institute of Technology             0.425761\n",
       "Duke University                                0.399966\n",
       "Stony Brook University                         0.385291\n",
       "Rutgers University-New Brunswick               0.323667\n",
       "University of Virginia                         0.320344\n",
       "Texas A&M University                           0.306616\n",
       "Northwestern University                        0.284214\n",
       "University of Michigan                         0.269438\n",
       "Rice University                                0.266794\n",
       "The University of Texas at Austin              0.260132\n",
       "Carnegie Mellon University                     0.234670\n",
       "University of Illinois at Chicago              0.228812\n",
       "University of California, Irvine               0.216124\n",
       "University of Pittsburgh                       0.175216\n",
       "Georgia Institute of Technology                0.174301\n",
       "University of Minnesota                        0.173807\n",
       "Vanderbilt University                          0.153684\n",
       "Indiana University Bloomington                 0.134593\n",
       "SUNY at Albany                                 0.127854\n",
       "University of California, San Diego            0.115895\n",
       "University of North Texas                      0.039275\n",
       "University of Washington                       0.028879\n",
       "University of Connecticut                      0.019902\n",
       "Arizona State University                       0.001275\n",
       "Pennsylvania State University                  0.001075\n",
       "University of Southern California             -0.015086\n",
       "Purdue University                             -0.026049\n",
       "University of Illinois at Urbana-Champaign    -0.029567\n",
       "Cornell University                            -0.041871\n",
       "University of Maryland - College Park         -0.042200\n",
       "University of Utah                            -0.044988\n",
       "North Carolina State University               -0.047922\n",
       "Johns Hopkins University                      -0.056118\n",
       "University of California, Riverside           -0.063295\n",
       "University of California, Santa Cruz          -0.073462\n",
       "Washington University in St. Louis            -0.079621\n",
       "Wayne State University                        -0.079795\n",
       "Name: zscore, dtype: float64"
      ]
     },
     "execution_count": 51,
     "metadata": {},
     "output_type": "execute_result"
    }
   ],
   "source": [
    "byschool.head(50)"
   ]
  },
  {
   "cell_type": "markdown",
   "metadata": {},
   "source": [
    "It is interesting that so few places are above average..."
   ]
  },
  {
   "cell_type": "code",
   "execution_count": 54,
   "metadata": {},
   "outputs": [
    {
     "data": {
      "text/plain": [
       "School\n",
       "University of Pennsylvania                                       -0.090948\n",
       "Brandeis University                                              -0.103217\n",
       "Colorado State University                                        -0.107424\n",
       "University of Notre Dame                                         -0.112700\n",
       "University of California, Santa Barbara                          -0.124383\n",
       "University of North Carolina at Chapel Hill                      -0.126511\n",
       "University of Houston                                            -0.129775\n",
       "University of Iowa                                               -0.142739\n",
       "The Ohio State University                                        -0.158593\n",
       "University of South Florida                                      -0.162873\n",
       "Michigan State University                                        -0.176252\n",
       "University of California, Davis                                  -0.179939\n",
       "Virginia Polytechnic Institute and State University              -0.182176\n",
       "University of Missouri                                           -0.184334\n",
       "University of Wisconsin - Madison                                -0.190450\n",
       "University of Massachusetts Amherst                              -0.197421\n",
       "University of South Carolina                                     -0.198227\n",
       "Emory University                                                 -0.212041\n",
       "University of Central Florida                                    -0.214746\n",
       "University of Kentucky                                           -0.216342\n",
       "University of Florida                                            -0.232629\n",
       "University of Delaware                                           -0.237529\n",
       "Louisiana State University and Agricultural&Mechanical College   -0.243291\n",
       "Syracuse University                                              -0.244252\n",
       "Georgia State University                                         -0.257336\n",
       "University of Colorado Denver                                    -0.264654\n",
       "Boston University                                                -0.271276\n",
       "Tulane University of Louisiana                                   -0.287806\n",
       "Clemson University                                               -0.299765\n",
       "University of Kansas                                             -0.337995\n",
       "University of Southern Mississippi                               -0.341831\n",
       "Boston College                                                   -0.347758\n",
       "Mississippi State University                                     -0.354803\n",
       "University of Rochester                                          -0.356356\n",
       "CUNY Graduate School and University Center                       -0.366480\n",
       "The University of Tennessee                                      -0.366940\n",
       "George Washington University                                     -0.374627\n",
       "Georgetown University                                            -0.377510\n",
       "Florida State Universty                                          -0.382602\n",
       "Iowa State University                                            -0.390537\n",
       "University at Buffalo                                            -0.400504\n",
       "Northeastern University                                          -0.405867\n",
       "Tufts University                                                 -0.411915\n",
       "University of Nebraska-Lincoln                                   -0.414399\n",
       "University of Georgia                                            -0.414819\n",
       "University of New Hampshire                                      -0.416771\n",
       "Virgina Commonwealth                                             -0.418676\n",
       "University of Cincinatti                                         -0.418800\n",
       "Dartmouth College                                                -0.424749\n",
       "Rennselaer Polytechnic Institute                                 -0.438484\n",
       "Name: zscore, dtype: float64"
      ]
     },
     "execution_count": 54,
     "metadata": {},
     "output_type": "execute_result"
    }
   ],
   "source": [
    "byschool[50:100]"
   ]
  },
  {
   "cell_type": "code",
   "execution_count": 58,
   "metadata": {},
   "outputs": [
    {
     "data": {
      "text/plain": [
       "School\n",
       "University of Nevada, Reno             -0.449023\n",
       "West Virginia University               -0.449922\n",
       "Auburn University                      -0.455573\n",
       "The University of Texas at Arlington   -0.457660\n",
       "Texas Tech University                  -0.461208\n",
       "University of Arizona                  -0.469724\n",
       "Binghamton University                  -0.473284\n",
       "University of New Mexico               -0.489398\n",
       "The University of Alabama              -0.489536\n",
       "The University of Texas at Dallas      -0.501795\n",
       "George Mason University                -0.503771\n",
       "Florida Institute University           -0.505568\n",
       "University of Oklahoma                 -0.509256\n",
       "University of Colorado Boulder         -0.511068\n",
       "University of Hawaii at Manoa          -0.513600\n",
       "Case Western Reserve University        -0.514692\n",
       "University of Alabama at Birmingham    -0.515641\n",
       "Oklahoma State University              -0.519153\n",
       "Kansas State University                -0.522584\n",
       "Temple University                      -0.523601\n",
       "Oregon State University                -0.526993\n",
       "Drexel University                      -0.527435\n",
       "University of Louisville               -0.536211\n",
       "University of Nevada, Las Vegas        -0.546090\n",
       "University of Wisconsin - Milwaukee    -0.569146\n",
       "Washington State University            -0.593704\n",
       "New Jersey Institute of Technology     -0.605097\n",
       "The University of Texas at El Paso     -0.639804\n",
       "University of Mississippi              -0.662063\n",
       "University of Arkansas                 -0.667047\n",
       "Montana State University               -0.677819\n",
       "Name: zscore, dtype: float64"
      ]
     },
     "execution_count": 58,
     "metadata": {},
     "output_type": "execute_result"
    }
   ],
   "source": [
    "byschool[100:]"
   ]
  },
  {
   "cell_type": "code",
   "execution_count": null,
   "metadata": {},
   "outputs": [],
   "source": []
  },
  {
   "cell_type": "markdown",
   "metadata": {},
   "source": [
    "# tails and gender\n"
   ]
  },
  {
   "cell_type": "code",
   "execution_count": 45,
   "metadata": {},
   "outputs": [],
   "source": [
    "standardized = standardized.sort_values(\"zscore\", ascending=False )"
   ]
  },
  {
   "cell_type": "code",
   "execution_count": 46,
   "metadata": {},
   "outputs": [
    {
     "data": {
      "text/plain": [
       "Male      167\n",
       "Female     33\n",
       "Name: Gender, dtype: int64"
      ]
     },
     "execution_count": 46,
     "metadata": {},
     "output_type": "execute_result"
    }
   ],
   "source": [
    "standardized[len(standardized)-200:][\"Gender\"].value_counts()"
   ]
  },
  {
   "cell_type": "code",
   "execution_count": 47,
   "metadata": {},
   "outputs": [
    {
     "data": {
      "text/plain": [
       "Male      192\n",
       "Female      8\n",
       "Name: Gender, dtype: int64"
      ]
     },
     "execution_count": 47,
     "metadata": {},
     "output_type": "execute_result"
    }
   ],
   "source": [
    "standardized[:200][\"Gender\"].value_counts()"
   ]
  },
  {
   "cell_type": "code",
   "execution_count": 48,
   "metadata": {},
   "outputs": [
    {
     "data": {
      "text/plain": [
       "Male      2497\n",
       "Female     310\n",
       "Name: Gender, dtype: int64"
      ]
     },
     "execution_count": 48,
     "metadata": {},
     "output_type": "execute_result"
    }
   ],
   "source": [
    "standardized[\"Gender\"].value_counts()\n"
   ]
  },
  {
   "cell_type": "code",
   "execution_count": 49,
   "metadata": {},
   "outputs": [],
   "source": [
    "df = df.sort_values(\"citperyear13\", ascending=False  )"
   ]
  },
  {
   "cell_type": "code",
   "execution_count": 50,
   "metadata": {},
   "outputs": [
    {
     "data": {
      "text/plain": [
       "Male      190\n",
       "Female     10\n",
       "Name: Gender, dtype: int64"
      ]
     },
     "execution_count": 50,
     "metadata": {},
     "output_type": "execute_result"
    }
   ],
   "source": [
    "df[:200][\"Gender\"].value_counts()"
   ]
  },
  {
   "cell_type": "code",
   "execution_count": 51,
   "metadata": {},
   "outputs": [
    {
     "data": {
      "text/plain": [
       "Male      166\n",
       "Female     34\n",
       "Name: Gender, dtype: int64"
      ]
     },
     "execution_count": 51,
     "metadata": {},
     "output_type": "execute_result"
    }
   ],
   "source": [
    "df[len(df)-200:][\"Gender\"].value_counts()"
   ]
  },
  {
   "cell_type": "markdown",
   "metadata": {},
   "source": [
    "### Clustered in bottom at top?"
   ]
  },
  {
   "cell_type": "code",
   "execution_count": 52,
   "metadata": {},
   "outputs": [
    {
     "data": {
      "text/plain": [
       "Male      97\n",
       "Female     3\n",
       "Name: Gender, dtype: int64"
      ]
     },
     "execution_count": 52,
     "metadata": {},
     "output_type": "execute_result"
    }
   ],
   "source": [
    "#top 100\n",
    "slice_top = standardized[:100]\n",
    "slice_top.Gender.value_counts()"
   ]
  },
  {
   "cell_type": "code",
   "execution_count": 53,
   "metadata": {},
   "outputs": [
    {
     "data": {
      "text/plain": [
       "3.6232122355988667"
      ]
     },
     "execution_count": 53,
     "metadata": {},
     "output_type": "execute_result"
    }
   ],
   "source": [
    "slice_women = slice_top[slice_top[\"Gender\"] == \"Female\"]\n",
    "slice_women.zscore.mean()"
   ]
  },
  {
   "cell_type": "code",
   "execution_count": 54,
   "metadata": {},
   "outputs": [
    {
     "data": {
      "text/plain": [
       "3.65971126528825"
      ]
     },
     "execution_count": 54,
     "metadata": {},
     "output_type": "execute_result"
    }
   ],
   "source": [
    "slice_men = slice_top[slice_top[\"Gender\"] == \"Male\"]\n",
    "slice_men.zscore.mean()"
   ]
  },
  {
   "cell_type": "code",
   "execution_count": 55,
   "metadata": {},
   "outputs": [
    {
     "name": "stdout",
     "output_type": "stream",
     "text": [
      "0.5922\n"
     ]
    }
   ],
   "source": [
    "np.random.seed(0)\n",
    "z = slice_top[slice_top.Gender=='Male'].zscore\n",
    "y = slice_top[slice_top.Gender=='Female'].zscore\n",
    "pooled = np.hstack([z,y])\n",
    "delta = y.mean() - z.mean()\n",
    "numSamples = 10000\n",
    "l=[]\n",
    "for i in range(numSamples):\n",
    "    x = run_permutation_test(pooled,z.size,y.size)\n",
    "    l.append(x)\n",
    "print(check(l))\n"
   ]
  },
  {
   "cell_type": "code",
   "execution_count": 56,
   "metadata": {},
   "outputs": [
    {
     "data": {
      "text/plain": [
       "Male      192\n",
       "Female      8\n",
       "Name: Gender, dtype: int64"
      ]
     },
     "execution_count": 56,
     "metadata": {},
     "output_type": "execute_result"
    }
   ],
   "source": [
    "slice_top = standardized[:200]\n",
    "slice_top.Gender.value_counts()"
   ]
  },
  {
   "cell_type": "code",
   "execution_count": 57,
   "metadata": {},
   "outputs": [
    {
     "data": {
      "text/plain": [
       "2.54442171448912"
      ]
     },
     "execution_count": 57,
     "metadata": {},
     "output_type": "execute_result"
    }
   ],
   "source": [
    "slice_women = slice_top[slice_top[\"Gender\"] == \"Female\"]\n",
    "slice_women.zscore.mean()"
   ]
  },
  {
   "cell_type": "code",
   "execution_count": 58,
   "metadata": {},
   "outputs": [
    {
     "data": {
      "text/plain": [
       "2.750985753970976"
      ]
     },
     "execution_count": 58,
     "metadata": {},
     "output_type": "execute_result"
    }
   ],
   "source": [
    "slice_men = slice_top[slice_top[\"Gender\"] == \"Male\"]\n",
    "slice_men.zscore.mean()"
   ]
  },
  {
   "cell_type": "code",
   "execution_count": 59,
   "metadata": {},
   "outputs": [
    {
     "name": "stdout",
     "output_type": "stream",
     "text": [
      "0.3931\n"
     ]
    }
   ],
   "source": [
    "# Permutation test\n",
    "np.random.seed(0)\n",
    "z = slice_top[slice_top.Gender=='Male'].zscore\n",
    "y = slice_top[slice_top.Gender=='Female'].zscore\n",
    "pooled = np.hstack([z,y])\n",
    "delta = y.mean() - z.mean()\n",
    "numSamples = 10000\n",
    "l=[]\n",
    "for i in range(numSamples):\n",
    "    x = run_permutation_test(pooled,z.size,y.size)\n",
    "    l.append(x)\n",
    "print(check(l))\n"
   ]
  },
  {
   "cell_type": "code",
   "execution_count": 60,
   "metadata": {},
   "outputs": [],
   "source": [
    "#Top 300"
   ]
  },
  {
   "cell_type": "code",
   "execution_count": 61,
   "metadata": {},
   "outputs": [
    {
     "data": {
      "text/plain": [
       "Male      288\n",
       "Female     12\n",
       "Name: Gender, dtype: int64"
      ]
     },
     "execution_count": 61,
     "metadata": {},
     "output_type": "execute_result"
    }
   ],
   "source": [
    "slice_top = standardized[:300]\n",
    "slice_top.Gender.value_counts()"
   ]
  },
  {
   "cell_type": "code",
   "execution_count": 62,
   "metadata": {},
   "outputs": [
    {
     "data": {
      "text/plain": [
       "2.1259808577743877"
      ]
     },
     "execution_count": 62,
     "metadata": {},
     "output_type": "execute_result"
    }
   ],
   "source": [
    "slice_women = slice_top[slice_top[\"Gender\"] == \"Female\"]\n",
    "slice_women.zscore.mean()"
   ]
  },
  {
   "cell_type": "code",
   "execution_count": 63,
   "metadata": {},
   "outputs": [
    {
     "data": {
      "text/plain": [
       "2.2423519281225053"
      ]
     },
     "execution_count": 63,
     "metadata": {},
     "output_type": "execute_result"
    }
   ],
   "source": [
    "slice_men = slice_top[slice_top[\"Gender\"] == \"Male\"]\n",
    "slice_men.zscore.mean()"
   ]
  },
  {
   "cell_type": "code",
   "execution_count": 64,
   "metadata": {},
   "outputs": [
    {
     "name": "stdout",
     "output_type": "stream",
     "text": [
      "0.4332\n"
     ]
    }
   ],
   "source": [
    "# Permutation test\n",
    "np.random.seed(0)\n",
    "z = slice_top[slice_top.Gender=='Male'].zscore\n",
    "y = slice_top[slice_top.Gender=='Female'].zscore\n",
    "pooled = np.hstack([z,y])\n",
    "delta = y.mean() - z.mean()\n",
    "numSamples = 10000\n",
    "l=[]\n",
    "for i in range(numSamples):\n",
    "    x = run_permutation_test(pooled,z.size,y.size)\n",
    "    l.append(x)\n",
    "print(check(l))\n"
   ]
  },
  {
   "cell_type": "code",
   "execution_count": 65,
   "metadata": {},
   "outputs": [],
   "source": [
    "# Top 400"
   ]
  },
  {
   "cell_type": "code",
   "execution_count": 66,
   "metadata": {},
   "outputs": [
    {
     "data": {
      "text/plain": [
       "Male      384\n",
       "Female     16\n",
       "Name: Gender, dtype: int64"
      ]
     },
     "execution_count": 66,
     "metadata": {},
     "output_type": "execute_result"
    }
   ],
   "source": [
    "slice_top = standardized[:400]\n",
    "slice_top.Gender.value_counts()"
   ]
  },
  {
   "cell_type": "markdown",
   "metadata": {},
   "source": [
    "**4% of the top 400 people are women!!!!**"
   ]
  },
  {
   "cell_type": "code",
   "execution_count": 67,
   "metadata": {},
   "outputs": [
    {
     "data": {
      "text/plain": [
       "1.8355808851208724"
      ]
     },
     "execution_count": 67,
     "metadata": {},
     "output_type": "execute_result"
    }
   ],
   "source": [
    "slice_women = slice_top[slice_top[\"Gender\"] == \"Female\"]\n",
    "slice_women.zscore.mean()"
   ]
  },
  {
   "cell_type": "code",
   "execution_count": 68,
   "metadata": {},
   "outputs": [
    {
     "data": {
      "text/plain": [
       "1.9093396085287047"
      ]
     },
     "execution_count": 68,
     "metadata": {},
     "output_type": "execute_result"
    }
   ],
   "source": [
    "slice_men = slice_top[slice_top[\"Gender\"] == \"Male\"]\n",
    "slice_men.zscore.mean()"
   ]
  },
  {
   "cell_type": "code",
   "execution_count": 69,
   "metadata": {},
   "outputs": [
    {
     "name": "stdout",
     "output_type": "stream",
     "text": [
      "-0.0737587234078323\n",
      "0.4569\n"
     ]
    }
   ],
   "source": [
    "# Permutation test\n",
    "np.random.seed(0)\n",
    "z = slice_top[slice_top.Gender=='Male'].zscore\n",
    "y = slice_top[slice_top.Gender=='Female'].zscore\n",
    "pooled = np.hstack([z,y])\n",
    "delta = y.mean() - z.mean()\n",
    "print(delta)\n",
    "numSamples = 10000\n",
    "l=[]\n",
    "for i in range(numSamples):\n",
    "    x = run_permutation_test(pooled,z.size,y.size)\n",
    "    l.append(x)\n",
    "print(check(l))\n"
   ]
  },
  {
   "cell_type": "code",
   "execution_count": 66,
   "metadata": {},
   "outputs": [
    {
     "data": {
      "text/plain": [
       "Male      477\n",
       "Female     23\n",
       "Name: Gender, dtype: int64"
      ]
     },
     "execution_count": 66,
     "metadata": {},
     "output_type": "execute_result"
    }
   ],
   "source": [
    "# top 500\n",
    "slice_top = standardized[:500]\n",
    "slice_top.Gender.value_counts()\n"
   ]
  },
  {
   "cell_type": "code",
   "execution_count": 67,
   "metadata": {},
   "outputs": [
    {
     "data": {
      "text/plain": [
       "1.499351891439479"
      ]
     },
     "execution_count": 67,
     "metadata": {},
     "output_type": "execute_result"
    }
   ],
   "source": [
    "slice_women = slice_top[slice_top[\"Gender\"] == \"Female\"]\n",
    "slice_women.zscore.mean()"
   ]
  },
  {
   "cell_type": "code",
   "execution_count": 68,
   "metadata": {},
   "outputs": [
    {
     "data": {
      "text/plain": [
       "1.6703892863769825"
      ]
     },
     "execution_count": 68,
     "metadata": {},
     "output_type": "execute_result"
    }
   ],
   "source": [
    "slice_men = slice_top[slice_top[\"Gender\"] == \"Male\"]\n",
    "slice_men.zscore.mean()"
   ]
  },
  {
   "cell_type": "code",
   "execution_count": 69,
   "metadata": {},
   "outputs": [
    {
     "name": "stdout",
     "output_type": "stream",
     "text": [
      "-0.17103739493750347\n",
      "0.2791\n"
     ]
    }
   ],
   "source": [
    "# Permutation test\n",
    "np.random.seed(0)\n",
    "z = slice_top[slice_top.Gender=='Male'].zscore\n",
    "y = slice_top[slice_top.Gender=='Female'].zscore\n",
    "pooled = np.hstack([z,y])\n",
    "delta = y.mean() - z.mean()\n",
    "print(delta)\n",
    "numSamples = 10000\n",
    "l=[]\n",
    "for i in range(numSamples):\n",
    "    x = run_permutation_test(pooled,z.size,y.size)\n",
    "    l.append(x)\n",
    "print(check(l))\n"
   ]
  },
  {
   "cell_type": "code",
   "execution_count": 70,
   "metadata": {},
   "outputs": [
    {
     "data": {
      "text/plain": [
       "Male      567\n",
       "Female     33\n",
       "Name: Gender, dtype: int64"
      ]
     },
     "execution_count": 70,
     "metadata": {},
     "output_type": "execute_result"
    }
   ],
   "source": [
    "#top 600\n",
    "slice_top = standardized[:600]\n",
    "slice_top.Gender.value_counts()\n"
   ]
  },
  {
   "cell_type": "code",
   "execution_count": 71,
   "metadata": {},
   "outputs": [
    {
     "data": {
      "text/plain": [
       "1.1812153420561602"
      ]
     },
     "execution_count": 71,
     "metadata": {},
     "output_type": "execute_result"
    }
   ],
   "source": [
    "slice_women = slice_top[slice_top[\"Gender\"] == \"Female\"]\n",
    "slice_women.zscore.mean()\n"
   ]
  },
  {
   "cell_type": "code",
   "execution_count": 72,
   "metadata": {},
   "outputs": [
    {
     "data": {
      "text/plain": [
       "1.480999795640049"
      ]
     },
     "execution_count": 72,
     "metadata": {},
     "output_type": "execute_result"
    }
   ],
   "source": [
    "slice_men = slice_top[slice_top[\"Gender\"] == \"Male\"]\n",
    "slice_men.zscore.mean()"
   ]
  },
  {
   "cell_type": "code",
   "execution_count": 73,
   "metadata": {},
   "outputs": [
    {
     "name": "stdout",
     "output_type": "stream",
     "text": [
      "-0.2997844535838887\n",
      "0.0775\n"
     ]
    }
   ],
   "source": [
    "# Permutation test\n",
    "np.random.seed(0)\n",
    "z = slice_top[slice_top.Gender=='Male'].zscore\n",
    "y = slice_top[slice_top.Gender=='Female'].zscore\n",
    "pooled = np.hstack([z,y])\n",
    "delta = y.mean() - z.mean()\n",
    "print(delta)\n",
    "numSamples = 10000\n",
    "l=[]\n",
    "for i in range(numSamples):\n",
    "    x = run_permutation_test(pooled,z.size,y.size)\n",
    "    l.append(x)\n",
    "print(check(l))\n"
   ]
  },
  {
   "cell_type": "code",
   "execution_count": 74,
   "metadata": {},
   "outputs": [
    {
     "data": {
      "text/plain": [
       "Male      660\n",
       "Female     40\n",
       "Name: Gender, dtype: int64"
      ]
     },
     "execution_count": 74,
     "metadata": {},
     "output_type": "execute_result"
    }
   ],
   "source": [
    "#top 700\n",
    "slice_top = standardized[:700]\n",
    "slice_top.Gender.value_counts()\n"
   ]
  },
  {
   "cell_type": "code",
   "execution_count": 75,
   "metadata": {},
   "outputs": [
    {
     "data": {
      "text/plain": [
       "1.0322531915581363"
      ]
     },
     "execution_count": 75,
     "metadata": {},
     "output_type": "execute_result"
    }
   ],
   "source": [
    "\n",
    "slice_women = slice_top[slice_top[\"Gender\"] == \"Female\"]\n",
    "slice_women.zscore.mean()"
   ]
  },
  {
   "cell_type": "code",
   "execution_count": 76,
   "metadata": {},
   "outputs": [
    {
     "data": {
      "text/plain": [
       "1.3180622534089776"
      ]
     },
     "execution_count": 76,
     "metadata": {},
     "output_type": "execute_result"
    }
   ],
   "source": [
    "slice_men = slice_top[slice_top[\"Gender\"] == \"Male\"]\n",
    "slice_men.zscore.mean()"
   ]
  },
  {
   "cell_type": "code",
   "execution_count": 117,
   "metadata": {},
   "outputs": [
    {
     "name": "stdout",
     "output_type": "stream",
     "text": [
      "-0.32849888336098576\n",
      "0.0103\n"
     ]
    }
   ],
   "source": [
    "np.random.seed(0)\n",
    "z = slice_top[slice_top.Gender=='Male'].zscore\n",
    "y = slice_top[slice_top.Gender=='Female'].zscore\n",
    "pooled = np.hstack([z,y])\n",
    "delta = y.mean() - z.mean()\n",
    "print(delta)\n",
    "numSamples = 10000\n",
    "l=[]\n",
    "for i in range(numSamples):\n",
    "    x = run_permutation_test(pooled,z.size,y.size)\n",
    "    l.append(x)\n",
    "print(check(l))\n"
   ]
  },
  {
   "cell_type": "code",
   "execution_count": 78,
   "metadata": {},
   "outputs": [
    {
     "data": {
      "text/plain": [
       "Male      754\n",
       "Female     46\n",
       "Name: Gender, dtype: int64"
      ]
     },
     "execution_count": 78,
     "metadata": {},
     "output_type": "execute_result"
    }
   ],
   "source": [
    "# top 800\n",
    "\n",
    "slice_top = standardized[:800]\n",
    "slice_top.Gender.value_counts()\n"
   ]
  },
  {
   "cell_type": "code",
   "execution_count": 79,
   "metadata": {},
   "outputs": [
    {
     "data": {
      "text/plain": [
       "0.924732747419224"
      ]
     },
     "execution_count": 79,
     "metadata": {},
     "output_type": "execute_result"
    }
   ],
   "source": [
    "\n",
    "slice_women = slice_top[slice_top[\"Gender\"] == \"Female\"]\n",
    "slice_women.zscore.mean()\n"
   ]
  },
  {
   "cell_type": "code",
   "execution_count": 80,
   "metadata": {},
   "outputs": [
    {
     "data": {
      "text/plain": [
       "1.1788170884163587"
      ]
     },
     "execution_count": 80,
     "metadata": {},
     "output_type": "execute_result"
    }
   ],
   "source": [
    "slice_men = slice_top[slice_top[\"Gender\"] == \"Male\"]\n",
    "slice_men.zscore.mean()"
   ]
  },
  {
   "cell_type": "code",
   "execution_count": 81,
   "metadata": {},
   "outputs": [
    {
     "name": "stdout",
     "output_type": "stream",
     "text": [
      "-0.25408434099713473\n",
      "0.0716\n"
     ]
    }
   ],
   "source": [
    "np.random.seed(0)\n",
    "z = slice_top[slice_top.Gender=='Male'].zscore\n",
    "y = slice_top[slice_top.Gender=='Female'].zscore\n",
    "pooled = np.hstack([z,y])\n",
    "delta = y.mean() - z.mean()\n",
    "print(delta)\n",
    "numSamples = 10000\n",
    "l=[]\n",
    "for i in range(numSamples):\n",
    "    x = run_permutation_test(pooled,z.size,y.size)\n",
    "    l.append(x)\n",
    "print(check(l))\n"
   ]
  },
  {
   "cell_type": "code",
   "execution_count": 82,
   "metadata": {},
   "outputs": [
    {
     "data": {
      "text/plain": [
       "Male      841\n",
       "Female     59\n",
       "Name: Gender, dtype: int64"
      ]
     },
     "execution_count": 82,
     "metadata": {},
     "output_type": "execute_result"
    }
   ],
   "source": [
    "# top 900\n",
    "\n",
    "slice_top = standardized[:900]\n",
    "slice_top.Gender.value_counts()\n"
   ]
  },
  {
   "cell_type": "code",
   "execution_count": 83,
   "metadata": {},
   "outputs": [
    {
     "data": {
      "text/plain": [
       "0.7365986377840082"
      ]
     },
     "execution_count": 83,
     "metadata": {},
     "output_type": "execute_result"
    }
   ],
   "source": [
    "\n",
    "slice_women = slice_top[slice_top[\"Gender\"] == \"Female\"]\n",
    "slice_women.zscore.mean()\n"
   ]
  },
  {
   "cell_type": "code",
   "execution_count": 84,
   "metadata": {},
   "outputs": [
    {
     "data": {
      "text/plain": [
       "1.065097521144994"
      ]
     },
     "execution_count": 84,
     "metadata": {},
     "output_type": "execute_result"
    }
   ],
   "source": [
    "slice_men = slice_top[slice_top[\"Gender\"] == \"Male\"]\n",
    "slice_men.zscore.mean()"
   ]
  },
  {
   "cell_type": "code",
   "execution_count": 85,
   "metadata": {},
   "outputs": [
    {
     "name": "stdout",
     "output_type": "stream",
     "text": [
      "-0.32849888336098576\n",
      "0.0103\n"
     ]
    }
   ],
   "source": [
    "np.random.seed(0)\n",
    "z = slice_top[slice_top.Gender=='Male'].zscore\n",
    "y = slice_top[slice_top.Gender=='Female'].zscore\n",
    "pooled = np.hstack([z,y])\n",
    "delta = y.mean() - z.mean()\n",
    "print(delta)\n",
    "numSamples = 10000\n",
    "l=[]\n",
    "for i in range(numSamples):\n",
    "    x = run_permutation_test(pooled,z.size,y.size)\n",
    "    l.append(x)\n",
    "print(check(l))\n"
   ]
  },
  {
   "cell_type": "markdown",
   "metadata": {},
   "source": [
    " so until the top 900, women are not clustered at the bottom."
   ]
  },
  {
   "cell_type": "markdown",
   "metadata": {},
   "source": [
    "# Adjusting means and then comparing variance"
   ]
  },
  {
   "cell_type": "code",
   "execution_count": 86,
   "metadata": {},
   "outputs": [],
   "source": [
    "Men = standardized[standardized[\"Gender\"] == \"Male\"][\"zscore\"]\n",
    "Women = standardized[standardized[\"Gender\"] == \"Female\"][\"zscore\"]"
   ]
  },
  {
   "cell_type": "code",
   "execution_count": 87,
   "metadata": {},
   "outputs": [],
   "source": [
    "MS_men = np.mean(Men)**2\n",
    "MS_women = np.mean(Women)**2"
   ]
  },
  {
   "cell_type": "markdown",
   "metadata": {},
   "source": [
    "I don't understand what you are doing here..."
   ]
  },
  {
   "cell_type": "code",
   "execution_count": 88,
   "metadata": {},
   "outputs": [
    {
     "data": {
      "text/plain": [
       "649100.151379229"
      ]
     },
     "execution_count": 88,
     "metadata": {},
     "output_type": "execute_result"
    }
   ],
   "source": [
    "np.var(Men/MS_men)"
   ]
  },
  {
   "cell_type": "code",
   "execution_count": 89,
   "metadata": {},
   "outputs": [
    {
     "data": {
      "text/plain": [
       "62.98757916459244"
      ]
     },
     "execution_count": 89,
     "metadata": {},
     "output_type": "execute_result"
    }
   ],
   "source": [
    "np.var(Women/MS_women)"
   ]
  },
  {
   "cell_type": "code",
   "execution_count": 90,
   "metadata": {},
   "outputs": [],
   "source": [
    "Men = df[df[\"Gender\"]==\"Male\"][\"citperyear13\"]\n",
    "Women = df[df[\"Gender\"]==\"Female\"][\"citperyear13\"]"
   ]
  },
  {
   "cell_type": "code",
   "execution_count": 91,
   "metadata": {},
   "outputs": [],
   "source": [
    "MS_men = np.mean(Men)**2\n",
    "MS_women = np.mean(Women)**2"
   ]
  },
  {
   "cell_type": "code",
   "execution_count": 92,
   "metadata": {},
   "outputs": [
    {
     "data": {
      "text/plain": [
       "0.01826558592127423"
      ]
     },
     "execution_count": 92,
     "metadata": {},
     "output_type": "execute_result"
    }
   ],
   "source": [
    "np.var(Men/MS_men)"
   ]
  },
  {
   "cell_type": "code",
   "execution_count": 93,
   "metadata": {},
   "outputs": [
    {
     "data": {
      "text/plain": [
       "0.04227583330024709"
      ]
     },
     "execution_count": 93,
     "metadata": {},
     "output_type": "execute_result"
    }
   ],
   "source": [
    "np.var(Women/MS_women)"
   ]
  },
  {
   "cell_type": "code",
   "execution_count": 94,
   "metadata": {},
   "outputs": [
    {
     "data": {
      "text/plain": [
       "-1.1603553546388397"
      ]
     },
     "execution_count": 94,
     "metadata": {},
     "output_type": "execute_result"
    }
   ],
   "source": [
    "np.min(standardized[\"zscore\"])"
   ]
  },
  {
   "cell_type": "code",
   "execution_count": 95,
   "metadata": {},
   "outputs": [],
   "source": [
    "standardized[\"poszscore\"] = standardized[\"zscore\"]-np.min(standardized[\"zscore\"])"
   ]
  },
  {
   "cell_type": "code",
   "execution_count": 96,
   "metadata": {},
   "outputs": [
    {
     "data": {
      "text/plain": [
       "0.0"
      ]
     },
     "execution_count": 96,
     "metadata": {},
     "output_type": "execute_result"
    }
   ],
   "source": [
    "np.min(standardized[\"poszscore\"])"
   ]
  },
  {
   "cell_type": "code",
   "execution_count": 97,
   "metadata": {},
   "outputs": [
    {
     "data": {
      "text/plain": [
       "0.5173543803943632"
      ]
     },
     "execution_count": 97,
     "metadata": {},
     "output_type": "execute_result"
    }
   ],
   "source": [
    "Men = standardized[standardized[\"Gender\"] == \"Male\"][\"poszscore\"]\n",
    "Women = standardized[standardized[\"Gender\"] == \"Female\"][\"poszscore\"]\n",
    "MS_men = np.mean(Men)**2\n",
    "MS_women = np.mean(Women)**2\n",
    "np.var(Men/MS_men)"
   ]
  },
  {
   "cell_type": "code",
   "execution_count": 98,
   "metadata": {},
   "outputs": [
    {
     "data": {
      "text/plain": [
       "0.7464143973299803"
      ]
     },
     "execution_count": 98,
     "metadata": {},
     "output_type": "execute_result"
    }
   ],
   "source": [
    "np.var(Women/MS_women)"
   ]
  },
  {
   "cell_type": "markdown",
   "metadata": {},
   "source": [
    "# VR Permutation Test\n",
    "\n",
    "We should compare standardized variances and their ratio. If we compare Var(men)/Var(Women), if it is greater, then we have male var is greater than female var. Otherwise, var men < var men"
   ]
  },
  {
   "cell_type": "code",
   "execution_count": 70,
   "metadata": {},
   "outputs": [],
   "source": [
    "Men = standardized[standardized[\"Gender\"] == \"Male\"][\"zscore\"]\n",
    "Women = standardized[standardized[\"Gender\"] == \"Female\"][\"zscore\"]\n",
    "observed_var_ratio = np.var(Men)/np.var(Women)"
   ]
  },
  {
   "cell_type": "code",
   "execution_count": 71,
   "metadata": {},
   "outputs": [
    {
     "data": {
      "text/plain": [
       "2.4481013824623865"
      ]
     },
     "execution_count": 71,
     "metadata": {},
     "output_type": "execute_result"
    }
   ],
   "source": [
    "observed_var_ratio"
   ]
  },
  {
   "cell_type": "code",
   "execution_count": 72,
   "metadata": {},
   "outputs": [],
   "source": [
    "n_m = len(Men)\n",
    "n_w = len(Women)"
   ]
  },
  {
   "cell_type": "code",
   "execution_count": 73,
   "metadata": {},
   "outputs": [],
   "source": [
    "def run_var_permutation_test(pooled,sizeZ,sizeY):\n",
    "    np.random.shuffle(pooled)\n",
    "    starZ = pooled[:sizeZ]\n",
    "    starY = pooled[-sizeY:]\n",
    "    return np.var(starZ)/np.var(starY)\n",
    "\n",
    "np.random.seed(0)\n",
    "dist = []\n",
    "pooled = np.hstack([Men,Women])\n"
   ]
  },
  {
   "cell_type": "code",
   "execution_count": 74,
   "metadata": {},
   "outputs": [],
   "source": [
    "for i in range(10000):\n",
    "    x = run_var_permutation_test(pooled,n_m,n_w)\n",
    "    dist.append(x)"
   ]
  },
  {
   "cell_type": "code",
   "execution_count": 75,
   "metadata": {},
   "outputs": [
    {
     "data": {
      "text/plain": [
       "0.0001"
      ]
     },
     "execution_count": 75,
     "metadata": {},
     "output_type": "execute_result"
    }
   ],
   "source": [
    "count = 0\n",
    "for x in dist: \n",
    "    if x>= observed_var_ratio: \n",
    "        count +=1\n",
    "count/len(dist)"
   ]
  },
  {
   "cell_type": "code",
   "execution_count": 78,
   "metadata": {},
   "outputs": [],
   "source": [
    "men = standardized[standardized.Gender == 'Male'].zscore"
   ]
  },
  {
   "cell_type": "code",
   "execution_count": 79,
   "metadata": {},
   "outputs": [],
   "source": [
    "women = standardized[standardized.Gender == 'Female'].zscore"
   ]
  },
  {
   "cell_type": "code",
   "execution_count": 80,
   "metadata": {},
   "outputs": [],
   "source": [
    "results = logrank_test(men, women)"
   ]
  },
  {
   "cell_type": "code",
   "execution_count": 81,
   "metadata": {},
   "outputs": [
    {
     "data": {
      "text/html": [
       "<div>\n",
       "<style scoped>\n",
       "    .dataframe tbody tr th:only-of-type {\n",
       "        vertical-align: middle;\n",
       "    }\n",
       "\n",
       "    .dataframe tbody tr th {\n",
       "        vertical-align: top;\n",
       "    }\n",
       "\n",
       "    .dataframe thead th {\n",
       "        text-align: right;\n",
       "    }\n",
       "</style>\n",
       "<table border=\"1\" class=\"dataframe\">\n",
       "  <tbody>\n",
       "    <tr>\n",
       "      <th>t_0</th>\n",
       "      <td>-1</td>\n",
       "    </tr>\n",
       "    <tr>\n",
       "      <th>null_distribution</th>\n",
       "      <td>chi squared</td>\n",
       "    </tr>\n",
       "    <tr>\n",
       "      <th>degrees_of_freedom</th>\n",
       "      <td>1</td>\n",
       "    </tr>\n",
       "    <tr>\n",
       "      <th>test_name</th>\n",
       "      <td>logrank_test</td>\n",
       "    </tr>\n",
       "  </tbody>\n",
       "</table>\n",
       "</div><table border=\"1\" class=\"dataframe\">\n",
       "  <thead>\n",
       "    <tr style=\"text-align: right;\">\n",
       "      <th></th>\n",
       "      <th>test_statistic</th>\n",
       "      <th>p</th>\n",
       "    </tr>\n",
       "  </thead>\n",
       "  <tbody>\n",
       "    <tr>\n",
       "      <th>0</th>\n",
       "      <td>46.74</td>\n",
       "      <td>&lt;0.005</td>\n",
       "    </tr>\n",
       "  </tbody>\n",
       "</table>"
      ],
      "text/plain": [
       "<IPython.core.display.HTML object>"
      ]
     },
     "metadata": {},
     "output_type": "display_data"
    }
   ],
   "source": [
    "results.print_summary()"
   ]
  },
  {
   "cell_type": "code",
   "execution_count": 82,
   "metadata": {},
   "outputs": [
    {
     "name": "stdout",
     "output_type": "stream",
     "text": [
      "8.11445987141984e-12\n"
     ]
    }
   ],
   "source": [
    "print(results.p_value)"
   ]
  },
  {
   "cell_type": "code",
   "execution_count": 83,
   "metadata": {},
   "outputs": [
    {
     "name": "stdout",
     "output_type": "stream",
     "text": [
      "46.73789549325744\n"
     ]
    }
   ],
   "source": [
    "print(results.test_statistic)"
   ]
  },
  {
   "cell_type": "code",
   "execution_count": 85,
   "metadata": {},
   "outputs": [
    {
     "name": "stdout",
     "output_type": "stream",
     "text": [
      "<class 'pandas.core.frame.DataFrame'>\n",
      "Int64Index: 2807 entries, 1592 to 1922\n",
      "Data columns (total 12 columns):\n",
      " #   Column        Non-Null Count  Dtype  \n",
      "---  ------        --------------  -----  \n",
      " 0   School        2807 non-null   object \n",
      " 1   Gender        2807 non-null   object \n",
      " 2   Role          2807 non-null   object \n",
      " 3   Citations     2807 non-null   int64  \n",
      " 4   Earliest_Pub  2807 non-null   int64  \n",
      " 5   Field_1       2807 non-null   object \n",
      " 6   Field_2       237 non-null    object \n",
      " 7   Major field   2807 non-null   object \n",
      " 8   Age           2807 non-null   int64  \n",
      " 9   citperyear    2807 non-null   float64\n",
      " 10  citperyear13  2807 non-null   float64\n",
      " 11  zscore        2807 non-null   float64\n",
      "dtypes: float64(3), int64(3), object(6)\n",
      "memory usage: 285.1+ KB\n"
     ]
    }
   ],
   "source": [
    "standardized.info()"
   ]
  },
  {
   "cell_type": "code",
   "execution_count": 86,
   "metadata": {},
   "outputs": [
    {
     "name": "stdout",
     "output_type": "stream",
     "text": [
      "Algebra\n"
     ]
    },
    {
     "data": {
      "text/html": [
       "<div>\n",
       "<style scoped>\n",
       "    .dataframe tbody tr th:only-of-type {\n",
       "        vertical-align: middle;\n",
       "    }\n",
       "\n",
       "    .dataframe tbody tr th {\n",
       "        vertical-align: top;\n",
       "    }\n",
       "\n",
       "    .dataframe thead th {\n",
       "        text-align: right;\n",
       "    }\n",
       "</style>\n",
       "<table border=\"1\" class=\"dataframe\">\n",
       "  <tbody>\n",
       "    <tr>\n",
       "      <th>t_0</th>\n",
       "      <td>-1</td>\n",
       "    </tr>\n",
       "    <tr>\n",
       "      <th>null_distribution</th>\n",
       "      <td>chi squared</td>\n",
       "    </tr>\n",
       "    <tr>\n",
       "      <th>degrees_of_freedom</th>\n",
       "      <td>1</td>\n",
       "    </tr>\n",
       "    <tr>\n",
       "      <th>test_name</th>\n",
       "      <td>logrank_test</td>\n",
       "    </tr>\n",
       "  </tbody>\n",
       "</table>\n",
       "</div><table border=\"1\" class=\"dataframe\">\n",
       "  <thead>\n",
       "    <tr style=\"text-align: right;\">\n",
       "      <th></th>\n",
       "      <th>test_statistic</th>\n",
       "      <th>p</th>\n",
       "    </tr>\n",
       "  </thead>\n",
       "  <tbody>\n",
       "    <tr>\n",
       "      <th>0</th>\n",
       "      <td>4.71</td>\n",
       "      <td>0.03</td>\n",
       "    </tr>\n",
       "  </tbody>\n",
       "</table>"
      ],
      "text/plain": [
       "<IPython.core.display.HTML object>"
      ]
     },
     "metadata": {},
     "output_type": "display_data"
    },
    {
     "name": "stdout",
     "output_type": "stream",
     "text": [
      "0.0299499172031859\n",
      "4.7121646419298395\n",
      "Algebraic Geometry\n"
     ]
    },
    {
     "data": {
      "text/html": [
       "<div>\n",
       "<style scoped>\n",
       "    .dataframe tbody tr th:only-of-type {\n",
       "        vertical-align: middle;\n",
       "    }\n",
       "\n",
       "    .dataframe tbody tr th {\n",
       "        vertical-align: top;\n",
       "    }\n",
       "\n",
       "    .dataframe thead th {\n",
       "        text-align: right;\n",
       "    }\n",
       "</style>\n",
       "<table border=\"1\" class=\"dataframe\">\n",
       "  <tbody>\n",
       "    <tr>\n",
       "      <th>t_0</th>\n",
       "      <td>-1</td>\n",
       "    </tr>\n",
       "    <tr>\n",
       "      <th>null_distribution</th>\n",
       "      <td>chi squared</td>\n",
       "    </tr>\n",
       "    <tr>\n",
       "      <th>degrees_of_freedom</th>\n",
       "      <td>1</td>\n",
       "    </tr>\n",
       "    <tr>\n",
       "      <th>test_name</th>\n",
       "      <td>logrank_test</td>\n",
       "    </tr>\n",
       "  </tbody>\n",
       "</table>\n",
       "</div><table border=\"1\" class=\"dataframe\">\n",
       "  <thead>\n",
       "    <tr style=\"text-align: right;\">\n",
       "      <th></th>\n",
       "      <th>test_statistic</th>\n",
       "      <th>p</th>\n",
       "    </tr>\n",
       "  </thead>\n",
       "  <tbody>\n",
       "    <tr>\n",
       "      <th>0</th>\n",
       "      <td>3.85</td>\n",
       "      <td>0.05</td>\n",
       "    </tr>\n",
       "  </tbody>\n",
       "</table>"
      ],
      "text/plain": [
       "<IPython.core.display.HTML object>"
      ]
     },
     "metadata": {},
     "output_type": "display_data"
    },
    {
     "name": "stdout",
     "output_type": "stream",
     "text": [
      "0.04969385978090743\n",
      "3.851758625001256\n",
      "Analysis\n"
     ]
    },
    {
     "data": {
      "text/html": [
       "<div>\n",
       "<style scoped>\n",
       "    .dataframe tbody tr th:only-of-type {\n",
       "        vertical-align: middle;\n",
       "    }\n",
       "\n",
       "    .dataframe tbody tr th {\n",
       "        vertical-align: top;\n",
       "    }\n",
       "\n",
       "    .dataframe thead th {\n",
       "        text-align: right;\n",
       "    }\n",
       "</style>\n",
       "<table border=\"1\" class=\"dataframe\">\n",
       "  <tbody>\n",
       "    <tr>\n",
       "      <th>t_0</th>\n",
       "      <td>-1</td>\n",
       "    </tr>\n",
       "    <tr>\n",
       "      <th>null_distribution</th>\n",
       "      <td>chi squared</td>\n",
       "    </tr>\n",
       "    <tr>\n",
       "      <th>degrees_of_freedom</th>\n",
       "      <td>1</td>\n",
       "    </tr>\n",
       "    <tr>\n",
       "      <th>test_name</th>\n",
       "      <td>logrank_test</td>\n",
       "    </tr>\n",
       "  </tbody>\n",
       "</table>\n",
       "</div><table border=\"1\" class=\"dataframe\">\n",
       "  <thead>\n",
       "    <tr style=\"text-align: right;\">\n",
       "      <th></th>\n",
       "      <th>test_statistic</th>\n",
       "      <th>p</th>\n",
       "    </tr>\n",
       "  </thead>\n",
       "  <tbody>\n",
       "    <tr>\n",
       "      <th>0</th>\n",
       "      <td>12.11</td>\n",
       "      <td>&lt;0.005</td>\n",
       "    </tr>\n",
       "  </tbody>\n",
       "</table>"
      ],
      "text/plain": [
       "<IPython.core.display.HTML object>"
      ]
     },
     "metadata": {},
     "output_type": "display_data"
    },
    {
     "name": "stdout",
     "output_type": "stream",
     "text": [
      "0.0005024047859027421\n",
      "12.106718274355591\n",
      "Applied Math\n"
     ]
    },
    {
     "data": {
      "text/html": [
       "<div>\n",
       "<style scoped>\n",
       "    .dataframe tbody tr th:only-of-type {\n",
       "        vertical-align: middle;\n",
       "    }\n",
       "\n",
       "    .dataframe tbody tr th {\n",
       "        vertical-align: top;\n",
       "    }\n",
       "\n",
       "    .dataframe thead th {\n",
       "        text-align: right;\n",
       "    }\n",
       "</style>\n",
       "<table border=\"1\" class=\"dataframe\">\n",
       "  <tbody>\n",
       "    <tr>\n",
       "      <th>t_0</th>\n",
       "      <td>-1</td>\n",
       "    </tr>\n",
       "    <tr>\n",
       "      <th>null_distribution</th>\n",
       "      <td>chi squared</td>\n",
       "    </tr>\n",
       "    <tr>\n",
       "      <th>degrees_of_freedom</th>\n",
       "      <td>1</td>\n",
       "    </tr>\n",
       "    <tr>\n",
       "      <th>test_name</th>\n",
       "      <td>logrank_test</td>\n",
       "    </tr>\n",
       "  </tbody>\n",
       "</table>\n",
       "</div><table border=\"1\" class=\"dataframe\">\n",
       "  <thead>\n",
       "    <tr style=\"text-align: right;\">\n",
       "      <th></th>\n",
       "      <th>test_statistic</th>\n",
       "      <th>p</th>\n",
       "    </tr>\n",
       "  </thead>\n",
       "  <tbody>\n",
       "    <tr>\n",
       "      <th>0</th>\n",
       "      <td>1.56</td>\n",
       "      <td>0.21</td>\n",
       "    </tr>\n",
       "  </tbody>\n",
       "</table>"
      ],
      "text/plain": [
       "<IPython.core.display.HTML object>"
      ]
     },
     "metadata": {},
     "output_type": "display_data"
    },
    {
     "name": "stdout",
     "output_type": "stream",
     "text": [
      "0.21191047728376633\n",
      "1.5583261171814615\n",
      "Combinatorics\n"
     ]
    },
    {
     "data": {
      "text/html": [
       "<div>\n",
       "<style scoped>\n",
       "    .dataframe tbody tr th:only-of-type {\n",
       "        vertical-align: middle;\n",
       "    }\n",
       "\n",
       "    .dataframe tbody tr th {\n",
       "        vertical-align: top;\n",
       "    }\n",
       "\n",
       "    .dataframe thead th {\n",
       "        text-align: right;\n",
       "    }\n",
       "</style>\n",
       "<table border=\"1\" class=\"dataframe\">\n",
       "  <tbody>\n",
       "    <tr>\n",
       "      <th>t_0</th>\n",
       "      <td>-1</td>\n",
       "    </tr>\n",
       "    <tr>\n",
       "      <th>null_distribution</th>\n",
       "      <td>chi squared</td>\n",
       "    </tr>\n",
       "    <tr>\n",
       "      <th>degrees_of_freedom</th>\n",
       "      <td>1</td>\n",
       "    </tr>\n",
       "    <tr>\n",
       "      <th>test_name</th>\n",
       "      <td>logrank_test</td>\n",
       "    </tr>\n",
       "  </tbody>\n",
       "</table>\n",
       "</div><table border=\"1\" class=\"dataframe\">\n",
       "  <thead>\n",
       "    <tr style=\"text-align: right;\">\n",
       "      <th></th>\n",
       "      <th>test_statistic</th>\n",
       "      <th>p</th>\n",
       "    </tr>\n",
       "  </thead>\n",
       "  <tbody>\n",
       "    <tr>\n",
       "      <th>0</th>\n",
       "      <td>0.73</td>\n",
       "      <td>0.39</td>\n",
       "    </tr>\n",
       "  </tbody>\n",
       "</table>"
      ],
      "text/plain": [
       "<IPython.core.display.HTML object>"
      ]
     },
     "metadata": {},
     "output_type": "display_data"
    },
    {
     "name": "stdout",
     "output_type": "stream",
     "text": [
      "0.39134182922835037\n",
      "0.7347686737779375\n",
      "Complex Analysis\n"
     ]
    },
    {
     "data": {
      "text/html": [
       "<div>\n",
       "<style scoped>\n",
       "    .dataframe tbody tr th:only-of-type {\n",
       "        vertical-align: middle;\n",
       "    }\n",
       "\n",
       "    .dataframe tbody tr th {\n",
       "        vertical-align: top;\n",
       "    }\n",
       "\n",
       "    .dataframe thead th {\n",
       "        text-align: right;\n",
       "    }\n",
       "</style>\n",
       "<table border=\"1\" class=\"dataframe\">\n",
       "  <tbody>\n",
       "    <tr>\n",
       "      <th>t_0</th>\n",
       "      <td>-1</td>\n",
       "    </tr>\n",
       "    <tr>\n",
       "      <th>null_distribution</th>\n",
       "      <td>chi squared</td>\n",
       "    </tr>\n",
       "    <tr>\n",
       "      <th>degrees_of_freedom</th>\n",
       "      <td>1</td>\n",
       "    </tr>\n",
       "    <tr>\n",
       "      <th>test_name</th>\n",
       "      <td>logrank_test</td>\n",
       "    </tr>\n",
       "  </tbody>\n",
       "</table>\n",
       "</div><table border=\"1\" class=\"dataframe\">\n",
       "  <thead>\n",
       "    <tr style=\"text-align: right;\">\n",
       "      <th></th>\n",
       "      <th>test_statistic</th>\n",
       "      <th>p</th>\n",
       "    </tr>\n",
       "  </thead>\n",
       "  <tbody>\n",
       "    <tr>\n",
       "      <th>0</th>\n",
       "      <td>8.51</td>\n",
       "      <td>&lt;0.005</td>\n",
       "    </tr>\n",
       "  </tbody>\n",
       "</table>"
      ],
      "text/plain": [
       "<IPython.core.display.HTML object>"
      ]
     },
     "metadata": {},
     "output_type": "display_data"
    },
    {
     "name": "stdout",
     "output_type": "stream",
     "text": [
      "0.003523127170818473\n",
      "8.5145774715141\n",
      "Computer Science\n"
     ]
    },
    {
     "data": {
      "text/html": [
       "<div>\n",
       "<style scoped>\n",
       "    .dataframe tbody tr th:only-of-type {\n",
       "        vertical-align: middle;\n",
       "    }\n",
       "\n",
       "    .dataframe tbody tr th {\n",
       "        vertical-align: top;\n",
       "    }\n",
       "\n",
       "    .dataframe thead th {\n",
       "        text-align: right;\n",
       "    }\n",
       "</style>\n",
       "<table border=\"1\" class=\"dataframe\">\n",
       "  <tbody>\n",
       "    <tr>\n",
       "      <th>t_0</th>\n",
       "      <td>-1</td>\n",
       "    </tr>\n",
       "    <tr>\n",
       "      <th>null_distribution</th>\n",
       "      <td>chi squared</td>\n",
       "    </tr>\n",
       "    <tr>\n",
       "      <th>degrees_of_freedom</th>\n",
       "      <td>1</td>\n",
       "    </tr>\n",
       "    <tr>\n",
       "      <th>test_name</th>\n",
       "      <td>logrank_test</td>\n",
       "    </tr>\n",
       "  </tbody>\n",
       "</table>\n",
       "</div><table border=\"1\" class=\"dataframe\">\n",
       "  <thead>\n",
       "    <tr style=\"text-align: right;\">\n",
       "      <th></th>\n",
       "      <th>test_statistic</th>\n",
       "      <th>p</th>\n",
       "    </tr>\n",
       "  </thead>\n",
       "  <tbody>\n",
       "    <tr>\n",
       "      <th>0</th>\n",
       "      <td>5.58</td>\n",
       "      <td>0.02</td>\n",
       "    </tr>\n",
       "  </tbody>\n",
       "</table>"
      ],
      "text/plain": [
       "<IPython.core.display.HTML object>"
      ]
     },
     "metadata": {},
     "output_type": "display_data"
    },
    {
     "name": "stdout",
     "output_type": "stream",
     "text": [
      "0.018200256971150564\n",
      "5.576770283206514\n",
      "Dynamics\n"
     ]
    },
    {
     "data": {
      "text/html": [
       "<div>\n",
       "<style scoped>\n",
       "    .dataframe tbody tr th:only-of-type {\n",
       "        vertical-align: middle;\n",
       "    }\n",
       "\n",
       "    .dataframe tbody tr th {\n",
       "        vertical-align: top;\n",
       "    }\n",
       "\n",
       "    .dataframe thead th {\n",
       "        text-align: right;\n",
       "    }\n",
       "</style>\n",
       "<table border=\"1\" class=\"dataframe\">\n",
       "  <tbody>\n",
       "    <tr>\n",
       "      <th>t_0</th>\n",
       "      <td>-1</td>\n",
       "    </tr>\n",
       "    <tr>\n",
       "      <th>null_distribution</th>\n",
       "      <td>chi squared</td>\n",
       "    </tr>\n",
       "    <tr>\n",
       "      <th>degrees_of_freedom</th>\n",
       "      <td>1</td>\n",
       "    </tr>\n",
       "    <tr>\n",
       "      <th>test_name</th>\n",
       "      <td>logrank_test</td>\n",
       "    </tr>\n",
       "  </tbody>\n",
       "</table>\n",
       "</div><table border=\"1\" class=\"dataframe\">\n",
       "  <thead>\n",
       "    <tr style=\"text-align: right;\">\n",
       "      <th></th>\n",
       "      <th>test_statistic</th>\n",
       "      <th>p</th>\n",
       "    </tr>\n",
       "  </thead>\n",
       "  <tbody>\n",
       "    <tr>\n",
       "      <th>0</th>\n",
       "      <td>1.55</td>\n",
       "      <td>0.21</td>\n",
       "    </tr>\n",
       "  </tbody>\n",
       "</table>"
      ],
      "text/plain": [
       "<IPython.core.display.HTML object>"
      ]
     },
     "metadata": {},
     "output_type": "display_data"
    },
    {
     "name": "stdout",
     "output_type": "stream",
     "text": [
      "0.21335560127642972\n",
      "1.5485095859461047\n",
      "Geometry\n"
     ]
    },
    {
     "data": {
      "text/html": [
       "<div>\n",
       "<style scoped>\n",
       "    .dataframe tbody tr th:only-of-type {\n",
       "        vertical-align: middle;\n",
       "    }\n",
       "\n",
       "    .dataframe tbody tr th {\n",
       "        vertical-align: top;\n",
       "    }\n",
       "\n",
       "    .dataframe thead th {\n",
       "        text-align: right;\n",
       "    }\n",
       "</style>\n",
       "<table border=\"1\" class=\"dataframe\">\n",
       "  <tbody>\n",
       "    <tr>\n",
       "      <th>t_0</th>\n",
       "      <td>-1</td>\n",
       "    </tr>\n",
       "    <tr>\n",
       "      <th>null_distribution</th>\n",
       "      <td>chi squared</td>\n",
       "    </tr>\n",
       "    <tr>\n",
       "      <th>degrees_of_freedom</th>\n",
       "      <td>1</td>\n",
       "    </tr>\n",
       "    <tr>\n",
       "      <th>test_name</th>\n",
       "      <td>logrank_test</td>\n",
       "    </tr>\n",
       "  </tbody>\n",
       "</table>\n",
       "</div><table border=\"1\" class=\"dataframe\">\n",
       "  <thead>\n",
       "    <tr style=\"text-align: right;\">\n",
       "      <th></th>\n",
       "      <th>test_statistic</th>\n",
       "      <th>p</th>\n",
       "    </tr>\n",
       "  </thead>\n",
       "  <tbody>\n",
       "    <tr>\n",
       "      <th>0</th>\n",
       "      <td>6.83</td>\n",
       "      <td>0.01</td>\n",
       "    </tr>\n",
       "  </tbody>\n",
       "</table>"
      ],
      "text/plain": [
       "<IPython.core.display.HTML object>"
      ]
     },
     "metadata": {},
     "output_type": "display_data"
    },
    {
     "name": "stdout",
     "output_type": "stream",
     "text": [
      "0.008974672126551491\n",
      "6.827860165177843\n",
      "Group theory\n"
     ]
    },
    {
     "data": {
      "text/html": [
       "<div>\n",
       "<style scoped>\n",
       "    .dataframe tbody tr th:only-of-type {\n",
       "        vertical-align: middle;\n",
       "    }\n",
       "\n",
       "    .dataframe tbody tr th {\n",
       "        vertical-align: top;\n",
       "    }\n",
       "\n",
       "    .dataframe thead th {\n",
       "        text-align: right;\n",
       "    }\n",
       "</style>\n",
       "<table border=\"1\" class=\"dataframe\">\n",
       "  <tbody>\n",
       "    <tr>\n",
       "      <th>t_0</th>\n",
       "      <td>-1</td>\n",
       "    </tr>\n",
       "    <tr>\n",
       "      <th>null_distribution</th>\n",
       "      <td>chi squared</td>\n",
       "    </tr>\n",
       "    <tr>\n",
       "      <th>degrees_of_freedom</th>\n",
       "      <td>1</td>\n",
       "    </tr>\n",
       "    <tr>\n",
       "      <th>test_name</th>\n",
       "      <td>logrank_test</td>\n",
       "    </tr>\n",
       "  </tbody>\n",
       "</table>\n",
       "</div><table border=\"1\" class=\"dataframe\">\n",
       "  <thead>\n",
       "    <tr style=\"text-align: right;\">\n",
       "      <th></th>\n",
       "      <th>test_statistic</th>\n",
       "      <th>p</th>\n",
       "    </tr>\n",
       "  </thead>\n",
       "  <tbody>\n",
       "    <tr>\n",
       "      <th>0</th>\n",
       "      <td>0.92</td>\n",
       "      <td>0.34</td>\n",
       "    </tr>\n",
       "  </tbody>\n",
       "</table>"
      ],
      "text/plain": [
       "<IPython.core.display.HTML object>"
      ]
     },
     "metadata": {},
     "output_type": "display_data"
    },
    {
     "name": "stdout",
     "output_type": "stream",
     "text": [
      "0.33785751825741184\n",
      "0.9185441623178412\n",
      "Harmonic analysis\n"
     ]
    },
    {
     "data": {
      "text/html": [
       "<div>\n",
       "<style scoped>\n",
       "    .dataframe tbody tr th:only-of-type {\n",
       "        vertical-align: middle;\n",
       "    }\n",
       "\n",
       "    .dataframe tbody tr th {\n",
       "        vertical-align: top;\n",
       "    }\n",
       "\n",
       "    .dataframe thead th {\n",
       "        text-align: right;\n",
       "    }\n",
       "</style>\n",
       "<table border=\"1\" class=\"dataframe\">\n",
       "  <tbody>\n",
       "    <tr>\n",
       "      <th>t_0</th>\n",
       "      <td>-1</td>\n",
       "    </tr>\n",
       "    <tr>\n",
       "      <th>null_distribution</th>\n",
       "      <td>chi squared</td>\n",
       "    </tr>\n",
       "    <tr>\n",
       "      <th>degrees_of_freedom</th>\n",
       "      <td>1</td>\n",
       "    </tr>\n",
       "    <tr>\n",
       "      <th>test_name</th>\n",
       "      <td>logrank_test</td>\n",
       "    </tr>\n",
       "  </tbody>\n",
       "</table>\n",
       "</div><table border=\"1\" class=\"dataframe\">\n",
       "  <thead>\n",
       "    <tr style=\"text-align: right;\">\n",
       "      <th></th>\n",
       "      <th>test_statistic</th>\n",
       "      <th>p</th>\n",
       "    </tr>\n",
       "  </thead>\n",
       "  <tbody>\n",
       "    <tr>\n",
       "      <th>0</th>\n",
       "      <td>0.67</td>\n",
       "      <td>0.41</td>\n",
       "    </tr>\n",
       "  </tbody>\n",
       "</table>"
      ],
      "text/plain": [
       "<IPython.core.display.HTML object>"
      ]
     },
     "metadata": {},
     "output_type": "display_data"
    },
    {
     "name": "stdout",
     "output_type": "stream",
     "text": [
      "0.4117651873370841\n",
      "0.6736982649696217\n",
      "History\n"
     ]
    },
    {
     "data": {
      "text/html": [
       "<div>\n",
       "<style scoped>\n",
       "    .dataframe tbody tr th:only-of-type {\n",
       "        vertical-align: middle;\n",
       "    }\n",
       "\n",
       "    .dataframe tbody tr th {\n",
       "        vertical-align: top;\n",
       "    }\n",
       "\n",
       "    .dataframe thead th {\n",
       "        text-align: right;\n",
       "    }\n",
       "</style>\n",
       "<table border=\"1\" class=\"dataframe\">\n",
       "  <tbody>\n",
       "    <tr>\n",
       "      <th>t_0</th>\n",
       "      <td>-1</td>\n",
       "    </tr>\n",
       "    <tr>\n",
       "      <th>null_distribution</th>\n",
       "      <td>chi squared</td>\n",
       "    </tr>\n",
       "    <tr>\n",
       "      <th>degrees_of_freedom</th>\n",
       "      <td>1</td>\n",
       "    </tr>\n",
       "    <tr>\n",
       "      <th>test_name</th>\n",
       "      <td>logrank_test</td>\n",
       "    </tr>\n",
       "  </tbody>\n",
       "</table>\n",
       "</div><table border=\"1\" class=\"dataframe\">\n",
       "  <thead>\n",
       "    <tr style=\"text-align: right;\">\n",
       "      <th></th>\n",
       "      <th>test_statistic</th>\n",
       "      <th>p</th>\n",
       "    </tr>\n",
       "  </thead>\n",
       "  <tbody>\n",
       "    <tr>\n",
       "      <th>0</th>\n",
       "      <td>1.00</td>\n",
       "      <td>0.32</td>\n",
       "    </tr>\n",
       "  </tbody>\n",
       "</table>"
      ],
      "text/plain": [
       "<IPython.core.display.HTML object>"
      ]
     },
     "metadata": {},
     "output_type": "display_data"
    },
    {
     "name": "stdout",
     "output_type": "stream",
     "text": [
      "0.31731050786291115\n",
      "1.0\n",
      "Lie Groups\n"
     ]
    },
    {
     "data": {
      "text/html": [
       "<div>\n",
       "<style scoped>\n",
       "    .dataframe tbody tr th:only-of-type {\n",
       "        vertical-align: middle;\n",
       "    }\n",
       "\n",
       "    .dataframe tbody tr th {\n",
       "        vertical-align: top;\n",
       "    }\n",
       "\n",
       "    .dataframe thead th {\n",
       "        text-align: right;\n",
       "    }\n",
       "</style>\n",
       "<table border=\"1\" class=\"dataframe\">\n",
       "  <tbody>\n",
       "    <tr>\n",
       "      <th>t_0</th>\n",
       "      <td>-1</td>\n",
       "    </tr>\n",
       "    <tr>\n",
       "      <th>null_distribution</th>\n",
       "      <td>chi squared</td>\n",
       "    </tr>\n",
       "    <tr>\n",
       "      <th>degrees_of_freedom</th>\n",
       "      <td>1</td>\n",
       "    </tr>\n",
       "    <tr>\n",
       "      <th>test_name</th>\n",
       "      <td>logrank_test</td>\n",
       "    </tr>\n",
       "  </tbody>\n",
       "</table>\n",
       "</div><table border=\"1\" class=\"dataframe\">\n",
       "  <thead>\n",
       "    <tr style=\"text-align: right;\">\n",
       "      <th></th>\n",
       "      <th>test_statistic</th>\n",
       "      <th>p</th>\n",
       "    </tr>\n",
       "  </thead>\n",
       "  <tbody>\n",
       "    <tr>\n",
       "      <th>0</th>\n",
       "      <td>1.34</td>\n",
       "      <td>0.25</td>\n",
       "    </tr>\n",
       "  </tbody>\n",
       "</table>"
      ],
      "text/plain": [
       "<IPython.core.display.HTML object>"
      ]
     },
     "metadata": {},
     "output_type": "display_data"
    },
    {
     "name": "stdout",
     "output_type": "stream",
     "text": [
      "0.24615661060627997\n",
      "1.3449858677408002\n",
      "Logic\n"
     ]
    },
    {
     "data": {
      "text/html": [
       "<div>\n",
       "<style scoped>\n",
       "    .dataframe tbody tr th:only-of-type {\n",
       "        vertical-align: middle;\n",
       "    }\n",
       "\n",
       "    .dataframe tbody tr th {\n",
       "        vertical-align: top;\n",
       "    }\n",
       "\n",
       "    .dataframe thead th {\n",
       "        text-align: right;\n",
       "    }\n",
       "</style>\n",
       "<table border=\"1\" class=\"dataframe\">\n",
       "  <tbody>\n",
       "    <tr>\n",
       "      <th>t_0</th>\n",
       "      <td>-1</td>\n",
       "    </tr>\n",
       "    <tr>\n",
       "      <th>null_distribution</th>\n",
       "      <td>chi squared</td>\n",
       "    </tr>\n",
       "    <tr>\n",
       "      <th>degrees_of_freedom</th>\n",
       "      <td>1</td>\n",
       "    </tr>\n",
       "    <tr>\n",
       "      <th>test_name</th>\n",
       "      <td>logrank_test</td>\n",
       "    </tr>\n",
       "  </tbody>\n",
       "</table>\n",
       "</div><table border=\"1\" class=\"dataframe\">\n",
       "  <thead>\n",
       "    <tr style=\"text-align: right;\">\n",
       "      <th></th>\n",
       "      <th>test_statistic</th>\n",
       "      <th>p</th>\n",
       "    </tr>\n",
       "  </thead>\n",
       "  <tbody>\n",
       "    <tr>\n",
       "      <th>0</th>\n",
       "      <td>3.23</td>\n",
       "      <td>0.07</td>\n",
       "    </tr>\n",
       "  </tbody>\n",
       "</table>"
      ],
      "text/plain": [
       "<IPython.core.display.HTML object>"
      ]
     },
     "metadata": {},
     "output_type": "display_data"
    },
    {
     "name": "stdout",
     "output_type": "stream",
     "text": [
      "0.07236539120802622\n",
      "3.2285351612671254\n",
      "Mathematical Physics\n"
     ]
    },
    {
     "data": {
      "text/html": [
       "<div>\n",
       "<style scoped>\n",
       "    .dataframe tbody tr th:only-of-type {\n",
       "        vertical-align: middle;\n",
       "    }\n",
       "\n",
       "    .dataframe tbody tr th {\n",
       "        vertical-align: top;\n",
       "    }\n",
       "\n",
       "    .dataframe thead th {\n",
       "        text-align: right;\n",
       "    }\n",
       "</style>\n",
       "<table border=\"1\" class=\"dataframe\">\n",
       "  <tbody>\n",
       "    <tr>\n",
       "      <th>t_0</th>\n",
       "      <td>-1</td>\n",
       "    </tr>\n",
       "    <tr>\n",
       "      <th>null_distribution</th>\n",
       "      <td>chi squared</td>\n",
       "    </tr>\n",
       "    <tr>\n",
       "      <th>degrees_of_freedom</th>\n",
       "      <td>1</td>\n",
       "    </tr>\n",
       "    <tr>\n",
       "      <th>test_name</th>\n",
       "      <td>logrank_test</td>\n",
       "    </tr>\n",
       "  </tbody>\n",
       "</table>\n",
       "</div><table border=\"1\" class=\"dataframe\">\n",
       "  <thead>\n",
       "    <tr style=\"text-align: right;\">\n",
       "      <th></th>\n",
       "      <th>test_statistic</th>\n",
       "      <th>p</th>\n",
       "    </tr>\n",
       "  </thead>\n",
       "  <tbody>\n",
       "    <tr>\n",
       "      <th>0</th>\n",
       "      <td>0.93</td>\n",
       "      <td>0.33</td>\n",
       "    </tr>\n",
       "  </tbody>\n",
       "</table>"
      ],
      "text/plain": [
       "<IPython.core.display.HTML object>"
      ]
     },
     "metadata": {},
     "output_type": "display_data"
    },
    {
     "name": "stdout",
     "output_type": "stream",
     "text": [
      "0.33442400631042163\n",
      "0.9316906092727837\n",
      "Number theory\n"
     ]
    },
    {
     "data": {
      "text/html": [
       "<div>\n",
       "<style scoped>\n",
       "    .dataframe tbody tr th:only-of-type {\n",
       "        vertical-align: middle;\n",
       "    }\n",
       "\n",
       "    .dataframe tbody tr th {\n",
       "        vertical-align: top;\n",
       "    }\n",
       "\n",
       "    .dataframe thead th {\n",
       "        text-align: right;\n",
       "    }\n",
       "</style>\n",
       "<table border=\"1\" class=\"dataframe\">\n",
       "  <tbody>\n",
       "    <tr>\n",
       "      <th>t_0</th>\n",
       "      <td>-1</td>\n",
       "    </tr>\n",
       "    <tr>\n",
       "      <th>null_distribution</th>\n",
       "      <td>chi squared</td>\n",
       "    </tr>\n",
       "    <tr>\n",
       "      <th>degrees_of_freedom</th>\n",
       "      <td>1</td>\n",
       "    </tr>\n",
       "    <tr>\n",
       "      <th>test_name</th>\n",
       "      <td>logrank_test</td>\n",
       "    </tr>\n",
       "  </tbody>\n",
       "</table>\n",
       "</div><table border=\"1\" class=\"dataframe\">\n",
       "  <thead>\n",
       "    <tr style=\"text-align: right;\">\n",
       "      <th></th>\n",
       "      <th>test_statistic</th>\n",
       "      <th>p</th>\n",
       "    </tr>\n",
       "  </thead>\n",
       "  <tbody>\n",
       "    <tr>\n",
       "      <th>0</th>\n",
       "      <td>7.20</td>\n",
       "      <td>0.01</td>\n",
       "    </tr>\n",
       "  </tbody>\n",
       "</table>"
      ],
      "text/plain": [
       "<IPython.core.display.HTML object>"
      ]
     },
     "metadata": {},
     "output_type": "display_data"
    },
    {
     "name": "stdout",
     "output_type": "stream",
     "text": [
      "0.007276565713974268\n",
      "7.203398408670752\n",
      "Other\n"
     ]
    },
    {
     "data": {
      "text/html": [
       "<div>\n",
       "<style scoped>\n",
       "    .dataframe tbody tr th:only-of-type {\n",
       "        vertical-align: middle;\n",
       "    }\n",
       "\n",
       "    .dataframe tbody tr th {\n",
       "        vertical-align: top;\n",
       "    }\n",
       "\n",
       "    .dataframe thead th {\n",
       "        text-align: right;\n",
       "    }\n",
       "</style>\n",
       "<table border=\"1\" class=\"dataframe\">\n",
       "  <tbody>\n",
       "    <tr>\n",
       "      <th>t_0</th>\n",
       "      <td>-1</td>\n",
       "    </tr>\n",
       "    <tr>\n",
       "      <th>null_distribution</th>\n",
       "      <td>chi squared</td>\n",
       "    </tr>\n",
       "    <tr>\n",
       "      <th>degrees_of_freedom</th>\n",
       "      <td>1</td>\n",
       "    </tr>\n",
       "    <tr>\n",
       "      <th>test_name</th>\n",
       "      <td>logrank_test</td>\n",
       "    </tr>\n",
       "  </tbody>\n",
       "</table>\n",
       "</div><table border=\"1\" class=\"dataframe\">\n",
       "  <thead>\n",
       "    <tr style=\"text-align: right;\">\n",
       "      <th></th>\n",
       "      <th>test_statistic</th>\n",
       "      <th>p</th>\n",
       "    </tr>\n",
       "  </thead>\n",
       "  <tbody>\n",
       "    <tr>\n",
       "      <th>0</th>\n",
       "      <td>1.61</td>\n",
       "      <td>0.20</td>\n",
       "    </tr>\n",
       "  </tbody>\n",
       "</table>"
      ],
      "text/plain": [
       "<IPython.core.display.HTML object>"
      ]
     },
     "metadata": {},
     "output_type": "display_data"
    },
    {
     "name": "stdout",
     "output_type": "stream",
     "text": [
      "0.2039736506866864\n",
      "1.6136916118356952\n",
      "PDE\n"
     ]
    },
    {
     "data": {
      "text/html": [
       "<div>\n",
       "<style scoped>\n",
       "    .dataframe tbody tr th:only-of-type {\n",
       "        vertical-align: middle;\n",
       "    }\n",
       "\n",
       "    .dataframe tbody tr th {\n",
       "        vertical-align: top;\n",
       "    }\n",
       "\n",
       "    .dataframe thead th {\n",
       "        text-align: right;\n",
       "    }\n",
       "</style>\n",
       "<table border=\"1\" class=\"dataframe\">\n",
       "  <tbody>\n",
       "    <tr>\n",
       "      <th>t_0</th>\n",
       "      <td>-1</td>\n",
       "    </tr>\n",
       "    <tr>\n",
       "      <th>null_distribution</th>\n",
       "      <td>chi squared</td>\n",
       "    </tr>\n",
       "    <tr>\n",
       "      <th>degrees_of_freedom</th>\n",
       "      <td>1</td>\n",
       "    </tr>\n",
       "    <tr>\n",
       "      <th>test_name</th>\n",
       "      <td>logrank_test</td>\n",
       "    </tr>\n",
       "  </tbody>\n",
       "</table>\n",
       "</div><table border=\"1\" class=\"dataframe\">\n",
       "  <thead>\n",
       "    <tr style=\"text-align: right;\">\n",
       "      <th></th>\n",
       "      <th>test_statistic</th>\n",
       "      <th>p</th>\n",
       "    </tr>\n",
       "  </thead>\n",
       "  <tbody>\n",
       "    <tr>\n",
       "      <th>0</th>\n",
       "      <td>6.38</td>\n",
       "      <td>0.01</td>\n",
       "    </tr>\n",
       "  </tbody>\n",
       "</table>"
      ],
      "text/plain": [
       "<IPython.core.display.HTML object>"
      ]
     },
     "metadata": {},
     "output_type": "display_data"
    },
    {
     "name": "stdout",
     "output_type": "stream",
     "text": [
      "0.011529865799471378\n",
      "6.381765888971634\n",
      "Probability\n"
     ]
    },
    {
     "data": {
      "text/html": [
       "<div>\n",
       "<style scoped>\n",
       "    .dataframe tbody tr th:only-of-type {\n",
       "        vertical-align: middle;\n",
       "    }\n",
       "\n",
       "    .dataframe tbody tr th {\n",
       "        vertical-align: top;\n",
       "    }\n",
       "\n",
       "    .dataframe thead th {\n",
       "        text-align: right;\n",
       "    }\n",
       "</style>\n",
       "<table border=\"1\" class=\"dataframe\">\n",
       "  <tbody>\n",
       "    <tr>\n",
       "      <th>t_0</th>\n",
       "      <td>-1</td>\n",
       "    </tr>\n",
       "    <tr>\n",
       "      <th>null_distribution</th>\n",
       "      <td>chi squared</td>\n",
       "    </tr>\n",
       "    <tr>\n",
       "      <th>degrees_of_freedom</th>\n",
       "      <td>1</td>\n",
       "    </tr>\n",
       "    <tr>\n",
       "      <th>test_name</th>\n",
       "      <td>logrank_test</td>\n",
       "    </tr>\n",
       "  </tbody>\n",
       "</table>\n",
       "</div><table border=\"1\" class=\"dataframe\">\n",
       "  <thead>\n",
       "    <tr style=\"text-align: right;\">\n",
       "      <th></th>\n",
       "      <th>test_statistic</th>\n",
       "      <th>p</th>\n",
       "    </tr>\n",
       "  </thead>\n",
       "  <tbody>\n",
       "    <tr>\n",
       "      <th>0</th>\n",
       "      <td>10.58</td>\n",
       "      <td>&lt;0.005</td>\n",
       "    </tr>\n",
       "  </tbody>\n",
       "</table>"
      ],
      "text/plain": [
       "<IPython.core.display.HTML object>"
      ]
     },
     "metadata": {},
     "output_type": "display_data"
    },
    {
     "name": "stdout",
     "output_type": "stream",
     "text": [
      "0.0011461426866852388\n",
      "10.575209670255262\n",
      "Statistics\n"
     ]
    },
    {
     "data": {
      "text/html": [
       "<div>\n",
       "<style scoped>\n",
       "    .dataframe tbody tr th:only-of-type {\n",
       "        vertical-align: middle;\n",
       "    }\n",
       "\n",
       "    .dataframe tbody tr th {\n",
       "        vertical-align: top;\n",
       "    }\n",
       "\n",
       "    .dataframe thead th {\n",
       "        text-align: right;\n",
       "    }\n",
       "</style>\n",
       "<table border=\"1\" class=\"dataframe\">\n",
       "  <tbody>\n",
       "    <tr>\n",
       "      <th>t_0</th>\n",
       "      <td>-1</td>\n",
       "    </tr>\n",
       "    <tr>\n",
       "      <th>null_distribution</th>\n",
       "      <td>chi squared</td>\n",
       "    </tr>\n",
       "    <tr>\n",
       "      <th>degrees_of_freedom</th>\n",
       "      <td>1</td>\n",
       "    </tr>\n",
       "    <tr>\n",
       "      <th>test_name</th>\n",
       "      <td>logrank_test</td>\n",
       "    </tr>\n",
       "  </tbody>\n",
       "</table>\n",
       "</div><table border=\"1\" class=\"dataframe\">\n",
       "  <thead>\n",
       "    <tr style=\"text-align: right;\">\n",
       "      <th></th>\n",
       "      <th>test_statistic</th>\n",
       "      <th>p</th>\n",
       "    </tr>\n",
       "  </thead>\n",
       "  <tbody>\n",
       "    <tr>\n",
       "      <th>0</th>\n",
       "      <td>2.15</td>\n",
       "      <td>0.14</td>\n",
       "    </tr>\n",
       "  </tbody>\n",
       "</table>"
      ],
      "text/plain": [
       "<IPython.core.display.HTML object>"
      ]
     },
     "metadata": {},
     "output_type": "display_data"
    },
    {
     "name": "stdout",
     "output_type": "stream",
     "text": [
      "0.14226271538051122\n",
      "2.1533119755501797\n"
     ]
    }
   ],
   "source": [
    "for i, j in standardized.groupby('Major field'):\n",
    "    print(i)\n",
    "    men = j[j.Gender == 'Male'].zscore\n",
    "    women = j[j.Gender == 'Female'].zscore\n",
    "    results = logrank_test(men, women)\n",
    "    results.print_summary()\n",
    "    print(results.p_value)\n",
    "    print(results.test_statistic)"
   ]
  },
  {
   "cell_type": "markdown",
   "metadata": {},
   "source": [
    "**Note** for exponential distribution, mean and standard deviation are the same!!!!"
   ]
  },
  {
   "cell_type": "code",
   "execution_count": 95,
   "metadata": {},
   "outputs": [
    {
     "data": {
      "text/html": [
       "<div>\n",
       "<style scoped>\n",
       "    .dataframe tbody tr th:only-of-type {\n",
       "        vertical-align: middle;\n",
       "    }\n",
       "\n",
       "    .dataframe tbody tr th {\n",
       "        vertical-align: top;\n",
       "    }\n",
       "\n",
       "    .dataframe thead th {\n",
       "        text-align: right;\n",
       "    }\n",
       "</style>\n",
       "<table border=\"1\" class=\"dataframe\">\n",
       "  <thead>\n",
       "    <tr style=\"text-align: right;\">\n",
       "      <th></th>\n",
       "      <th>School</th>\n",
       "      <th>Gender</th>\n",
       "      <th>Role</th>\n",
       "      <th>Citations</th>\n",
       "      <th>Earliest_Pub</th>\n",
       "      <th>Field_1</th>\n",
       "      <th>Field_2</th>\n",
       "      <th>Major field</th>\n",
       "      <th>Age</th>\n",
       "      <th>citperyear</th>\n",
       "      <th>citperyear13</th>\n",
       "      <th>zscore</th>\n",
       "    </tr>\n",
       "  </thead>\n",
       "  <tbody>\n",
       "    <tr>\n",
       "      <th>207</th>\n",
       "      <td>Columbia University in the City of New York</td>\n",
       "      <td>Male</td>\n",
       "      <td>Professor</td>\n",
       "      <td>1196</td>\n",
       "      <td>2008</td>\n",
       "      <td>Statistical mechanics, structure of matter</td>\n",
       "      <td>NaN</td>\n",
       "      <td>Mathematical Physics</td>\n",
       "      <td>12</td>\n",
       "      <td>99.666667</td>\n",
       "      <td>47.292858</td>\n",
       "      <td>4.933182</td>\n",
       "    </tr>\n",
       "    <tr>\n",
       "      <th>2433</th>\n",
       "      <td>University of Pennsylvania</td>\n",
       "      <td>Male</td>\n",
       "      <td>Professor</td>\n",
       "      <td>1080</td>\n",
       "      <td>2004</td>\n",
       "      <td>Statistical mechanics, structure of matter</td>\n",
       "      <td>NaN</td>\n",
       "      <td>Mathematical Physics</td>\n",
       "      <td>16</td>\n",
       "      <td>67.500000</td>\n",
       "      <td>29.381082</td>\n",
       "      <td>2.726570</td>\n",
       "    </tr>\n",
       "    <tr>\n",
       "      <th>1013</th>\n",
       "      <td>Rice University</td>\n",
       "      <td>Male</td>\n",
       "      <td>Professor</td>\n",
       "      <td>1731</td>\n",
       "      <td>1997</td>\n",
       "      <td>Quantum theory</td>\n",
       "      <td>NaN</td>\n",
       "      <td>Mathematical Physics</td>\n",
       "      <td>23</td>\n",
       "      <td>75.260870</td>\n",
       "      <td>29.379938</td>\n",
       "      <td>2.726429</td>\n",
       "    </tr>\n",
       "    <tr>\n",
       "      <th>2774</th>\n",
       "      <td>Yale University</td>\n",
       "      <td>Male</td>\n",
       "      <td>Professor</td>\n",
       "      <td>1801</td>\n",
       "      <td>1990</td>\n",
       "      <td>Statistical mechanics, structure of matter</td>\n",
       "      <td>NaN</td>\n",
       "      <td>Mathematical Physics</td>\n",
       "      <td>30</td>\n",
       "      <td>60.033333</td>\n",
       "      <td>21.639941</td>\n",
       "      <td>1.772913</td>\n",
       "    </tr>\n",
       "    <tr>\n",
       "      <th>1024</th>\n",
       "      <td>Rutgers University-New Brunswick</td>\n",
       "      <td>Male</td>\n",
       "      <td>Professor</td>\n",
       "      <td>2058</td>\n",
       "      <td>1984</td>\n",
       "      <td>Statistical mechanics, structure of matter</td>\n",
       "      <td>Partial differential equations</td>\n",
       "      <td>Mathematical Physics</td>\n",
       "      <td>36</td>\n",
       "      <td>57.166667</td>\n",
       "      <td>19.509769</td>\n",
       "      <td>1.510490</td>\n",
       "    </tr>\n",
       "    <tr>\n",
       "      <th>...</th>\n",
       "      <td>...</td>\n",
       "      <td>...</td>\n",
       "      <td>...</td>\n",
       "      <td>...</td>\n",
       "      <td>...</td>\n",
       "      <td>...</td>\n",
       "      <td>...</td>\n",
       "      <td>...</td>\n",
       "      <td>...</td>\n",
       "      <td>...</td>\n",
       "      <td>...</td>\n",
       "      <td>...</td>\n",
       "    </tr>\n",
       "    <tr>\n",
       "      <th>1543</th>\n",
       "      <td>University of California, Davis</td>\n",
       "      <td>Male</td>\n",
       "      <td>Professor</td>\n",
       "      <td>9</td>\n",
       "      <td>1992</td>\n",
       "      <td>Mechanics of particles and systems</td>\n",
       "      <td>NaN</td>\n",
       "      <td>Mathematical Physics</td>\n",
       "      <td>28</td>\n",
       "      <td>0.321429</td>\n",
       "      <td>0.118287</td>\n",
       "      <td>-0.878411</td>\n",
       "    </tr>\n",
       "    <tr>\n",
       "      <th>627</th>\n",
       "      <td>Massachusetts Institute of Technology</td>\n",
       "      <td>Male</td>\n",
       "      <td>Professor</td>\n",
       "      <td>20</td>\n",
       "      <td>1962</td>\n",
       "      <td>Quantum theory</td>\n",
       "      <td>NaN</td>\n",
       "      <td>Mathematical Physics</td>\n",
       "      <td>58</td>\n",
       "      <td>0.344828</td>\n",
       "      <td>0.101994</td>\n",
       "      <td>-0.880419</td>\n",
       "    </tr>\n",
       "    <tr>\n",
       "      <th>2469</th>\n",
       "      <td>University of Rochester</td>\n",
       "      <td>Male</td>\n",
       "      <td>Professor</td>\n",
       "      <td>11</td>\n",
       "      <td>1982</td>\n",
       "      <td>Statistical mechanics, structure of matter</td>\n",
       "      <td>NaN</td>\n",
       "      <td>Mathematical Physics</td>\n",
       "      <td>38</td>\n",
       "      <td>0.289474</td>\n",
       "      <td>0.097202</td>\n",
       "      <td>-0.881009</td>\n",
       "    </tr>\n",
       "    <tr>\n",
       "      <th>721</th>\n",
       "      <td>New Jersey Institute of Technology</td>\n",
       "      <td>Male</td>\n",
       "      <td>Professor</td>\n",
       "      <td>6</td>\n",
       "      <td>1990</td>\n",
       "      <td>Classical thermodynamics, heat transfer</td>\n",
       "      <td>NaN</td>\n",
       "      <td>Mathematical Physics</td>\n",
       "      <td>30</td>\n",
       "      <td>0.200000</td>\n",
       "      <td>0.072093</td>\n",
       "      <td>-0.884102</td>\n",
       "    </tr>\n",
       "    <tr>\n",
       "      <th>1367</th>\n",
       "      <td>The University of Texas at Dallas</td>\n",
       "      <td>Male</td>\n",
       "      <td>Professor</td>\n",
       "      <td>0</td>\n",
       "      <td>1970</td>\n",
       "      <td>Quantum theory</td>\n",
       "      <td>NaN</td>\n",
       "      <td>Mathematical Physics</td>\n",
       "      <td>50</td>\n",
       "      <td>0.000000</td>\n",
       "      <td>0.000000</td>\n",
       "      <td>-0.892984</td>\n",
       "    </tr>\n",
       "  </tbody>\n",
       "</table>\n",
       "<p>88 rows × 12 columns</p>\n",
       "</div>"
      ],
      "text/plain": [
       "                                           School Gender       Role  \\\n",
       "207   Columbia University in the City of New York   Male  Professor   \n",
       "2433                   University of Pennsylvania   Male  Professor   \n",
       "1013                              Rice University   Male  Professor   \n",
       "2774                              Yale University   Male  Professor   \n",
       "1024             Rutgers University-New Brunswick   Male  Professor   \n",
       "...                                           ...    ...        ...   \n",
       "1543              University of California, Davis   Male  Professor   \n",
       "627         Massachusetts Institute of Technology   Male  Professor   \n",
       "2469                      University of Rochester   Male  Professor   \n",
       "721            New Jersey Institute of Technology   Male  Professor   \n",
       "1367            The University of Texas at Dallas   Male  Professor   \n",
       "\n",
       "      Citations  Earliest_Pub                                     Field_1  \\\n",
       "207        1196          2008  Statistical mechanics, structure of matter   \n",
       "2433       1080          2004  Statistical mechanics, structure of matter   \n",
       "1013       1731          1997                              Quantum theory   \n",
       "2774       1801          1990  Statistical mechanics, structure of matter   \n",
       "1024       2058          1984  Statistical mechanics, structure of matter   \n",
       "...         ...           ...                                         ...   \n",
       "1543          9          1992          Mechanics of particles and systems   \n",
       "627          20          1962                              Quantum theory   \n",
       "2469         11          1982  Statistical mechanics, structure of matter   \n",
       "721           6          1990     Classical thermodynamics, heat transfer   \n",
       "1367          0          1970                              Quantum theory   \n",
       "\n",
       "                             Field_2           Major field  Age  citperyear  \\\n",
       "207                              NaN  Mathematical Physics   12   99.666667   \n",
       "2433                             NaN  Mathematical Physics   16   67.500000   \n",
       "1013                             NaN  Mathematical Physics   23   75.260870   \n",
       "2774                             NaN  Mathematical Physics   30   60.033333   \n",
       "1024  Partial differential equations  Mathematical Physics   36   57.166667   \n",
       "...                              ...                   ...  ...         ...   \n",
       "1543                             NaN  Mathematical Physics   28    0.321429   \n",
       "627                              NaN  Mathematical Physics   58    0.344828   \n",
       "2469                             NaN  Mathematical Physics   38    0.289474   \n",
       "721                              NaN  Mathematical Physics   30    0.200000   \n",
       "1367                             NaN  Mathematical Physics   50    0.000000   \n",
       "\n",
       "      citperyear13    zscore  \n",
       "207      47.292858  4.933182  \n",
       "2433     29.381082  2.726570  \n",
       "1013     29.379938  2.726429  \n",
       "2774     21.639941  1.772913  \n",
       "1024     19.509769  1.510490  \n",
       "...            ...       ...  \n",
       "1543      0.118287 -0.878411  \n",
       "627       0.101994 -0.880419  \n",
       "2469      0.097202 -0.881009  \n",
       "721       0.072093 -0.884102  \n",
       "1367      0.000000 -0.892984  \n",
       "\n",
       "[88 rows x 12 columns]"
      ]
     },
     "execution_count": 95,
     "metadata": {},
     "output_type": "execute_result"
    }
   ],
   "source": [
    "standardized[(standardized['Major field']== 'Mathematical Physics')& (standardized.Gender=='Male')]"
   ]
  },
  {
   "cell_type": "code",
   "execution_count": 96,
   "metadata": {},
   "outputs": [
    {
     "name": "stdout",
     "output_type": "stream",
     "text": [
      "<class 'pandas.core.frame.DataFrame'>\n",
      "Int64Index: 2807 entries, 1592 to 2296\n",
      "Data columns (total 11 columns):\n",
      " #   Column        Non-Null Count  Dtype  \n",
      "---  ------        --------------  -----  \n",
      " 0   School        2807 non-null   object \n",
      " 1   Gender        2807 non-null   object \n",
      " 2   Role          2807 non-null   object \n",
      " 3   Citations     2807 non-null   int64  \n",
      " 4   Earliest_Pub  2807 non-null   int64  \n",
      " 5   Field_1       2807 non-null   object \n",
      " 6   Field_2       237 non-null    object \n",
      " 7   Major field   2807 non-null   object \n",
      " 8   Age           2807 non-null   int64  \n",
      " 9   citperyear    2807 non-null   float64\n",
      " 10  citperyear13  2807 non-null   float64\n",
      "dtypes: float64(2), int64(3), object(6)\n",
      "memory usage: 263.2+ KB\n"
     ]
    }
   ],
   "source": [
    "df.info()"
   ]
  },
  {
   "cell_type": "code",
   "execution_count": 97,
   "metadata": {},
   "outputs": [],
   "source": [
    "ss = StandardScaler()"
   ]
  },
  {
   "cell_type": "code",
   "execution_count": 99,
   "metadata": {},
   "outputs": [],
   "source": [
    "zzscore = ss.fit_transform(standardized[['zscore']])"
   ]
  },
  {
   "cell_type": "code",
   "execution_count": 100,
   "metadata": {},
   "outputs": [
    {
     "data": {
      "text/plain": [
       "array([[11.88201505],\n",
       "       [ 9.12438053],\n",
       "       [ 7.71900794],\n",
       "       ...,\n",
       "       [-1.15437786],\n",
       "       [-1.15856129],\n",
       "       [-1.16035535]])"
      ]
     },
     "execution_count": 100,
     "metadata": {},
     "output_type": "execute_result"
    }
   ],
   "source": [
    "zzscore"
   ]
  },
  {
   "cell_type": "code",
   "execution_count": 102,
   "metadata": {},
   "outputs": [],
   "source": [
    "zzr = zzscore.ravel()"
   ]
  },
  {
   "cell_type": "code",
   "execution_count": 103,
   "metadata": {},
   "outputs": [
    {
     "data": {
      "text/plain": [
       "0.0"
      ]
     },
     "execution_count": 103,
     "metadata": {},
     "output_type": "execute_result"
    }
   ],
   "source": [
    "np.mean(zzr)"
   ]
  },
  {
   "cell_type": "code",
   "execution_count": 104,
   "metadata": {},
   "outputs": [
    {
     "data": {
      "text/plain": [
       "1.0"
      ]
     },
     "execution_count": 104,
     "metadata": {},
     "output_type": "execute_result"
    }
   ],
   "source": [
    "np.std(zzr)"
   ]
  },
  {
   "cell_type": "code",
   "execution_count": 105,
   "metadata": {},
   "outputs": [],
   "source": [
    "standardized['zzscore'] = zzr"
   ]
  },
  {
   "cell_type": "code",
   "execution_count": 107,
   "metadata": {},
   "outputs": [
    {
     "data": {
      "text/plain": [
       "0.035738334042847965"
      ]
     },
     "execution_count": 107,
     "metadata": {},
     "output_type": "execute_result"
    }
   ],
   "source": [
    "standardized[standardized.Gender == 'Male'].zzscore.mean()"
   ]
  },
  {
   "cell_type": "code",
   "execution_count": 108,
   "metadata": {},
   "outputs": [
    {
     "data": {
      "text/plain": [
       "-0.2878665164677147"
      ]
     },
     "execution_count": 108,
     "metadata": {},
     "output_type": "execute_result"
    }
   ],
   "source": [
    "standardized[standardized.Gender == 'Female'].zzscore.mean()"
   ]
  },
  {
   "cell_type": "code",
   "execution_count": 109,
   "metadata": {},
   "outputs": [
    {
     "data": {
      "text/plain": [
       "1.029227646675371"
      ]
     },
     "execution_count": 109,
     "metadata": {},
     "output_type": "execute_result"
    }
   ],
   "source": [
    "standardized[standardized.Gender == 'Male'].zzscore.std()"
   ]
  },
  {
   "cell_type": "code",
   "execution_count": 110,
   "metadata": {},
   "outputs": [
    {
     "data": {
      "text/plain": [
       "0.6587359577633307"
      ]
     },
     "execution_count": 110,
     "metadata": {},
     "output_type": "execute_result"
    }
   ],
   "source": [
    "standardized[standardized.Gender == 'Female'].zzscore.std()"
   ]
  },
  {
   "cell_type": "code",
   "execution_count": 111,
   "metadata": {},
   "outputs": [
    {
     "data": {
      "text/plain": [
       "310"
      ]
     },
     "execution_count": 111,
     "metadata": {},
     "output_type": "execute_result"
    }
   ],
   "source": [
    "len(standardized[standardized.Gender == 'Female'])"
   ]
  },
  {
   "cell_type": "code",
   "execution_count": 113,
   "metadata": {},
   "outputs": [
    {
     "data": {
      "text/plain": [
       "251"
      ]
     },
     "execution_count": 113,
     "metadata": {},
     "output_type": "execute_result"
    }
   ],
   "source": [
    "len(standardized[(standardized.Gender == 'Female') & (standardized.zzscore < 0.03)])"
   ]
  },
  {
   "cell_type": "code",
   "execution_count": 114,
   "metadata": {},
   "outputs": [
    {
     "data": {
      "text/plain": [
       "0.8096774193548387"
      ]
     },
     "execution_count": 114,
     "metadata": {},
     "output_type": "execute_result"
    }
   ],
   "source": [
    "251.0/310.0"
   ]
  },
  {
   "cell_type": "code",
   "execution_count": null,
   "metadata": {},
   "outputs": [],
   "source": []
  }
 ],
 "metadata": {
  "kernelspec": {
   "display_name": "Python 3",
   "language": "python",
   "name": "python3"
  },
  "language_info": {
   "codemirror_mode": {
    "name": "ipython",
    "version": 3
   },
   "file_extension": ".py",
   "mimetype": "text/x-python",
   "name": "python",
   "nbconvert_exporter": "python",
   "pygments_lexer": "ipython3",
   "version": "3.8.3"
  }
 },
 "nbformat": 4,
 "nbformat_minor": 2
}
